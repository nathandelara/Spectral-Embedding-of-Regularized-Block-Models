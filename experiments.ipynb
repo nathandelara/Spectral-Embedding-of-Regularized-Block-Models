{
 "cells": [
  {
   "cell_type": "markdown",
   "metadata": {},
   "source": [
    "## SPECTRAL EMBEDDING OF REGULARIZED BLOCK MODELS\n",
    "### Published as a conference paper at ICLR 2020\n",
    "PDF available [here](https://openreview.net/forum?id=H1l_0JBYwS)"
   ]
  },
  {
   "cell_type": "markdown",
   "metadata": {},
   "source": [
    "All dependencies are open-source and available on Pypi:\n",
    "* [numpy](https://pypi.org/project/numpy/)\n",
    "* [pandas](https://pypi.org/project/pandas/) (optional, for display of the results only)\n",
    "* [scipy](https://pypi.org/project/scipy/)\n",
    "* [scikit-learn](https://pypi.org/project/scikit-learn/)\n",
    "* [scikit-network](https://pypi.org/project/scikit-network/)"
   ]
  },
  {
   "cell_type": "markdown",
   "metadata": {},
   "source": [
    "## 5 EXPERIMENTS"
   ]
  },
  {
   "cell_type": "code",
   "execution_count": 1,
   "metadata": {},
   "outputs": [],
   "source": [
    "from decimal import Decimal\n",
    "\n",
    "import numpy as np\n",
    "import pandas as pd\n",
    "from scipy import sparse\n",
    "\n",
    "from sklearn import metrics\n",
    "from sklearn.cluster import KMeans\n",
    "\n",
    "from sknetwork.clustering import modularity\n",
    "from sknetwork.embedding import Spectral, BiSpectral\n",
    "from sknetwork.utils import bipartite2undirected\n",
    "from sknetwork.utils.checks import is_square, is_symmetric"
   ]
  },
  {
   "cell_type": "code",
   "execution_count": 2,
   "metadata": {},
   "outputs": [],
   "source": [
    "import matplotlib.pyplot as plt\n",
    "%matplotlib inline"
   ]
  },
  {
   "cell_type": "code",
   "execution_count": 3,
   "metadata": {},
   "outputs": [],
   "source": [
    "import warnings\n",
    "warnings.filterwarnings(\"ignore\")"
   ]
  },
  {
   "cell_type": "markdown",
   "metadata": {},
   "source": [
    "### 5.1 TOY GRAPH"
   ]
  },
  {
   "cell_type": "code",
   "execution_count": 4,
   "metadata": {},
   "outputs": [],
   "source": [
    "blocks = np.zeros((10, 10))\n",
    "blocks[0:5, 0:5] = 1\n",
    "blocks[5:8, 5:8] = 1\n",
    "blocks[8:, 8:] = 1\n",
    "\n",
    "α_1 = 0.1\n",
    "α_2 = 1."
   ]
  },
  {
   "cell_type": "code",
   "execution_count": 5,
   "metadata": {},
   "outputs": [],
   "source": [
    "def mu(x, α=1.):\n",
    "    x = abs(x)\n",
    "    return 1 / (1 + x / α)"
   ]
  },
  {
   "cell_type": "code",
   "execution_count": 6,
   "metadata": {},
   "outputs": [
    {
     "data": {
      "text/plain": [
       "array([[ 0.18887303,  0.0062606 ],\n",
       "       [ 0.18887303,  0.0062606 ],\n",
       "       [ 0.18887303,  0.0062606 ],\n",
       "       [ 0.18887303,  0.0062606 ],\n",
       "       [ 0.18887303,  0.0062606 ],\n",
       "       [-0.1084915 , -0.01810932],\n",
       "       [-0.1084915 , -0.01810932],\n",
       "       [-0.1084915 , -0.01810932],\n",
       "       [-0.02366849,  0.49901618],\n",
       "       [-0.02366849,  0.49901618]])"
      ]
     },
     "execution_count": 6,
     "metadata": {},
     "output_type": "execute_result"
    }
   ],
   "source": [
    "spc = Spectral(embedding_dimension=2, regularization=None, relative_regularization=False, scaling=None).fit(blocks)\n",
    "spc.embedding_"
   ]
  },
  {
   "cell_type": "code",
   "execution_count": 7,
   "metadata": {},
   "outputs": [],
   "source": [
    "spc.regularization = α_1\n",
    "spc.fit(blocks)\n",
    "eigvals_1 = spc.eigenvalues_"
   ]
  },
  {
   "cell_type": "code",
   "execution_count": 8,
   "metadata": {},
   "outputs": [
    {
     "data": {
      "text/plain": [
       "array([[ 0.07563759,  0.01912882],\n",
       "       [ 0.07563759,  0.01912882],\n",
       "       [ 0.07563759,  0.01912882],\n",
       "       [ 0.07563759,  0.01912882],\n",
       "       [ 0.07563759,  0.01912882],\n",
       "       [-0.11427685,  0.07304416],\n",
       "       [-0.11427685,  0.07304416],\n",
       "       [-0.11427685,  0.07304416],\n",
       "       [-0.05066758, -0.17847433],\n",
       "       [-0.05066758, -0.17847433]])"
      ]
     },
     "execution_count": 8,
     "metadata": {},
     "output_type": "execute_result"
    }
   ],
   "source": [
    "spc.regularization = α_2\n",
    "spc.fit(blocks)\n",
    "eigvals_2 = spc.eigenvalues_\n",
    "spc.embedding_"
   ]
  },
  {
   "cell_type": "code",
   "execution_count": 9,
   "metadata": {},
   "outputs": [
    {
     "data": {
      "text/plain": [
       "(array([0.21517576, 0.30982424]), array([0.72481921, 0.81364233]))"
      ]
     },
     "execution_count": 9,
     "metadata": {},
     "output_type": "execute_result"
    }
   ],
   "source": [
    "eigvals_1, eigvals_2"
   ]
  },
  {
   "cell_type": "code",
   "execution_count": 10,
   "metadata": {},
   "outputs": [],
   "source": [
    "intervals_1 = mu(np.array([5, 3, 2]) / 10, α_1)\n",
    "intervals_2 = mu(np.array([5, 3, 2]) / 10, α_2)"
   ]
  },
  {
   "cell_type": "code",
   "execution_count": 11,
   "metadata": {},
   "outputs": [
    {
     "data": {
      "text/plain": [
       "(array([0.16666667, 0.25      , 0.33333333]),\n",
       " array([0.66666667, 0.76923077, 0.83333333]))"
      ]
     },
     "execution_count": 11,
     "metadata": {},
     "output_type": "execute_result"
    }
   ],
   "source": [
    "intervals_1, intervals_2"
   ]
  },
  {
   "cell_type": "code",
   "execution_count": 12,
   "metadata": {},
   "outputs": [
    {
     "data": {
      "image/png": "[encoded data removed]",
      "text/plain": [
       "<Figure size 432x288 with 1 Axes>"
      ]
     },
     "metadata": {
      "needs_background": "light"
     },
     "output_type": "display_data"
    }
   ],
   "source": [
    "x = np.linspace(1e-2, 1, 100)\n",
    "fig, ax = plt.subplots()\n",
    "\n",
    "ax.plot(x, eigvals_2[0] * np.ones(x.shape[0]), label=r'$\\lambda_1$', linestyle='dotted', c='tab:orange')\n",
    "ax.plot(x, eigvals_2[1] * np.ones(x.shape[0]), label=r'$\\lambda_2$', linestyle='dashed', c='tab:green')\n",
    "ax.plot(x, mu(x, α_2), label=r'$\\mu_{\\alpha}(x)$', c='tab:blue')\n",
    "ax.scatter([0.5, 0.3, 0.2], intervals_2, c='r', label=r'$\\mu_k$')\n",
    "\n",
    "ax.set_xlabel(r'$x$')\n",
    "ax.invert_xaxis()\n",
    "ax.legend()\n",
    "plt.savefig('intervals.pdf', format='pdf')\n",
    "plt.show()"
   ]
  },
  {
   "cell_type": "code",
   "execution_count": 13,
   "metadata": {},
   "outputs": [
    {
     "data": {
      "image/png": "[encoded data removed]",
      "text/plain": [
       "<Figure size 432x288 with 1 Axes>"
      ]
     },
     "metadata": {
      "needs_background": "light"
     },
     "output_type": "display_data"
    }
   ],
   "source": [
    "fig, ax = plt.subplots()\n",
    "\n",
    "ax.plot(x, mu(x, 0.01), label=r'$\\alpha = 0.01$', linestyle='solid')\n",
    "ax.plot(x, mu(x, 0.1), label=r'$\\alpha = 0.1$', linestyle='dotted')\n",
    "ax.plot(x, mu(x, 1.0), label=r'$\\alpha = 1.0$', linestyle='dashed')\n",
    "ax.plot(x, mu(x, 10.), label=r'$\\alpha = 10$', linestyle='dashdot')\n",
    "\n",
    "ax.set_xlabel(r'$x$')\n",
    "ax.set_ylabel(r'$\\mu_{\\alpha}(x)$')\n",
    "ax.invert_xaxis()\n",
    "ax.legend(loc='upper left')\n",
    "plt.savefig('mu.pdf', format='pdf')\n",
    "plt.show()"
   ]
  },
  {
   "cell_type": "markdown",
   "metadata": {},
   "source": [
    "### 5.2 DATASETS"
   ]
  },
  {
   "cell_type": "code",
   "execution_count": 14,
   "metadata": {},
   "outputs": [],
   "source": [
    "def block_model(sizes, in_deg, out_deg):\n",
    "    n = sizes.sum()\n",
    "    k = sizes.shape[0]\n",
    "    \n",
    "    in_blocks = []\n",
    "    out_blocks = []\n",
    "    for i in range(k):\n",
    "        in_blocks.append(sparse.random(sizes[i], sizes[i], in_deg[i] / n))\n",
    "        out_blocks.append(sparse.random(sizes[i], n, out_deg[i] / n))\n",
    "        \n",
    "    in_matrix = sparse.block_diag(in_blocks, format='csr')\n",
    "    out_matrix = sparse.bmat([[block] for block in out_blocks], format='csr')\n",
    "    matrix = in_matrix + out_matrix\n",
    "    matrix = 0.5 * (matrix + matrix.T)\n",
    "    matrix.data = (matrix.data > 0)\n",
    "    matrix += sparse.eye(matrix.shape[0], format='csr')\n",
    "    matrix.data = matrix.data.astype(float)\n",
    "    \n",
    "    return matrix"
   ]
  },
  {
   "cell_type": "code",
   "execution_count": 15,
   "metadata": {},
   "outputs": [
    {
     "data": {
      "text/plain": [
       "((10723, 22294), 2077336)"
      ]
     },
     "execution_count": 15,
     "metadata": {},
     "output_type": "execute_result"
    }
   ],
   "source": [
    "newsgroup = sparse.load_npz('20newsgroup/20newsgroup.npz')\n",
    "newsgroup_truth = np.loadtxt('20newsgroup/labels.txt', dtype=int)\n",
    "\n",
    "newsgroup_K_true = len(set(newsgroup_truth))\n",
    "newsgroup_all_k = [2, int(newsgroup_K_true / 2), newsgroup_K_true]\n",
    "\n",
    "newsgroup.shape, 2 * newsgroup.nnz"
   ]
  },
  {
   "cell_type": "code",
   "execution_count": 16,
   "metadata": {},
   "outputs": [
    {
     "data": {
      "text/plain": [
       "((4591, 4591), 213138)"
      ]
     },
     "execution_count": 16,
     "metadata": {},
     "output_type": "execute_result"
    }
   ],
   "source": [
    "wikipedia = sparse.load_npz('wikipedia/wikipedia.npz')\n",
    "wikipedia_truth = np.loadtxt('wikipedia/labels.txt', dtype=int)\n",
    "\n",
    "wikipedia_K_true = len(set(wikipedia_truth))\n",
    "wikipedia_all_k = [2, int(wikipedia_K_true / 2), wikipedia_K_true]\n",
    "\n",
    "wikipedia.shape, wikipedia.nnz"
   ]
  },
  {
   "cell_type": "markdown",
   "metadata": {},
   "source": [
    "### 5.3 METRICS"
   ]
  },
  {
   "cell_type": "code",
   "execution_count": 17,
   "metadata": {},
   "outputs": [],
   "source": [
    "def norm_sdt(labels: np.ndarray) -> float:\n",
    "    \"\"\"Normalized Standard Deviation.\n",
    "    \"\"\"\n",
    "    n = labels.shape[0]\n",
    "    counts = np.unique(labels, return_counts=True)[1]\n",
    "    k = counts.shape[0]\n",
    "    return 1 - np.std(counts) / np.sqrt(n**2 * (k - 1) / k**2)"
   ]
  },
  {
   "cell_type": "code",
   "execution_count": 18,
   "metadata": {},
   "outputs": [],
   "source": [
    "def all_metrics(adjacency, labels: np.ndarray, labels_true: np.ndarray) -> dict:\n",
    "    \"\"\"Compute all the clustering metrics and store the output in a dictionary.\n",
    "    \"\"\"\n",
    "    n_labels = len(set(labels))\n",
    "        \n",
    "    output = {}\n",
    "    output['ARI'] = metrics.adjusted_rand_score(labels_pred=labels, labels_true=labels_true)\n",
    "    h, c, v = metrics.homogeneity_completeness_v_measure(labels_pred=labels, labels_true=labels_true)\n",
    "    output['H'] = h\n",
    "    output['C'] = c\n",
    "    output['V'] = v\n",
    "    output['AMI'] = metrics.adjusted_mutual_info_score(labels_pred=labels, labels_true=labels_true, average_method='arithmetic')\n",
    "    output['FMI'] = metrics.fowlkes_mallows_score(labels_pred=labels, labels_true=labels_true)\n",
    "    if adjacency.shape[0] == adjacency.shape[1]:\n",
    "        output['Q'] = modularity(adjacency, labels)\n",
    "    else:\n",
    "        features_degrees = sparse.diags(adjacency.T.dot(np.ones(adjacency.shape[0])), format='csr')\n",
    "        features_degrees.data = 1 / features_degrees.data\n",
    "        output['Q'] = modularity(adjacency.dot(features_degrees).dot(adjacency.T), labels)\n",
    "    output['NSD'] = norm_sdt(labels)\n",
    "    \n",
    "    return output"
   ]
  },
  {
   "cell_type": "markdown",
   "metadata": {},
   "source": [
    "### 5.4 EXPERIMENTAL SETUP"
   ]
  },
  {
   "cell_type": "code",
   "execution_count": 19,
   "metadata": {},
   "outputs": [],
   "source": [
    "def display_results(results):\n",
    "    \"\"\"Display the results in a DataFrame\n",
    "    \"\"\"\n",
    "    df = pd.DataFrame(index=results.keys(), columns=['H', 'C', 'V', 'ARI', 'AMI', 'FMI', 'Q', 'NSD'], dtype=float)\n",
    "    \n",
    "    for algo, res in results.items():\n",
    "        for key, item in res.items():\n",
    "            df.at[algo, key] = item\n",
    "    return df.round(2)"
   ]
  },
  {
   "cell_type": "code",
   "execution_count": 20,
   "metadata": {},
   "outputs": [],
   "source": [
    "def highlight_max(s):\n",
    "    '''\n",
    "    highlight the maximum in a Series yellow.\n",
    "    '''\n",
    "    is_max = s == s.max()\n",
    "    return ['background-color: yellow' if v else '' for v in is_max]\n",
    "\n",
    "def highlight_df(df):\n",
    "    return df.style.apply(highlight_max)"
   ]
  },
  {
   "cell_type": "code",
   "execution_count": 21,
   "metadata": {},
   "outputs": [],
   "source": [
    "# embedding dimension\n",
    "n_dim = 20\n",
    "# alpha values\n",
    "α_vals = [0., 1e-1, 1., 10.]\n",
    "α_strs = ['%.0E' % Decimal(str(val)) for val in α_vals]\n",
    "\n",
    "# block model parameters\n",
    "n_blocks = 100\n",
    "sizes = 20 * np.ones(100, dtype=int)\n",
    "sbm_truth = np.kron(np.arange(100), np.ones(20))\n",
    "in_deg = np.array([10]*50 + [1]*50)\n",
    "out_deg = 2 * np.ones(n_blocks)\n",
    "# number of block model samples\n",
    "n_sbm = 10\n",
    "\n",
    "#noise values\n",
    "noise_vals = [0., 0.01, 0.05, 0.1]"
   ]
  },
  {
   "cell_type": "code",
   "execution_count": 22,
   "metadata": {},
   "outputs": [],
   "source": [
    "# use option \"solver='halko'\" for faster but less accurate embeddings.\n",
    "spectral = Spectral(embedding_dimension=n_dim, solver='lanczos', scaling=None)\n",
    "svd = BiSpectral(embedding_dimension=n_dim, solver='lanczos', scaling=None)"
   ]
  },
  {
   "cell_type": "code",
   "execution_count": 23,
   "metadata": {},
   "outputs": [],
   "source": [
    "def add_noise(adjacency, fraction: float):\n",
    "    \"\"\"\n",
    "    Add isolated nodes to an adjacency matrix or isolated pairs to a biadjacency matrix.\n",
    "    \"\"\"\n",
    "    n_samples = adjacency.shape[0]\n",
    "    n_outliers = int(fraction * n_samples)\n",
    "    \n",
    "    return sparse.bmat([[adjacency, None], [None, sparse.eye(n_outliers, format='csr')]], format='csr')"
   ]
  },
  {
   "cell_type": "code",
   "execution_count": 24,
   "metadata": {},
   "outputs": [],
   "source": [
    "def get_all_scores(algo, adjacency, labels_true, n_clusters, α_vals=α_vals, noise=0.):\n",
    "    \"\"\"\n",
    "    Compute all scores on a given dataset.\n",
    "    \"\"\"\n",
    "    \n",
    "    n_true = len(set(labels_true))\n",
    "    if type(n_clusters)==int:\n",
    "        n_clusters = [n_clusters]\n",
    "    if type(α_vals)==float:\n",
    "        α_vals = [α_vals]\n",
    "        \n",
    "    results = {key: {} for key in n_clusters}\n",
    "        \n",
    "    for i, α in enumerate(α_vals):\n",
    "        α_key = '%.0E' % Decimal(str(α))\n",
    "        algo.regularization = α\n",
    "        \n",
    "        if isinstance(algo, Spectral):\n",
    "            algo.fit(add_noise(bipartite2undirected(adjacency), noise))\n",
    "        else:\n",
    "            algo.fit(add_noise(adjacency, noise))\n",
    "        \n",
    "        for k in n_clusters:\n",
    "            km = KMeans(n_clusters=k)\n",
    "            max_dim = min(algo.embedding_dimension, k)\n",
    "            km.fit(algo.embedding_[:, :max_dim])\n",
    "            \n",
    "            scores_ = all_metrics(adjacency, km.labels_[:len(labels_true)], labels_true)\n",
    "            results[k][α_key] = scores_        \n",
    "    \n",
    "    return results"
   ]
  },
  {
   "cell_type": "code",
   "execution_count": 25,
   "metadata": {},
   "outputs": [],
   "source": [
    "def test_noise(algo, adjacency, labels_true, n_clusters, α=1., noise_vals=noise_vals):\n",
    "    α_key = '%.0E' % Decimal(str(α))\n",
    "    results = {}\n",
    "    \n",
    "    for noise in noise_vals:\n",
    "        results[noise] = get_all_scores(algo, adjacency, labels_true, n_clusters, α, noise)[n_clusters][α_key]\n",
    "    \n",
    "    return results"
   ]
  },
  {
   "cell_type": "code",
   "execution_count": 26,
   "metadata": {},
   "outputs": [],
   "source": [
    "def undir_vs_bipartite(biadjacency, labels_true, n_clusters, α=1.):\n",
    "    results = {key: {} for key in n_clusters}\n",
    "    \n",
    "    n_true = len(set(labels_true))\n",
    "    if type(n_clusters)==int:\n",
    "        n_clusters = [n_clusters]\n",
    "        \n",
    "    spectral.regularization = α\n",
    "    spectral.fit(bipartite2undirected(biadjacency))\n",
    "    svd.regularization = α\n",
    "    svd.fit(biadjacency)\n",
    "    \n",
    "    for k in n_clusters:\n",
    "        km = KMeans(n_clusters=k)\n",
    "        max_dim = min(svd.embedding_dimension, k)\n",
    "        \n",
    "        km.fit(spectral.embedding_[:, :max_dim])\n",
    "        results[k]['A'] = all_metrics(biadjacency, km.labels_[:len(labels_true)], labels_true)\n",
    "        km.fit(svd.embedding_[:, :max_dim])\n",
    "        results[k]['B'] = all_metrics(biadjacency, km.labels_[:len(labels_true)], labels_true)\n",
    "\n",
    "    return results"
   ]
  },
  {
   "cell_type": "markdown",
   "metadata": {},
   "source": [
    "### 5.5 RESULTS"
   ]
  },
  {
   "cell_type": "markdown",
   "metadata": {},
   "source": [
    "### Stochastique Block Model"
   ]
  },
  {
   "cell_type": "code",
   "execution_count": 27,
   "metadata": {},
   "outputs": [],
   "source": [
    "cols = ['H', 'C', 'V', 'ARI', 'AMI', 'FMI', 'Q', 'NSD']\n",
    "df0_mean = pd.DataFrame(index=α_strs, columns=cols, data=np.zeros((len(α_strs), len(cols))))\n",
    "df1_mean = pd.DataFrame(index=α_strs, columns=cols, data=np.zeros((len(α_strs), len(cols))))\n",
    "df2_mean = pd.DataFrame(index=α_strs, columns=cols, data=np.zeros((len(α_strs), len(cols))))\n",
    "\n",
    "for i in range(n_sbm):\n",
    "\n",
    "    #sbm, _, _ = block_model(sizes, inner_prob=inner_proba, outer_prob=outer_proba)\n",
    "    sbm = block_model(sizes, in_deg, out_deg)\n",
    "    sbm_K_true = len(set(sbm_truth))\n",
    "    sbm_all_k = [2, int(sbm_K_true / 2), sbm_K_true]\n",
    "    \n",
    "    results = get_all_scores(spectral, sbm, sbm_truth, n_clusters=sbm_all_k)\n",
    "    df0_mean += display_results(results[sbm_all_k[0]])\n",
    "    df1_mean += display_results(results[sbm_all_k[1]])\n",
    "    df2_mean += display_results(results[sbm_all_k[2]])\n",
    "    \n",
    "df0_mean /= n_sbm\n",
    "df1_mean /= n_sbm\n",
    "df2_mean /= n_sbm"
   ]
  },
  {
   "cell_type": "code",
   "execution_count": 28,
   "metadata": {},
   "outputs": [
    {
     "data": {
      "text/html": [
       "<style  type=\"text/css\" >\n",
       "    #T_9b7914aa_3ba5_11ea_a9b3_e4b97a150197row0_col1 {\n",
       "            background-color:  yellow;\n",
       "        }    #T_9b7914aa_3ba5_11ea_a9b3_e4b97a150197row0_col3 {\n",
       "            background-color:  yellow;\n",
       "        }    #T_9b7914aa_3ba5_11ea_a9b3_e4b97a150197row0_col4 {\n",
       "            background-color:  yellow;\n",
       "        }    #T_9b7914aa_3ba5_11ea_a9b3_e4b97a150197row0_col5 {\n",
       "            background-color:  yellow;\n",
       "        }    #T_9b7914aa_3ba5_11ea_a9b3_e4b97a150197row1_col3 {\n",
       "            background-color:  yellow;\n",
       "        }    #T_9b7914aa_3ba5_11ea_a9b3_e4b97a150197row1_col4 {\n",
       "            background-color:  yellow;\n",
       "        }    #T_9b7914aa_3ba5_11ea_a9b3_e4b97a150197row1_col5 {\n",
       "            background-color:  yellow;\n",
       "        }    #T_9b7914aa_3ba5_11ea_a9b3_e4b97a150197row2_col0 {\n",
       "            background-color:  yellow;\n",
       "        }    #T_9b7914aa_3ba5_11ea_a9b3_e4b97a150197row2_col2 {\n",
       "            background-color:  yellow;\n",
       "        }    #T_9b7914aa_3ba5_11ea_a9b3_e4b97a150197row2_col3 {\n",
       "            background-color:  yellow;\n",
       "        }    #T_9b7914aa_3ba5_11ea_a9b3_e4b97a150197row2_col4 {\n",
       "            background-color:  yellow;\n",
       "        }    #T_9b7914aa_3ba5_11ea_a9b3_e4b97a150197row2_col6 {\n",
       "            background-color:  yellow;\n",
       "        }    #T_9b7914aa_3ba5_11ea_a9b3_e4b97a150197row2_col7 {\n",
       "            background-color:  yellow;\n",
       "        }    #T_9b7914aa_3ba5_11ea_a9b3_e4b97a150197row3_col0 {\n",
       "            background-color:  yellow;\n",
       "        }    #T_9b7914aa_3ba5_11ea_a9b3_e4b97a150197row3_col2 {\n",
       "            background-color:  yellow;\n",
       "        }    #T_9b7914aa_3ba5_11ea_a9b3_e4b97a150197row3_col3 {\n",
       "            background-color:  yellow;\n",
       "        }    #T_9b7914aa_3ba5_11ea_a9b3_e4b97a150197row3_col4 {\n",
       "            background-color:  yellow;\n",
       "        }</style><table id=\"T_9b7914aa_3ba5_11ea_a9b3_e4b97a150197\" ><thead>    <tr>        <th class=\"blank level0\" ></th>        <th class=\"col_heading level0 col0\" >H</th>        <th class=\"col_heading level0 col1\" >C</th>        <th class=\"col_heading level0 col2\" >V</th>        <th class=\"col_heading level0 col3\" >ARI</th>        <th class=\"col_heading level0 col4\" >AMI</th>        <th class=\"col_heading level0 col5\" >FMI</th>        <th class=\"col_heading level0 col6\" >Q</th>        <th class=\"col_heading level0 col7\" >NSD</th>    </tr></thead><tbody>\n",
       "                <tr>\n",
       "                        <th id=\"T_9b7914aa_3ba5_11ea_a9b3_e4b97a150197level0_row0\" class=\"row_heading level0 row0\" >0E+00</th>\n",
       "                        <td id=\"T_9b7914aa_3ba5_11ea_a9b3_e4b97a150197row0_col0\" class=\"data row0 col0\" >0</td>\n",
       "                        <td id=\"T_9b7914aa_3ba5_11ea_a9b3_e4b97a150197row0_col1\" class=\"data row0 col1\" >0.41</td>\n",
       "                        <td id=\"T_9b7914aa_3ba5_11ea_a9b3_e4b97a150197row0_col2\" class=\"data row0 col2\" >0</td>\n",
       "                        <td id=\"T_9b7914aa_3ba5_11ea_a9b3_e4b97a150197row0_col3\" class=\"data row0 col3\" >0</td>\n",
       "                        <td id=\"T_9b7914aa_3ba5_11ea_a9b3_e4b97a150197row0_col4\" class=\"data row0 col4\" >0</td>\n",
       "                        <td id=\"T_9b7914aa_3ba5_11ea_a9b3_e4b97a150197row0_col5\" class=\"data row0 col5\" >0.1</td>\n",
       "                        <td id=\"T_9b7914aa_3ba5_11ea_a9b3_e4b97a150197row0_col6\" class=\"data row0 col6\" >0</td>\n",
       "                        <td id=\"T_9b7914aa_3ba5_11ea_a9b3_e4b97a150197row0_col7\" class=\"data row0 col7\" >0.01</td>\n",
       "            </tr>\n",
       "            <tr>\n",
       "                        <th id=\"T_9b7914aa_3ba5_11ea_a9b3_e4b97a150197level0_row1\" class=\"row_heading level0 row1\" >1E-01</th>\n",
       "                        <td id=\"T_9b7914aa_3ba5_11ea_a9b3_e4b97a150197row1_col0\" class=\"data row1 col0\" >0</td>\n",
       "                        <td id=\"T_9b7914aa_3ba5_11ea_a9b3_e4b97a150197row1_col1\" class=\"data row1 col1\" >0.37</td>\n",
       "                        <td id=\"T_9b7914aa_3ba5_11ea_a9b3_e4b97a150197row1_col2\" class=\"data row1 col2\" >0</td>\n",
       "                        <td id=\"T_9b7914aa_3ba5_11ea_a9b3_e4b97a150197row1_col3\" class=\"data row1 col3\" >0</td>\n",
       "                        <td id=\"T_9b7914aa_3ba5_11ea_a9b3_e4b97a150197row1_col4\" class=\"data row1 col4\" >0</td>\n",
       "                        <td id=\"T_9b7914aa_3ba5_11ea_a9b3_e4b97a150197row1_col5\" class=\"data row1 col5\" >0.1</td>\n",
       "                        <td id=\"T_9b7914aa_3ba5_11ea_a9b3_e4b97a150197row1_col6\" class=\"data row1 col6\" >0.05</td>\n",
       "                        <td id=\"T_9b7914aa_3ba5_11ea_a9b3_e4b97a150197row1_col7\" class=\"data row1 col7\" >0.08</td>\n",
       "            </tr>\n",
       "            <tr>\n",
       "                        <th id=\"T_9b7914aa_3ba5_11ea_a9b3_e4b97a150197level0_row2\" class=\"row_heading level0 row2\" >1E+00</th>\n",
       "                        <td id=\"T_9b7914aa_3ba5_11ea_a9b3_e4b97a150197row2_col0\" class=\"data row2 col0\" >0.01</td>\n",
       "                        <td id=\"T_9b7914aa_3ba5_11ea_a9b3_e4b97a150197row2_col1\" class=\"data row2 col1\" >0.04</td>\n",
       "                        <td id=\"T_9b7914aa_3ba5_11ea_a9b3_e4b97a150197row2_col2\" class=\"data row2 col2\" >0.01</td>\n",
       "                        <td id=\"T_9b7914aa_3ba5_11ea_a9b3_e4b97a150197row2_col3\" class=\"data row2 col3\" >0</td>\n",
       "                        <td id=\"T_9b7914aa_3ba5_11ea_a9b3_e4b97a150197row2_col4\" class=\"data row2 col4\" >0</td>\n",
       "                        <td id=\"T_9b7914aa_3ba5_11ea_a9b3_e4b97a150197row2_col5\" class=\"data row2 col5\" >0.07</td>\n",
       "                        <td id=\"T_9b7914aa_3ba5_11ea_a9b3_e4b97a150197row2_col6\" class=\"data row2 col6\" >0.35</td>\n",
       "                        <td id=\"T_9b7914aa_3ba5_11ea_a9b3_e4b97a150197row2_col7\" class=\"data row2 col7\" >0.88</td>\n",
       "            </tr>\n",
       "            <tr>\n",
       "                        <th id=\"T_9b7914aa_3ba5_11ea_a9b3_e4b97a150197level0_row3\" class=\"row_heading level0 row3\" >1E+01</th>\n",
       "                        <td id=\"T_9b7914aa_3ba5_11ea_a9b3_e4b97a150197row3_col0\" class=\"data row3 col0\" >0.01</td>\n",
       "                        <td id=\"T_9b7914aa_3ba5_11ea_a9b3_e4b97a150197row3_col1\" class=\"data row3 col1\" >0.11</td>\n",
       "                        <td id=\"T_9b7914aa_3ba5_11ea_a9b3_e4b97a150197row3_col2\" class=\"data row3 col2\" >0.01</td>\n",
       "                        <td id=\"T_9b7914aa_3ba5_11ea_a9b3_e4b97a150197row3_col3\" class=\"data row3 col3\" >0</td>\n",
       "                        <td id=\"T_9b7914aa_3ba5_11ea_a9b3_e4b97a150197row3_col4\" class=\"data row3 col4\" >0</td>\n",
       "                        <td id=\"T_9b7914aa_3ba5_11ea_a9b3_e4b97a150197row3_col5\" class=\"data row3 col5\" >0.09</td>\n",
       "                        <td id=\"T_9b7914aa_3ba5_11ea_a9b3_e4b97a150197row3_col6\" class=\"data row3 col6\" >0.1</td>\n",
       "                        <td id=\"T_9b7914aa_3ba5_11ea_a9b3_e4b97a150197row3_col7\" class=\"data row3 col7\" >0.16</td>\n",
       "            </tr>\n",
       "    </tbody></table>"
      ],
      "text/plain": [
       "<pandas.io.formats.style.Styler at 0x7f165ce0ed90>"
      ]
     },
     "execution_count": 28,
     "metadata": {},
     "output_type": "execute_result"
    }
   ],
   "source": [
    "highlight_df(df0_mean.round(2))"
   ]
  },
  {
   "cell_type": "code",
   "execution_count": 29,
   "metadata": {},
   "outputs": [
    {
     "data": {
      "text/html": [
       "<style  type=\"text/css\" >\n",
       "    #T_9b7b82e4_3ba5_11ea_a9b3_e4b97a150197row0_col3 {\n",
       "            background-color:  yellow;\n",
       "        }    #T_9b7b82e4_3ba5_11ea_a9b3_e4b97a150197row0_col5 {\n",
       "            background-color:  yellow;\n",
       "        }    #T_9b7b82e4_3ba5_11ea_a9b3_e4b97a150197row1_col3 {\n",
       "            background-color:  yellow;\n",
       "        }    #T_9b7b82e4_3ba5_11ea_a9b3_e4b97a150197row1_col4 {\n",
       "            background-color:  yellow;\n",
       "        }    #T_9b7b82e4_3ba5_11ea_a9b3_e4b97a150197row1_col6 {\n",
       "            background-color:  yellow;\n",
       "        }    #T_9b7b82e4_3ba5_11ea_a9b3_e4b97a150197row2_col0 {\n",
       "            background-color:  yellow;\n",
       "        }    #T_9b7b82e4_3ba5_11ea_a9b3_e4b97a150197row2_col1 {\n",
       "            background-color:  yellow;\n",
       "        }    #T_9b7b82e4_3ba5_11ea_a9b3_e4b97a150197row2_col2 {\n",
       "            background-color:  yellow;\n",
       "        }    #T_9b7b82e4_3ba5_11ea_a9b3_e4b97a150197row2_col3 {\n",
       "            background-color:  yellow;\n",
       "        }    #T_9b7b82e4_3ba5_11ea_a9b3_e4b97a150197row2_col4 {\n",
       "            background-color:  yellow;\n",
       "        }    #T_9b7b82e4_3ba5_11ea_a9b3_e4b97a150197row2_col7 {\n",
       "            background-color:  yellow;\n",
       "        }    #T_9b7b82e4_3ba5_11ea_a9b3_e4b97a150197row3_col3 {\n",
       "            background-color:  yellow;\n",
       "        }</style><table id=\"T_9b7b82e4_3ba5_11ea_a9b3_e4b97a150197\" ><thead>    <tr>        <th class=\"blank level0\" ></th>        <th class=\"col_heading level0 col0\" >H</th>        <th class=\"col_heading level0 col1\" >C</th>        <th class=\"col_heading level0 col2\" >V</th>        <th class=\"col_heading level0 col3\" >ARI</th>        <th class=\"col_heading level0 col4\" >AMI</th>        <th class=\"col_heading level0 col5\" >FMI</th>        <th class=\"col_heading level0 col6\" >Q</th>        <th class=\"col_heading level0 col7\" >NSD</th>    </tr></thead><tbody>\n",
       "                <tr>\n",
       "                        <th id=\"T_9b7b82e4_3ba5_11ea_a9b3_e4b97a150197level0_row0\" class=\"row_heading level0 row0\" >0E+00</th>\n",
       "                        <td id=\"T_9b7b82e4_3ba5_11ea_a9b3_e4b97a150197row0_col0\" class=\"data row0 col0\" >0.06</td>\n",
       "                        <td id=\"T_9b7b82e4_3ba5_11ea_a9b3_e4b97a150197row0_col1\" class=\"data row0 col1\" >0.23</td>\n",
       "                        <td id=\"T_9b7b82e4_3ba5_11ea_a9b3_e4b97a150197row0_col2\" class=\"data row0 col2\" >0.1</td>\n",
       "                        <td id=\"T_9b7b82e4_3ba5_11ea_a9b3_e4b97a150197row0_col3\" class=\"data row0 col3\" >0</td>\n",
       "                        <td id=\"T_9b7b82e4_3ba5_11ea_a9b3_e4b97a150197row0_col4\" class=\"data row0 col4\" >0</td>\n",
       "                        <td id=\"T_9b7b82e4_3ba5_11ea_a9b3_e4b97a150197row0_col5\" class=\"data row0 col5\" >0.07</td>\n",
       "                        <td id=\"T_9b7b82e4_3ba5_11ea_a9b3_e4b97a150197row0_col6\" class=\"data row0 col6\" >0.31</td>\n",
       "                        <td id=\"T_9b7b82e4_3ba5_11ea_a9b3_e4b97a150197row0_col7\" class=\"data row0 col7\" >0.34</td>\n",
       "            </tr>\n",
       "            <tr>\n",
       "                        <th id=\"T_9b7b82e4_3ba5_11ea_a9b3_e4b97a150197level0_row1\" class=\"row_heading level0 row1\" >1E-01</th>\n",
       "                        <td id=\"T_9b7b82e4_3ba5_11ea_a9b3_e4b97a150197row1_col0\" class=\"data row1 col0\" >0.2</td>\n",
       "                        <td id=\"T_9b7b82e4_3ba5_11ea_a9b3_e4b97a150197row1_col1\" class=\"data row1 col1\" >0.27</td>\n",
       "                        <td id=\"T_9b7b82e4_3ba5_11ea_a9b3_e4b97a150197row1_col2\" class=\"data row1 col2\" >0.23</td>\n",
       "                        <td id=\"T_9b7b82e4_3ba5_11ea_a9b3_e4b97a150197row1_col3\" class=\"data row1 col3\" >0</td>\n",
       "                        <td id=\"T_9b7b82e4_3ba5_11ea_a9b3_e4b97a150197row1_col4\" class=\"data row1 col4\" >0.01</td>\n",
       "                        <td id=\"T_9b7b82e4_3ba5_11ea_a9b3_e4b97a150197row1_col5\" class=\"data row1 col5\" >0.02</td>\n",
       "                        <td id=\"T_9b7b82e4_3ba5_11ea_a9b3_e4b97a150197row1_col6\" class=\"data row1 col6\" >0.55</td>\n",
       "                        <td id=\"T_9b7b82e4_3ba5_11ea_a9b3_e4b97a150197row1_col7\" class=\"data row1 col7\" >0.84</td>\n",
       "            </tr>\n",
       "            <tr>\n",
       "                        <th id=\"T_9b7b82e4_3ba5_11ea_a9b3_e4b97a150197level0_row2\" class=\"row_heading level0 row2\" >1E+00</th>\n",
       "                        <td id=\"T_9b7b82e4_3ba5_11ea_a9b3_e4b97a150197row2_col0\" class=\"data row2 col0\" >0.24</td>\n",
       "                        <td id=\"T_9b7b82e4_3ba5_11ea_a9b3_e4b97a150197row2_col1\" class=\"data row2 col1\" >0.3</td>\n",
       "                        <td id=\"T_9b7b82e4_3ba5_11ea_a9b3_e4b97a150197row2_col2\" class=\"data row2 col2\" >0.27</td>\n",
       "                        <td id=\"T_9b7b82e4_3ba5_11ea_a9b3_e4b97a150197row2_col3\" class=\"data row2 col3\" >0</td>\n",
       "                        <td id=\"T_9b7b82e4_3ba5_11ea_a9b3_e4b97a150197row2_col4\" class=\"data row2 col4\" >0.01</td>\n",
       "                        <td id=\"T_9b7b82e4_3ba5_11ea_a9b3_e4b97a150197row2_col5\" class=\"data row2 col5\" >0.02</td>\n",
       "                        <td id=\"T_9b7b82e4_3ba5_11ea_a9b3_e4b97a150197row2_col6\" class=\"data row2 col6\" >0.53</td>\n",
       "                        <td id=\"T_9b7b82e4_3ba5_11ea_a9b3_e4b97a150197row2_col7\" class=\"data row2 col7\" >0.89</td>\n",
       "            </tr>\n",
       "            <tr>\n",
       "                        <th id=\"T_9b7b82e4_3ba5_11ea_a9b3_e4b97a150197level0_row3\" class=\"row_heading level0 row3\" >1E+01</th>\n",
       "                        <td id=\"T_9b7b82e4_3ba5_11ea_a9b3_e4b97a150197row3_col0\" class=\"data row3 col0\" >0.19</td>\n",
       "                        <td id=\"T_9b7b82e4_3ba5_11ea_a9b3_e4b97a150197row3_col1\" class=\"data row3 col1\" >0.28</td>\n",
       "                        <td id=\"T_9b7b82e4_3ba5_11ea_a9b3_e4b97a150197row3_col2\" class=\"data row3 col2\" >0.23</td>\n",
       "                        <td id=\"T_9b7b82e4_3ba5_11ea_a9b3_e4b97a150197row3_col3\" class=\"data row3 col3\" >0</td>\n",
       "                        <td id=\"T_9b7b82e4_3ba5_11ea_a9b3_e4b97a150197row3_col4\" class=\"data row3 col4\" >0</td>\n",
       "                        <td id=\"T_9b7b82e4_3ba5_11ea_a9b3_e4b97a150197row3_col5\" class=\"data row3 col5\" >0.03</td>\n",
       "                        <td id=\"T_9b7b82e4_3ba5_11ea_a9b3_e4b97a150197row3_col6\" class=\"data row3 col6\" >0.39</td>\n",
       "                        <td id=\"T_9b7b82e4_3ba5_11ea_a9b3_e4b97a150197row3_col7\" class=\"data row3 col7\" >0.68</td>\n",
       "            </tr>\n",
       "    </tbody></table>"
      ],
      "text/plain": [
       "<pandas.io.formats.style.Styler at 0x7f165aaef050>"
      ]
     },
     "execution_count": 29,
     "metadata": {},
     "output_type": "execute_result"
    }
   ],
   "source": [
    "highlight_df(df1_mean.round(2))"
   ]
  },
  {
   "cell_type": "code",
   "execution_count": 30,
   "metadata": {},
   "outputs": [
    {
     "data": {
      "text/html": [
       "<style  type=\"text/css\" >\n",
       "    #T_9b7e89c6_3ba5_11ea_a9b3_e4b97a150197row0_col3 {\n",
       "            background-color:  yellow;\n",
       "        }    #T_9b7e89c6_3ba5_11ea_a9b3_e4b97a150197row0_col5 {\n",
       "            background-color:  yellow;\n",
       "        }    #T_9b7e89c6_3ba5_11ea_a9b3_e4b97a150197row1_col3 {\n",
       "            background-color:  yellow;\n",
       "        }    #T_9b7e89c6_3ba5_11ea_a9b3_e4b97a150197row1_col4 {\n",
       "            background-color:  yellow;\n",
       "        }    #T_9b7e89c6_3ba5_11ea_a9b3_e4b97a150197row1_col6 {\n",
       "            background-color:  yellow;\n",
       "        }    #T_9b7e89c6_3ba5_11ea_a9b3_e4b97a150197row2_col0 {\n",
       "            background-color:  yellow;\n",
       "        }    #T_9b7e89c6_3ba5_11ea_a9b3_e4b97a150197row2_col1 {\n",
       "            background-color:  yellow;\n",
       "        }    #T_9b7e89c6_3ba5_11ea_a9b3_e4b97a150197row2_col2 {\n",
       "            background-color:  yellow;\n",
       "        }    #T_9b7e89c6_3ba5_11ea_a9b3_e4b97a150197row2_col3 {\n",
       "            background-color:  yellow;\n",
       "        }    #T_9b7e89c6_3ba5_11ea_a9b3_e4b97a150197row2_col4 {\n",
       "            background-color:  yellow;\n",
       "        }    #T_9b7e89c6_3ba5_11ea_a9b3_e4b97a150197row2_col7 {\n",
       "            background-color:  yellow;\n",
       "        }    #T_9b7e89c6_3ba5_11ea_a9b3_e4b97a150197row3_col3 {\n",
       "            background-color:  yellow;\n",
       "        }</style><table id=\"T_9b7e89c6_3ba5_11ea_a9b3_e4b97a150197\" ><thead>    <tr>        <th class=\"blank level0\" ></th>        <th class=\"col_heading level0 col0\" >H</th>        <th class=\"col_heading level0 col1\" >C</th>        <th class=\"col_heading level0 col2\" >V</th>        <th class=\"col_heading level0 col3\" >ARI</th>        <th class=\"col_heading level0 col4\" >AMI</th>        <th class=\"col_heading level0 col5\" >FMI</th>        <th class=\"col_heading level0 col6\" >Q</th>        <th class=\"col_heading level0 col7\" >NSD</th>    </tr></thead><tbody>\n",
       "                <tr>\n",
       "                        <th id=\"T_9b7e89c6_3ba5_11ea_a9b3_e4b97a150197level0_row0\" class=\"row_heading level0 row0\" >0E+00</th>\n",
       "                        <td id=\"T_9b7e89c6_3ba5_11ea_a9b3_e4b97a150197row0_col0\" class=\"data row0 col0\" >0.19</td>\n",
       "                        <td id=\"T_9b7e89c6_3ba5_11ea_a9b3_e4b97a150197row0_col1\" class=\"data row0 col1\" >0.27</td>\n",
       "                        <td id=\"T_9b7e89c6_3ba5_11ea_a9b3_e4b97a150197row0_col2\" class=\"data row0 col2\" >0.22</td>\n",
       "                        <td id=\"T_9b7e89c6_3ba5_11ea_a9b3_e4b97a150197row0_col3\" class=\"data row0 col3\" >0</td>\n",
       "                        <td id=\"T_9b7e89c6_3ba5_11ea_a9b3_e4b97a150197row0_col4\" class=\"data row0 col4\" >0</td>\n",
       "                        <td id=\"T_9b7e89c6_3ba5_11ea_a9b3_e4b97a150197row0_col5\" class=\"data row0 col5\" >0.03</td>\n",
       "                        <td id=\"T_9b7e89c6_3ba5_11ea_a9b3_e4b97a150197row0_col6\" class=\"data row0 col6\" >0.42</td>\n",
       "                        <td id=\"T_9b7e89c6_3ba5_11ea_a9b3_e4b97a150197row0_col7\" class=\"data row0 col7\" >0.76</td>\n",
       "            </tr>\n",
       "            <tr>\n",
       "                        <th id=\"T_9b7e89c6_3ba5_11ea_a9b3_e4b97a150197level0_row1\" class=\"row_heading level0 row1\" >1E-01</th>\n",
       "                        <td id=\"T_9b7e89c6_3ba5_11ea_a9b3_e4b97a150197row1_col0\" class=\"data row1 col0\" >0.33</td>\n",
       "                        <td id=\"T_9b7e89c6_3ba5_11ea_a9b3_e4b97a150197row1_col1\" class=\"data row1 col1\" >0.35</td>\n",
       "                        <td id=\"T_9b7e89c6_3ba5_11ea_a9b3_e4b97a150197row1_col2\" class=\"data row1 col2\" >0.34</td>\n",
       "                        <td id=\"T_9b7e89c6_3ba5_11ea_a9b3_e4b97a150197row1_col3\" class=\"data row1 col3\" >0</td>\n",
       "                        <td id=\"T_9b7e89c6_3ba5_11ea_a9b3_e4b97a150197row1_col4\" class=\"data row1 col4\" >0.01</td>\n",
       "                        <td id=\"T_9b7e89c6_3ba5_11ea_a9b3_e4b97a150197row1_col5\" class=\"data row1 col5\" >0.01</td>\n",
       "                        <td id=\"T_9b7e89c6_3ba5_11ea_a9b3_e4b97a150197row1_col6\" class=\"data row1 col6\" >0.53</td>\n",
       "                        <td id=\"T_9b7e89c6_3ba5_11ea_a9b3_e4b97a150197row1_col7\" class=\"data row1 col7\" >0.91</td>\n",
       "            </tr>\n",
       "            <tr>\n",
       "                        <th id=\"T_9b7e89c6_3ba5_11ea_a9b3_e4b97a150197level0_row2\" class=\"row_heading level0 row2\" >1E+00</th>\n",
       "                        <td id=\"T_9b7e89c6_3ba5_11ea_a9b3_e4b97a150197row2_col0\" class=\"data row2 col0\" >0.36</td>\n",
       "                        <td id=\"T_9b7e89c6_3ba5_11ea_a9b3_e4b97a150197row2_col1\" class=\"data row2 col1\" >0.37</td>\n",
       "                        <td id=\"T_9b7e89c6_3ba5_11ea_a9b3_e4b97a150197row2_col2\" class=\"data row2 col2\" >0.36</td>\n",
       "                        <td id=\"T_9b7e89c6_3ba5_11ea_a9b3_e4b97a150197row2_col3\" class=\"data row2 col3\" >0</td>\n",
       "                        <td id=\"T_9b7e89c6_3ba5_11ea_a9b3_e4b97a150197row2_col4\" class=\"data row2 col4\" >0.01</td>\n",
       "                        <td id=\"T_9b7e89c6_3ba5_11ea_a9b3_e4b97a150197row2_col5\" class=\"data row2 col5\" >0.01</td>\n",
       "                        <td id=\"T_9b7e89c6_3ba5_11ea_a9b3_e4b97a150197row2_col6\" class=\"data row2 col6\" >0.5</td>\n",
       "                        <td id=\"T_9b7e89c6_3ba5_11ea_a9b3_e4b97a150197row2_col7\" class=\"data row2 col7\" >0.92</td>\n",
       "            </tr>\n",
       "            <tr>\n",
       "                        <th id=\"T_9b7e89c6_3ba5_11ea_a9b3_e4b97a150197level0_row3\" class=\"row_heading level0 row3\" >1E+01</th>\n",
       "                        <td id=\"T_9b7e89c6_3ba5_11ea_a9b3_e4b97a150197row3_col0\" class=\"data row3 col0\" >0.28</td>\n",
       "                        <td id=\"T_9b7e89c6_3ba5_11ea_a9b3_e4b97a150197row3_col1\" class=\"data row3 col1\" >0.34</td>\n",
       "                        <td id=\"T_9b7e89c6_3ba5_11ea_a9b3_e4b97a150197row3_col2\" class=\"data row3 col2\" >0.3</td>\n",
       "                        <td id=\"T_9b7e89c6_3ba5_11ea_a9b3_e4b97a150197row3_col3\" class=\"data row3 col3\" >0</td>\n",
       "                        <td id=\"T_9b7e89c6_3ba5_11ea_a9b3_e4b97a150197row3_col4\" class=\"data row3 col4\" >0</td>\n",
       "                        <td id=\"T_9b7e89c6_3ba5_11ea_a9b3_e4b97a150197row3_col5\" class=\"data row3 col5\" >0.02</td>\n",
       "                        <td id=\"T_9b7e89c6_3ba5_11ea_a9b3_e4b97a150197row3_col6\" class=\"data row3 col6\" >0.35</td>\n",
       "                        <td id=\"T_9b7e89c6_3ba5_11ea_a9b3_e4b97a150197row3_col7\" class=\"data row3 col7\" >0.76</td>\n",
       "            </tr>\n",
       "    </tbody></table>"
      ],
      "text/plain": [
       "<pandas.io.formats.style.Styler at 0x7f165ab23310>"
      ]
     },
     "execution_count": 30,
     "metadata": {},
     "output_type": "execute_result"
    }
   ],
   "source": [
    "highlight_df(df2_mean.round(2))"
   ]
  },
  {
   "cell_type": "markdown",
   "metadata": {},
   "source": [
    "### 20newsgroup (undirected regularization)"
   ]
  },
  {
   "cell_type": "code",
   "execution_count": 31,
   "metadata": {},
   "outputs": [],
   "source": [
    "ng_results = get_all_scores(spectral, newsgroup, newsgroup_truth, n_clusters=newsgroup_all_k)"
   ]
  },
  {
   "cell_type": "code",
   "execution_count": 32,
   "metadata": {},
   "outputs": [
    {
     "data": {
      "text/html": [
       "<style  type=\"text/css\" >\n",
       "    #T_ce36e49e_3ba5_11ea_a9b3_e4b97a150197row2_col1 {\n",
       "            background-color:  yellow;\n",
       "        }    #T_ce36e49e_3ba5_11ea_a9b3_e4b97a150197row3_col0 {\n",
       "            background-color:  yellow;\n",
       "        }    #T_ce36e49e_3ba5_11ea_a9b3_e4b97a150197row3_col2 {\n",
       "            background-color:  yellow;\n",
       "        }    #T_ce36e49e_3ba5_11ea_a9b3_e4b97a150197row3_col3 {\n",
       "            background-color:  yellow;\n",
       "        }    #T_ce36e49e_3ba5_11ea_a9b3_e4b97a150197row3_col4 {\n",
       "            background-color:  yellow;\n",
       "        }    #T_ce36e49e_3ba5_11ea_a9b3_e4b97a150197row3_col5 {\n",
       "            background-color:  yellow;\n",
       "        }    #T_ce36e49e_3ba5_11ea_a9b3_e4b97a150197row3_col6 {\n",
       "            background-color:  yellow;\n",
       "        }    #T_ce36e49e_3ba5_11ea_a9b3_e4b97a150197row3_col7 {\n",
       "            background-color:  yellow;\n",
       "        }</style><table id=\"T_ce36e49e_3ba5_11ea_a9b3_e4b97a150197\" ><thead>    <tr>        <th class=\"blank level0\" ></th>        <th class=\"col_heading level0 col0\" >H</th>        <th class=\"col_heading level0 col1\" >C</th>        <th class=\"col_heading level0 col2\" >V</th>        <th class=\"col_heading level0 col3\" >ARI</th>        <th class=\"col_heading level0 col4\" >AMI</th>        <th class=\"col_heading level0 col5\" >FMI</th>        <th class=\"col_heading level0 col6\" >Q</th>        <th class=\"col_heading level0 col7\" >NSD</th>    </tr></thead><tbody>\n",
       "                <tr>\n",
       "                        <th id=\"T_ce36e49e_3ba5_11ea_a9b3_e4b97a150197level0_row0\" class=\"row_heading level0 row0\" >0E+00</th>\n",
       "                        <td id=\"T_ce36e49e_3ba5_11ea_a9b3_e4b97a150197row0_col0\" class=\"data row0 col0\" >0</td>\n",
       "                        <td id=\"T_ce36e49e_3ba5_11ea_a9b3_e4b97a150197row0_col1\" class=\"data row0 col1\" >0.36</td>\n",
       "                        <td id=\"T_ce36e49e_3ba5_11ea_a9b3_e4b97a150197row0_col2\" class=\"data row0 col2\" >0</td>\n",
       "                        <td id=\"T_ce36e49e_3ba5_11ea_a9b3_e4b97a150197row0_col3\" class=\"data row0 col3\" >0</td>\n",
       "                        <td id=\"T_ce36e49e_3ba5_11ea_a9b3_e4b97a150197row0_col4\" class=\"data row0 col4\" >0</td>\n",
       "                        <td id=\"T_ce36e49e_3ba5_11ea_a9b3_e4b97a150197row0_col5\" class=\"data row0 col5\" >0.23</td>\n",
       "                        <td id=\"T_ce36e49e_3ba5_11ea_a9b3_e4b97a150197row0_col6\" class=\"data row0 col6\" >0</td>\n",
       "                        <td id=\"T_ce36e49e_3ba5_11ea_a9b3_e4b97a150197row0_col7\" class=\"data row0 col7\" >0</td>\n",
       "            </tr>\n",
       "            <tr>\n",
       "                        <th id=\"T_ce36e49e_3ba5_11ea_a9b3_e4b97a150197level0_row1\" class=\"row_heading level0 row1\" >1E-01</th>\n",
       "                        <td id=\"T_ce36e49e_3ba5_11ea_a9b3_e4b97a150197row1_col0\" class=\"data row1 col0\" >0</td>\n",
       "                        <td id=\"T_ce36e49e_3ba5_11ea_a9b3_e4b97a150197row1_col1\" class=\"data row1 col1\" >0.36</td>\n",
       "                        <td id=\"T_ce36e49e_3ba5_11ea_a9b3_e4b97a150197row1_col2\" class=\"data row1 col2\" >0</td>\n",
       "                        <td id=\"T_ce36e49e_3ba5_11ea_a9b3_e4b97a150197row1_col3\" class=\"data row1 col3\" >0</td>\n",
       "                        <td id=\"T_ce36e49e_3ba5_11ea_a9b3_e4b97a150197row1_col4\" class=\"data row1 col4\" >0</td>\n",
       "                        <td id=\"T_ce36e49e_3ba5_11ea_a9b3_e4b97a150197row1_col5\" class=\"data row1 col5\" >0.23</td>\n",
       "                        <td id=\"T_ce36e49e_3ba5_11ea_a9b3_e4b97a150197row1_col6\" class=\"data row1 col6\" >0</td>\n",
       "                        <td id=\"T_ce36e49e_3ba5_11ea_a9b3_e4b97a150197row1_col7\" class=\"data row1 col7\" >0</td>\n",
       "            </tr>\n",
       "            <tr>\n",
       "                        <th id=\"T_ce36e49e_3ba5_11ea_a9b3_e4b97a150197level0_row2\" class=\"row_heading level0 row2\" >1E+00</th>\n",
       "                        <td id=\"T_ce36e49e_3ba5_11ea_a9b3_e4b97a150197row2_col0\" class=\"data row2 col0\" >0.09</td>\n",
       "                        <td id=\"T_ce36e49e_3ba5_11ea_a9b3_e4b97a150197row2_col1\" class=\"data row2 col1\" >0.74</td>\n",
       "                        <td id=\"T_ce36e49e_3ba5_11ea_a9b3_e4b97a150197row2_col2\" class=\"data row2 col2\" >0.15</td>\n",
       "                        <td id=\"T_ce36e49e_3ba5_11ea_a9b3_e4b97a150197row2_col3\" class=\"data row2 col3\" >0.02</td>\n",
       "                        <td id=\"T_ce36e49e_3ba5_11ea_a9b3_e4b97a150197row2_col4\" class=\"data row2 col4\" >0.15</td>\n",
       "                        <td id=\"T_ce36e49e_3ba5_11ea_a9b3_e4b97a150197row2_col5\" class=\"data row2 col5\" >0.24</td>\n",
       "                        <td id=\"T_ce36e49e_3ba5_11ea_a9b3_e4b97a150197row2_col6\" class=\"data row2 col6\" >0.06</td>\n",
       "                        <td id=\"T_ce36e49e_3ba5_11ea_a9b3_e4b97a150197row2_col7\" class=\"data row2 col7\" >0.21</td>\n",
       "            </tr>\n",
       "            <tr>\n",
       "                        <th id=\"T_ce36e49e_3ba5_11ea_a9b3_e4b97a150197level0_row3\" class=\"row_heading level0 row3\" >1E+01</th>\n",
       "                        <td id=\"T_ce36e49e_3ba5_11ea_a9b3_e4b97a150197row3_col0\" class=\"data row3 col0\" >0.1</td>\n",
       "                        <td id=\"T_ce36e49e_3ba5_11ea_a9b3_e4b97a150197row3_col1\" class=\"data row3 col1\" >0.49</td>\n",
       "                        <td id=\"T_ce36e49e_3ba5_11ea_a9b3_e4b97a150197row3_col2\" class=\"data row3 col2\" >0.17</td>\n",
       "                        <td id=\"T_ce36e49e_3ba5_11ea_a9b3_e4b97a150197row3_col3\" class=\"data row3 col3\" >0.04</td>\n",
       "                        <td id=\"T_ce36e49e_3ba5_11ea_a9b3_e4b97a150197row3_col4\" class=\"data row3 col4\" >0.17</td>\n",
       "                        <td id=\"T_ce36e49e_3ba5_11ea_a9b3_e4b97a150197row3_col5\" class=\"data row3 col5\" >0.25</td>\n",
       "                        <td id=\"T_ce36e49e_3ba5_11ea_a9b3_e4b97a150197row3_col6\" class=\"data row3 col6\" >0.13</td>\n",
       "                        <td id=\"T_ce36e49e_3ba5_11ea_a9b3_e4b97a150197row3_col7\" class=\"data row3 col7\" >0.59</td>\n",
       "            </tr>\n",
       "    </tbody></table>"
      ],
      "text/plain": [
       "<pandas.io.formats.style.Styler at 0x7f165e3038d0>"
      ]
     },
     "execution_count": 32,
     "metadata": {},
     "output_type": "execute_result"
    }
   ],
   "source": [
    "ng_df = display_results(ng_results[newsgroup_all_k[0]])\n",
    "highlight_df(ng_df)"
   ]
  },
  {
   "cell_type": "code",
   "execution_count": 33,
   "metadata": {},
   "outputs": [
    {
     "data": {
      "text/html": [
       "<style  type=\"text/css\" >\n",
       "    #T_ce399ac2_3ba5_11ea_a9b3_e4b97a150197row0_col1 {\n",
       "            background-color:  yellow;\n",
       "        }    #T_ce399ac2_3ba5_11ea_a9b3_e4b97a150197row1_col1 {\n",
       "            background-color:  yellow;\n",
       "        }    #T_ce399ac2_3ba5_11ea_a9b3_e4b97a150197row2_col0 {\n",
       "            background-color:  yellow;\n",
       "        }    #T_ce399ac2_3ba5_11ea_a9b3_e4b97a150197row2_col2 {\n",
       "            background-color:  yellow;\n",
       "        }    #T_ce399ac2_3ba5_11ea_a9b3_e4b97a150197row2_col3 {\n",
       "            background-color:  yellow;\n",
       "        }    #T_ce399ac2_3ba5_11ea_a9b3_e4b97a150197row2_col4 {\n",
       "            background-color:  yellow;\n",
       "        }    #T_ce399ac2_3ba5_11ea_a9b3_e4b97a150197row2_col5 {\n",
       "            background-color:  yellow;\n",
       "        }    #T_ce399ac2_3ba5_11ea_a9b3_e4b97a150197row2_col6 {\n",
       "            background-color:  yellow;\n",
       "        }    #T_ce399ac2_3ba5_11ea_a9b3_e4b97a150197row3_col3 {\n",
       "            background-color:  yellow;\n",
       "        }    #T_ce399ac2_3ba5_11ea_a9b3_e4b97a150197row3_col7 {\n",
       "            background-color:  yellow;\n",
       "        }</style><table id=\"T_ce399ac2_3ba5_11ea_a9b3_e4b97a150197\" ><thead>    <tr>        <th class=\"blank level0\" ></th>        <th class=\"col_heading level0 col0\" >H</th>        <th class=\"col_heading level0 col1\" >C</th>        <th class=\"col_heading level0 col2\" >V</th>        <th class=\"col_heading level0 col3\" >ARI</th>        <th class=\"col_heading level0 col4\" >AMI</th>        <th class=\"col_heading level0 col5\" >FMI</th>        <th class=\"col_heading level0 col6\" >Q</th>        <th class=\"col_heading level0 col7\" >NSD</th>    </tr></thead><tbody>\n",
       "                <tr>\n",
       "                        <th id=\"T_ce399ac2_3ba5_11ea_a9b3_e4b97a150197level0_row0\" class=\"row_heading level0 row0\" >0E+00</th>\n",
       "                        <td id=\"T_ce399ac2_3ba5_11ea_a9b3_e4b97a150197row0_col0\" class=\"data row0 col0\" >0.23</td>\n",
       "                        <td id=\"T_ce399ac2_3ba5_11ea_a9b3_e4b97a150197row0_col1\" class=\"data row0 col1\" >0.72</td>\n",
       "                        <td id=\"T_ce399ac2_3ba5_11ea_a9b3_e4b97a150197row0_col2\" class=\"data row0 col2\" >0.35</td>\n",
       "                        <td id=\"T_ce399ac2_3ba5_11ea_a9b3_e4b97a150197row0_col3\" class=\"data row0 col3\" >0.09</td>\n",
       "                        <td id=\"T_ce399ac2_3ba5_11ea_a9b3_e4b97a150197row0_col4\" class=\"data row0 col4\" >0.35</td>\n",
       "                        <td id=\"T_ce399ac2_3ba5_11ea_a9b3_e4b97a150197row0_col5\" class=\"data row0 col5\" >0.29</td>\n",
       "                        <td id=\"T_ce399ac2_3ba5_11ea_a9b3_e4b97a150197row0_col6\" class=\"data row0 col6\" >0.18</td>\n",
       "                        <td id=\"T_ce399ac2_3ba5_11ea_a9b3_e4b97a150197row0_col7\" class=\"data row0 col7\" >0.36</td>\n",
       "            </tr>\n",
       "            <tr>\n",
       "                        <th id=\"T_ce399ac2_3ba5_11ea_a9b3_e4b97a150197level0_row1\" class=\"row_heading level0 row1\" >1E-01</th>\n",
       "                        <td id=\"T_ce399ac2_3ba5_11ea_a9b3_e4b97a150197row1_col0\" class=\"data row1 col0\" >0.28</td>\n",
       "                        <td id=\"T_ce399ac2_3ba5_11ea_a9b3_e4b97a150197row1_col1\" class=\"data row1 col1\" >0.72</td>\n",
       "                        <td id=\"T_ce399ac2_3ba5_11ea_a9b3_e4b97a150197row1_col2\" class=\"data row1 col2\" >0.4</td>\n",
       "                        <td id=\"T_ce399ac2_3ba5_11ea_a9b3_e4b97a150197row1_col3\" class=\"data row1 col3\" >0.11</td>\n",
       "                        <td id=\"T_ce399ac2_3ba5_11ea_a9b3_e4b97a150197row1_col4\" class=\"data row1 col4\" >0.4</td>\n",
       "                        <td id=\"T_ce399ac2_3ba5_11ea_a9b3_e4b97a150197row1_col5\" class=\"data row1 col5\" >0.3</td>\n",
       "                        <td id=\"T_ce399ac2_3ba5_11ea_a9b3_e4b97a150197row1_col6\" class=\"data row1 col6\" >0.18</td>\n",
       "                        <td id=\"T_ce399ac2_3ba5_11ea_a9b3_e4b97a150197row1_col7\" class=\"data row1 col7\" >0.43</td>\n",
       "            </tr>\n",
       "            <tr>\n",
       "                        <th id=\"T_ce399ac2_3ba5_11ea_a9b3_e4b97a150197level0_row2\" class=\"row_heading level0 row2\" >1E+00</th>\n",
       "                        <td id=\"T_ce399ac2_3ba5_11ea_a9b3_e4b97a150197row2_col0\" class=\"data row2 col0\" >0.34</td>\n",
       "                        <td id=\"T_ce399ac2_3ba5_11ea_a9b3_e4b97a150197row2_col1\" class=\"data row2 col1\" >0.69</td>\n",
       "                        <td id=\"T_ce399ac2_3ba5_11ea_a9b3_e4b97a150197row2_col2\" class=\"data row2 col2\" >0.46</td>\n",
       "                        <td id=\"T_ce399ac2_3ba5_11ea_a9b3_e4b97a150197row2_col3\" class=\"data row2 col3\" >0.14</td>\n",
       "                        <td id=\"T_ce399ac2_3ba5_11ea_a9b3_e4b97a150197row2_col4\" class=\"data row2 col4\" >0.46</td>\n",
       "                        <td id=\"T_ce399ac2_3ba5_11ea_a9b3_e4b97a150197row2_col5\" class=\"data row2 col5\" >0.31</td>\n",
       "                        <td id=\"T_ce399ac2_3ba5_11ea_a9b3_e4b97a150197row2_col6\" class=\"data row2 col6\" >0.19</td>\n",
       "                        <td id=\"T_ce399ac2_3ba5_11ea_a9b3_e4b97a150197row2_col7\" class=\"data row2 col7\" >0.53</td>\n",
       "            </tr>\n",
       "            <tr>\n",
       "                        <th id=\"T_ce399ac2_3ba5_11ea_a9b3_e4b97a150197level0_row3\" class=\"row_heading level0 row3\" >1E+01</th>\n",
       "                        <td id=\"T_ce399ac2_3ba5_11ea_a9b3_e4b97a150197row3_col0\" class=\"data row3 col0\" >0.31</td>\n",
       "                        <td id=\"T_ce399ac2_3ba5_11ea_a9b3_e4b97a150197row3_col1\" class=\"data row3 col1\" >0.53</td>\n",
       "                        <td id=\"T_ce399ac2_3ba5_11ea_a9b3_e4b97a150197row3_col2\" class=\"data row3 col2\" >0.39</td>\n",
       "                        <td id=\"T_ce399ac2_3ba5_11ea_a9b3_e4b97a150197row3_col3\" class=\"data row3 col3\" >0.14</td>\n",
       "                        <td id=\"T_ce399ac2_3ba5_11ea_a9b3_e4b97a150197row3_col4\" class=\"data row3 col4\" >0.39</td>\n",
       "                        <td id=\"T_ce399ac2_3ba5_11ea_a9b3_e4b97a150197row3_col5\" class=\"data row3 col5\" >0.27</td>\n",
       "                        <td id=\"T_ce399ac2_3ba5_11ea_a9b3_e4b97a150197row3_col6\" class=\"data row3 col6\" >0.18</td>\n",
       "                        <td id=\"T_ce399ac2_3ba5_11ea_a9b3_e4b97a150197row3_col7\" class=\"data row3 col7\" >0.66</td>\n",
       "            </tr>\n",
       "    </tbody></table>"
      ],
      "text/plain": [
       "<pandas.io.formats.style.Styler at 0x7f165ac1e290>"
      ]
     },
     "execution_count": 33,
     "metadata": {},
     "output_type": "execute_result"
    }
   ],
   "source": [
    "ng_df = display_results(ng_results[newsgroup_all_k[1]])\n",
    "highlight_df(ng_df)"
   ]
  },
  {
   "cell_type": "code",
   "execution_count": 34,
   "metadata": {},
   "outputs": [
    {
     "data": {
      "text/html": [
       "<style  type=\"text/css\" >\n",
       "    #T_ce3cb66c_3ba5_11ea_a9b3_e4b97a150197row1_col1 {\n",
       "            background-color:  yellow;\n",
       "        }    #T_ce3cb66c_3ba5_11ea_a9b3_e4b97a150197row1_col6 {\n",
       "            background-color:  yellow;\n",
       "        }    #T_ce3cb66c_3ba5_11ea_a9b3_e4b97a150197row2_col0 {\n",
       "            background-color:  yellow;\n",
       "        }    #T_ce3cb66c_3ba5_11ea_a9b3_e4b97a150197row2_col2 {\n",
       "            background-color:  yellow;\n",
       "        }    #T_ce3cb66c_3ba5_11ea_a9b3_e4b97a150197row2_col3 {\n",
       "            background-color:  yellow;\n",
       "        }    #T_ce3cb66c_3ba5_11ea_a9b3_e4b97a150197row2_col4 {\n",
       "            background-color:  yellow;\n",
       "        }    #T_ce3cb66c_3ba5_11ea_a9b3_e4b97a150197row2_col5 {\n",
       "            background-color:  yellow;\n",
       "        }    #T_ce3cb66c_3ba5_11ea_a9b3_e4b97a150197row2_col6 {\n",
       "            background-color:  yellow;\n",
       "        }    #T_ce3cb66c_3ba5_11ea_a9b3_e4b97a150197row3_col7 {\n",
       "            background-color:  yellow;\n",
       "        }</style><table id=\"T_ce3cb66c_3ba5_11ea_a9b3_e4b97a150197\" ><thead>    <tr>        <th class=\"blank level0\" ></th>        <th class=\"col_heading level0 col0\" >H</th>        <th class=\"col_heading level0 col1\" >C</th>        <th class=\"col_heading level0 col2\" >V</th>        <th class=\"col_heading level0 col3\" >ARI</th>        <th class=\"col_heading level0 col4\" >AMI</th>        <th class=\"col_heading level0 col5\" >FMI</th>        <th class=\"col_heading level0 col6\" >Q</th>        <th class=\"col_heading level0 col7\" >NSD</th>    </tr></thead><tbody>\n",
       "                <tr>\n",
       "                        <th id=\"T_ce3cb66c_3ba5_11ea_a9b3_e4b97a150197level0_row0\" class=\"row_heading level0 row0\" >0E+00</th>\n",
       "                        <td id=\"T_ce3cb66c_3ba5_11ea_a9b3_e4b97a150197row0_col0\" class=\"data row0 col0\" >0.36</td>\n",
       "                        <td id=\"T_ce3cb66c_3ba5_11ea_a9b3_e4b97a150197row0_col1\" class=\"data row0 col1\" >0.66</td>\n",
       "                        <td id=\"T_ce3cb66c_3ba5_11ea_a9b3_e4b97a150197row0_col2\" class=\"data row0 col2\" >0.46</td>\n",
       "                        <td id=\"T_ce3cb66c_3ba5_11ea_a9b3_e4b97a150197row0_col3\" class=\"data row0 col3\" >0.13</td>\n",
       "                        <td id=\"T_ce3cb66c_3ba5_11ea_a9b3_e4b97a150197row0_col4\" class=\"data row0 col4\" >0.46</td>\n",
       "                        <td id=\"T_ce3cb66c_3ba5_11ea_a9b3_e4b97a150197row0_col5\" class=\"data row0 col5\" >0.29</td>\n",
       "                        <td id=\"T_ce3cb66c_3ba5_11ea_a9b3_e4b97a150197row0_col6\" class=\"data row0 col6\" >0.18</td>\n",
       "                        <td id=\"T_ce3cb66c_3ba5_11ea_a9b3_e4b97a150197row0_col7\" class=\"data row0 col7\" >0.5</td>\n",
       "            </tr>\n",
       "            <tr>\n",
       "                        <th id=\"T_ce3cb66c_3ba5_11ea_a9b3_e4b97a150197level0_row1\" class=\"row_heading level0 row1\" >1E-01</th>\n",
       "                        <td id=\"T_ce3cb66c_3ba5_11ea_a9b3_e4b97a150197row1_col0\" class=\"data row1 col0\" >0.39</td>\n",
       "                        <td id=\"T_ce3cb66c_3ba5_11ea_a9b3_e4b97a150197row1_col1\" class=\"data row1 col1\" >0.68</td>\n",
       "                        <td id=\"T_ce3cb66c_3ba5_11ea_a9b3_e4b97a150197row1_col2\" class=\"data row1 col2\" >0.49</td>\n",
       "                        <td id=\"T_ce3cb66c_3ba5_11ea_a9b3_e4b97a150197row1_col3\" class=\"data row1 col3\" >0.16</td>\n",
       "                        <td id=\"T_ce3cb66c_3ba5_11ea_a9b3_e4b97a150197row1_col4\" class=\"data row1 col4\" >0.49</td>\n",
       "                        <td id=\"T_ce3cb66c_3ba5_11ea_a9b3_e4b97a150197row1_col5\" class=\"data row1 col5\" >0.31</td>\n",
       "                        <td id=\"T_ce3cb66c_3ba5_11ea_a9b3_e4b97a150197row1_col6\" class=\"data row1 col6\" >0.2</td>\n",
       "                        <td id=\"T_ce3cb66c_3ba5_11ea_a9b3_e4b97a150197row1_col7\" class=\"data row1 col7\" >0.52</td>\n",
       "            </tr>\n",
       "            <tr>\n",
       "                        <th id=\"T_ce3cb66c_3ba5_11ea_a9b3_e4b97a150197level0_row2\" class=\"row_heading level0 row2\" >1E+00</th>\n",
       "                        <td id=\"T_ce3cb66c_3ba5_11ea_a9b3_e4b97a150197row2_col0\" class=\"data row2 col0\" >0.49</td>\n",
       "                        <td id=\"T_ce3cb66c_3ba5_11ea_a9b3_e4b97a150197row2_col1\" class=\"data row2 col1\" >0.66</td>\n",
       "                        <td id=\"T_ce3cb66c_3ba5_11ea_a9b3_e4b97a150197row2_col2\" class=\"data row2 col2\" >0.56</td>\n",
       "                        <td id=\"T_ce3cb66c_3ba5_11ea_a9b3_e4b97a150197row2_col3\" class=\"data row2 col3\" >0.23</td>\n",
       "                        <td id=\"T_ce3cb66c_3ba5_11ea_a9b3_e4b97a150197row2_col4\" class=\"data row2 col4\" >0.56</td>\n",
       "                        <td id=\"T_ce3cb66c_3ba5_11ea_a9b3_e4b97a150197row2_col5\" class=\"data row2 col5\" >0.34</td>\n",
       "                        <td id=\"T_ce3cb66c_3ba5_11ea_a9b3_e4b97a150197row2_col6\" class=\"data row2 col6\" >0.2</td>\n",
       "                        <td id=\"T_ce3cb66c_3ba5_11ea_a9b3_e4b97a150197row2_col7\" class=\"data row2 col7\" >0.66</td>\n",
       "            </tr>\n",
       "            <tr>\n",
       "                        <th id=\"T_ce3cb66c_3ba5_11ea_a9b3_e4b97a150197level0_row3\" class=\"row_heading level0 row3\" >1E+01</th>\n",
       "                        <td id=\"T_ce3cb66c_3ba5_11ea_a9b3_e4b97a150197row3_col0\" class=\"data row3 col0\" >0.41</td>\n",
       "                        <td id=\"T_ce3cb66c_3ba5_11ea_a9b3_e4b97a150197row3_col1\" class=\"data row3 col1\" >0.55</td>\n",
       "                        <td id=\"T_ce3cb66c_3ba5_11ea_a9b3_e4b97a150197row3_col2\" class=\"data row3 col2\" >0.47</td>\n",
       "                        <td id=\"T_ce3cb66c_3ba5_11ea_a9b3_e4b97a150197row3_col3\" class=\"data row3 col3\" >0.2</td>\n",
       "                        <td id=\"T_ce3cb66c_3ba5_11ea_a9b3_e4b97a150197row3_col4\" class=\"data row3 col4\" >0.47</td>\n",
       "                        <td id=\"T_ce3cb66c_3ba5_11ea_a9b3_e4b97a150197row3_col5\" class=\"data row3 col5\" >0.3</td>\n",
       "                        <td id=\"T_ce3cb66c_3ba5_11ea_a9b3_e4b97a150197row3_col6\" class=\"data row3 col6\" >0.19</td>\n",
       "                        <td id=\"T_ce3cb66c_3ba5_11ea_a9b3_e4b97a150197row3_col7\" class=\"data row3 col7\" >0.68</td>\n",
       "            </tr>\n",
       "    </tbody></table>"
      ],
      "text/plain": [
       "<pandas.io.formats.style.Styler at 0x7f165d9dc4d0>"
      ]
     },
     "execution_count": 34,
     "metadata": {},
     "output_type": "execute_result"
    }
   ],
   "source": [
    "ng_df = display_results(ng_results[newsgroup_all_k[2]])\n",
    "highlight_df(ng_df)"
   ]
  },
  {
   "cell_type": "markdown",
   "metadata": {},
   "source": [
    "### Wikipedia"
   ]
  },
  {
   "cell_type": "code",
   "execution_count": 35,
   "metadata": {},
   "outputs": [],
   "source": [
    "wk_results = get_all_scores(spectral, wikipedia, wikipedia_truth, n_clusters=wikipedia_all_k)"
   ]
  },
  {
   "cell_type": "code",
   "execution_count": 36,
   "metadata": {},
   "outputs": [
    {
     "data": {
      "text/html": [
       "<style  type=\"text/css\" >\n",
       "    #T_d10eb16a_3ba5_11ea_a9b3_e4b97a150197row0_col1 {\n",
       "            background-color:  yellow;\n",
       "        }    #T_d10eb16a_3ba5_11ea_a9b3_e4b97a150197row0_col3 {\n",
       "            background-color:  yellow;\n",
       "        }    #T_d10eb16a_3ba5_11ea_a9b3_e4b97a150197row0_col5 {\n",
       "            background-color:  yellow;\n",
       "        }    #T_d10eb16a_3ba5_11ea_a9b3_e4b97a150197row1_col0 {\n",
       "            background-color:  yellow;\n",
       "        }    #T_d10eb16a_3ba5_11ea_a9b3_e4b97a150197row1_col2 {\n",
       "            background-color:  yellow;\n",
       "        }    #T_d10eb16a_3ba5_11ea_a9b3_e4b97a150197row1_col3 {\n",
       "            background-color:  yellow;\n",
       "        }    #T_d10eb16a_3ba5_11ea_a9b3_e4b97a150197row1_col4 {\n",
       "            background-color:  yellow;\n",
       "        }    #T_d10eb16a_3ba5_11ea_a9b3_e4b97a150197row1_col7 {\n",
       "            background-color:  yellow;\n",
       "        }    #T_d10eb16a_3ba5_11ea_a9b3_e4b97a150197row3_col6 {\n",
       "            background-color:  yellow;\n",
       "        }</style><table id=\"T_d10eb16a_3ba5_11ea_a9b3_e4b97a150197\" ><thead>    <tr>        <th class=\"blank level0\" ></th>        <th class=\"col_heading level0 col0\" >H</th>        <th class=\"col_heading level0 col1\" >C</th>        <th class=\"col_heading level0 col2\" >V</th>        <th class=\"col_heading level0 col3\" >ARI</th>        <th class=\"col_heading level0 col4\" >AMI</th>        <th class=\"col_heading level0 col5\" >FMI</th>        <th class=\"col_heading level0 col6\" >Q</th>        <th class=\"col_heading level0 col7\" >NSD</th>    </tr></thead><tbody>\n",
       "                <tr>\n",
       "                        <th id=\"T_d10eb16a_3ba5_11ea_a9b3_e4b97a150197level0_row0\" class=\"row_heading level0 row0\" >0E+00</th>\n",
       "                        <td id=\"T_d10eb16a_3ba5_11ea_a9b3_e4b97a150197row0_col0\" class=\"data row0 col0\" >0</td>\n",
       "                        <td id=\"T_d10eb16a_3ba5_11ea_a9b3_e4b97a150197row0_col1\" class=\"data row0 col1\" >0.49</td>\n",
       "                        <td id=\"T_d10eb16a_3ba5_11ea_a9b3_e4b97a150197row0_col2\" class=\"data row0 col2\" >0</td>\n",
       "                        <td id=\"T_d10eb16a_3ba5_11ea_a9b3_e4b97a150197row0_col3\" class=\"data row0 col3\" >0</td>\n",
       "                        <td id=\"T_d10eb16a_3ba5_11ea_a9b3_e4b97a150197row0_col4\" class=\"data row0 col4\" >0</td>\n",
       "                        <td id=\"T_d10eb16a_3ba5_11ea_a9b3_e4b97a150197row0_col5\" class=\"data row0 col5\" >0.39</td>\n",
       "                        <td id=\"T_d10eb16a_3ba5_11ea_a9b3_e4b97a150197row0_col6\" class=\"data row0 col6\" >0</td>\n",
       "                        <td id=\"T_d10eb16a_3ba5_11ea_a9b3_e4b97a150197row0_col7\" class=\"data row0 col7\" >0</td>\n",
       "            </tr>\n",
       "            <tr>\n",
       "                        <th id=\"T_d10eb16a_3ba5_11ea_a9b3_e4b97a150197level0_row1\" class=\"row_heading level0 row1\" >1E-01</th>\n",
       "                        <td id=\"T_d10eb16a_3ba5_11ea_a9b3_e4b97a150197row1_col0\" class=\"data row1 col0\" >0.07</td>\n",
       "                        <td id=\"T_d10eb16a_3ba5_11ea_a9b3_e4b97a150197row1_col1\" class=\"data row1 col1\" >0.42</td>\n",
       "                        <td id=\"T_d10eb16a_3ba5_11ea_a9b3_e4b97a150197row1_col2\" class=\"data row1 col2\" >0.13</td>\n",
       "                        <td id=\"T_d10eb16a_3ba5_11ea_a9b3_e4b97a150197row1_col3\" class=\"data row1 col3\" >0</td>\n",
       "                        <td id=\"T_d10eb16a_3ba5_11ea_a9b3_e4b97a150197row1_col4\" class=\"data row1 col4\" >0.12</td>\n",
       "                        <td id=\"T_d10eb16a_3ba5_11ea_a9b3_e4b97a150197row1_col5\" class=\"data row1 col5\" >0.34</td>\n",
       "                        <td id=\"T_d10eb16a_3ba5_11ea_a9b3_e4b97a150197row1_col6\" class=\"data row1 col6\" >0.09</td>\n",
       "                        <td id=\"T_d10eb16a_3ba5_11ea_a9b3_e4b97a150197row1_col7\" class=\"data row1 col7\" >0.26</td>\n",
       "            </tr>\n",
       "            <tr>\n",
       "                        <th id=\"T_d10eb16a_3ba5_11ea_a9b3_e4b97a150197level0_row2\" class=\"row_heading level0 row2\" >1E+00</th>\n",
       "                        <td id=\"T_d10eb16a_3ba5_11ea_a9b3_e4b97a150197row2_col0\" class=\"data row2 col0\" >0.03</td>\n",
       "                        <td id=\"T_d10eb16a_3ba5_11ea_a9b3_e4b97a150197row2_col1\" class=\"data row2 col1\" >0.27</td>\n",
       "                        <td id=\"T_d10eb16a_3ba5_11ea_a9b3_e4b97a150197row2_col2\" class=\"data row2 col2\" >0.05</td>\n",
       "                        <td id=\"T_d10eb16a_3ba5_11ea_a9b3_e4b97a150197row2_col3\" class=\"data row2 col3\" >-0.01</td>\n",
       "                        <td id=\"T_d10eb16a_3ba5_11ea_a9b3_e4b97a150197row2_col4\" class=\"data row2 col4\" >0.05</td>\n",
       "                        <td id=\"T_d10eb16a_3ba5_11ea_a9b3_e4b97a150197row2_col5\" class=\"data row2 col5\" >0.35</td>\n",
       "                        <td id=\"T_d10eb16a_3ba5_11ea_a9b3_e4b97a150197row2_col6\" class=\"data row2 col6\" >0.09</td>\n",
       "                        <td id=\"T_d10eb16a_3ba5_11ea_a9b3_e4b97a150197row2_col7\" class=\"data row2 col7\" >0.13</td>\n",
       "            </tr>\n",
       "            <tr>\n",
       "                        <th id=\"T_d10eb16a_3ba5_11ea_a9b3_e4b97a150197level0_row3\" class=\"row_heading level0 row3\" >1E+01</th>\n",
       "                        <td id=\"T_d10eb16a_3ba5_11ea_a9b3_e4b97a150197row3_col0\" class=\"data row3 col0\" >0.02</td>\n",
       "                        <td id=\"T_d10eb16a_3ba5_11ea_a9b3_e4b97a150197row3_col1\" class=\"data row3 col1\" >0.16</td>\n",
       "                        <td id=\"T_d10eb16a_3ba5_11ea_a9b3_e4b97a150197row3_col2\" class=\"data row3 col2\" >0.04</td>\n",
       "                        <td id=\"T_d10eb16a_3ba5_11ea_a9b3_e4b97a150197row3_col3\" class=\"data row3 col3\" >-0.02</td>\n",
       "                        <td id=\"T_d10eb16a_3ba5_11ea_a9b3_e4b97a150197row3_col4\" class=\"data row3 col4\" >0.03</td>\n",
       "                        <td id=\"T_d10eb16a_3ba5_11ea_a9b3_e4b97a150197row3_col5\" class=\"data row3 col5\" >0.34</td>\n",
       "                        <td id=\"T_d10eb16a_3ba5_11ea_a9b3_e4b97a150197row3_col6\" class=\"data row3 col6\" >0.1</td>\n",
       "                        <td id=\"T_d10eb16a_3ba5_11ea_a9b3_e4b97a150197row3_col7\" class=\"data row3 col7\" >0.16</td>\n",
       "            </tr>\n",
       "    </tbody></table>"
      ],
      "text/plain": [
       "<pandas.io.formats.style.Styler at 0x7f165ab0f610>"
      ]
     },
     "execution_count": 36,
     "metadata": {},
     "output_type": "execute_result"
    }
   ],
   "source": [
    "wk_df = display_results(wk_results[wikipedia_all_k[0]])\n",
    "highlight_df(wk_df)"
   ]
  },
  {
   "cell_type": "code",
   "execution_count": 37,
   "metadata": {},
   "outputs": [
    {
     "data": {
      "text/html": [
       "<style  type=\"text/css\" >\n",
       "    #T_d111df98_3ba5_11ea_a9b3_e4b97a150197row0_col1 {\n",
       "            background-color:  yellow;\n",
       "        }    #T_d111df98_3ba5_11ea_a9b3_e4b97a150197row0_col2 {\n",
       "            background-color:  yellow;\n",
       "        }    #T_d111df98_3ba5_11ea_a9b3_e4b97a150197row0_col4 {\n",
       "            background-color:  yellow;\n",
       "        }    #T_d111df98_3ba5_11ea_a9b3_e4b97a150197row0_col5 {\n",
       "            background-color:  yellow;\n",
       "        }    #T_d111df98_3ba5_11ea_a9b3_e4b97a150197row1_col0 {\n",
       "            background-color:  yellow;\n",
       "        }    #T_d111df98_3ba5_11ea_a9b3_e4b97a150197row2_col0 {\n",
       "            background-color:  yellow;\n",
       "        }    #T_d111df98_3ba5_11ea_a9b3_e4b97a150197row2_col3 {\n",
       "            background-color:  yellow;\n",
       "        }    #T_d111df98_3ba5_11ea_a9b3_e4b97a150197row2_col6 {\n",
       "            background-color:  yellow;\n",
       "        }    #T_d111df98_3ba5_11ea_a9b3_e4b97a150197row2_col7 {\n",
       "            background-color:  yellow;\n",
       "        }</style><table id=\"T_d111df98_3ba5_11ea_a9b3_e4b97a150197\" ><thead>    <tr>        <th class=\"blank level0\" ></th>        <th class=\"col_heading level0 col0\" >H</th>        <th class=\"col_heading level0 col1\" >C</th>        <th class=\"col_heading level0 col2\" >V</th>        <th class=\"col_heading level0 col3\" >ARI</th>        <th class=\"col_heading level0 col4\" >AMI</th>        <th class=\"col_heading level0 col5\" >FMI</th>        <th class=\"col_heading level0 col6\" >Q</th>        <th class=\"col_heading level0 col7\" >NSD</th>    </tr></thead><tbody>\n",
       "                <tr>\n",
       "                        <th id=\"T_d111df98_3ba5_11ea_a9b3_e4b97a150197level0_row0\" class=\"row_heading level0 row0\" >0E+00</th>\n",
       "                        <td id=\"T_d111df98_3ba5_11ea_a9b3_e4b97a150197row0_col0\" class=\"data row0 col0\" >0.15</td>\n",
       "                        <td id=\"T_d111df98_3ba5_11ea_a9b3_e4b97a150197row0_col1\" class=\"data row0 col1\" >0.41</td>\n",
       "                        <td id=\"T_d111df98_3ba5_11ea_a9b3_e4b97a150197row0_col2\" class=\"data row0 col2\" >0.22</td>\n",
       "                        <td id=\"T_d111df98_3ba5_11ea_a9b3_e4b97a150197row0_col3\" class=\"data row0 col3\" >0.02</td>\n",
       "                        <td id=\"T_d111df98_3ba5_11ea_a9b3_e4b97a150197row0_col4\" class=\"data row0 col4\" >0.22</td>\n",
       "                        <td id=\"T_d111df98_3ba5_11ea_a9b3_e4b97a150197row0_col5\" class=\"data row0 col5\" >0.33</td>\n",
       "                        <td id=\"T_d111df98_3ba5_11ea_a9b3_e4b97a150197row0_col6\" class=\"data row0 col6\" >0.16</td>\n",
       "                        <td id=\"T_d111df98_3ba5_11ea_a9b3_e4b97a150197row0_col7\" class=\"data row0 col7\" >0.24</td>\n",
       "            </tr>\n",
       "            <tr>\n",
       "                        <th id=\"T_d111df98_3ba5_11ea_a9b3_e4b97a150197level0_row1\" class=\"row_heading level0 row1\" >1E-01</th>\n",
       "                        <td id=\"T_d111df98_3ba5_11ea_a9b3_e4b97a150197row1_col0\" class=\"data row1 col0\" >0.16</td>\n",
       "                        <td id=\"T_d111df98_3ba5_11ea_a9b3_e4b97a150197row1_col1\" class=\"data row1 col1\" >0.3</td>\n",
       "                        <td id=\"T_d111df98_3ba5_11ea_a9b3_e4b97a150197row1_col2\" class=\"data row1 col2\" >0.21</td>\n",
       "                        <td id=\"T_d111df98_3ba5_11ea_a9b3_e4b97a150197row1_col3\" class=\"data row1 col3\" >0.03</td>\n",
       "                        <td id=\"T_d111df98_3ba5_11ea_a9b3_e4b97a150197row1_col4\" class=\"data row1 col4\" >0.2</td>\n",
       "                        <td id=\"T_d111df98_3ba5_11ea_a9b3_e4b97a150197row1_col5\" class=\"data row1 col5\" >0.28</td>\n",
       "                        <td id=\"T_d111df98_3ba5_11ea_a9b3_e4b97a150197row1_col6\" class=\"data row1 col6\" >0.23</td>\n",
       "                        <td id=\"T_d111df98_3ba5_11ea_a9b3_e4b97a150197row1_col7\" class=\"data row1 col7\" >0.41</td>\n",
       "            </tr>\n",
       "            <tr>\n",
       "                        <th id=\"T_d111df98_3ba5_11ea_a9b3_e4b97a150197level0_row2\" class=\"row_heading level0 row2\" >1E+00</th>\n",
       "                        <td id=\"T_d111df98_3ba5_11ea_a9b3_e4b97a150197row2_col0\" class=\"data row2 col0\" >0.16</td>\n",
       "                        <td id=\"T_d111df98_3ba5_11ea_a9b3_e4b97a150197row2_col1\" class=\"data row2 col1\" >0.25</td>\n",
       "                        <td id=\"T_d111df98_3ba5_11ea_a9b3_e4b97a150197row2_col2\" class=\"data row2 col2\" >0.2</td>\n",
       "                        <td id=\"T_d111df98_3ba5_11ea_a9b3_e4b97a150197row2_col3\" class=\"data row2 col3\" >0.05</td>\n",
       "                        <td id=\"T_d111df98_3ba5_11ea_a9b3_e4b97a150197row2_col4\" class=\"data row2 col4\" >0.19</td>\n",
       "                        <td id=\"T_d111df98_3ba5_11ea_a9b3_e4b97a150197row2_col5\" class=\"data row2 col5\" >0.27</td>\n",
       "                        <td id=\"T_d111df98_3ba5_11ea_a9b3_e4b97a150197row2_col6\" class=\"data row2 col6\" >0.29</td>\n",
       "                        <td id=\"T_d111df98_3ba5_11ea_a9b3_e4b97a150197row2_col7\" class=\"data row2 col7\" >0.52</td>\n",
       "            </tr>\n",
       "            <tr>\n",
       "                        <th id=\"T_d111df98_3ba5_11ea_a9b3_e4b97a150197level0_row3\" class=\"row_heading level0 row3\" >1E+01</th>\n",
       "                        <td id=\"T_d111df98_3ba5_11ea_a9b3_e4b97a150197row3_col0\" class=\"data row3 col0\" >0.14</td>\n",
       "                        <td id=\"T_d111df98_3ba5_11ea_a9b3_e4b97a150197row3_col1\" class=\"data row3 col1\" >0.22</td>\n",
       "                        <td id=\"T_d111df98_3ba5_11ea_a9b3_e4b97a150197row3_col2\" class=\"data row3 col2\" >0.17</td>\n",
       "                        <td id=\"T_d111df98_3ba5_11ea_a9b3_e4b97a150197row3_col3\" class=\"data row3 col3\" >0.02</td>\n",
       "                        <td id=\"T_d111df98_3ba5_11ea_a9b3_e4b97a150197row3_col4\" class=\"data row3 col4\" >0.16</td>\n",
       "                        <td id=\"T_d111df98_3ba5_11ea_a9b3_e4b97a150197row3_col5\" class=\"data row3 col5\" >0.25</td>\n",
       "                        <td id=\"T_d111df98_3ba5_11ea_a9b3_e4b97a150197row3_col6\" class=\"data row3 col6\" >0.23</td>\n",
       "                        <td id=\"T_d111df98_3ba5_11ea_a9b3_e4b97a150197row3_col7\" class=\"data row3 col7\" >0.48</td>\n",
       "            </tr>\n",
       "    </tbody></table>"
      ],
      "text/plain": [
       "<pandas.io.formats.style.Styler at 0x7f165aba6710>"
      ]
     },
     "execution_count": 37,
     "metadata": {},
     "output_type": "execute_result"
    }
   ],
   "source": [
    "wk_df = display_results(wk_results[wikipedia_all_k[1]])\n",
    "highlight_df(wk_df)"
   ]
  },
  {
   "cell_type": "code",
   "execution_count": 38,
   "metadata": {},
   "outputs": [
    {
     "data": {
      "text/html": [
       "<style  type=\"text/css\" >\n",
       "    #T_d1154e8a_3ba5_11ea_a9b3_e4b97a150197row0_col1 {\n",
       "            background-color:  yellow;\n",
       "        }    #T_d1154e8a_3ba5_11ea_a9b3_e4b97a150197row0_col5 {\n",
       "            background-color:  yellow;\n",
       "        }    #T_d1154e8a_3ba5_11ea_a9b3_e4b97a150197row1_col0 {\n",
       "            background-color:  yellow;\n",
       "        }    #T_d1154e8a_3ba5_11ea_a9b3_e4b97a150197row1_col2 {\n",
       "            background-color:  yellow;\n",
       "        }    #T_d1154e8a_3ba5_11ea_a9b3_e4b97a150197row1_col3 {\n",
       "            background-color:  yellow;\n",
       "        }    #T_d1154e8a_3ba5_11ea_a9b3_e4b97a150197row1_col4 {\n",
       "            background-color:  yellow;\n",
       "        }    #T_d1154e8a_3ba5_11ea_a9b3_e4b97a150197row2_col6 {\n",
       "            background-color:  yellow;\n",
       "        }    #T_d1154e8a_3ba5_11ea_a9b3_e4b97a150197row2_col7 {\n",
       "            background-color:  yellow;\n",
       "        }</style><table id=\"T_d1154e8a_3ba5_11ea_a9b3_e4b97a150197\" ><thead>    <tr>        <th class=\"blank level0\" ></th>        <th class=\"col_heading level0 col0\" >H</th>        <th class=\"col_heading level0 col1\" >C</th>        <th class=\"col_heading level0 col2\" >V</th>        <th class=\"col_heading level0 col3\" >ARI</th>        <th class=\"col_heading level0 col4\" >AMI</th>        <th class=\"col_heading level0 col5\" >FMI</th>        <th class=\"col_heading level0 col6\" >Q</th>        <th class=\"col_heading level0 col7\" >NSD</th>    </tr></thead><tbody>\n",
       "                <tr>\n",
       "                        <th id=\"T_d1154e8a_3ba5_11ea_a9b3_e4b97a150197level0_row0\" class=\"row_heading level0 row0\" >0E+00</th>\n",
       "                        <td id=\"T_d1154e8a_3ba5_11ea_a9b3_e4b97a150197row0_col0\" class=\"data row0 col0\" >0.2</td>\n",
       "                        <td id=\"T_d1154e8a_3ba5_11ea_a9b3_e4b97a150197row0_col1\" class=\"data row0 col1\" >0.3</td>\n",
       "                        <td id=\"T_d1154e8a_3ba5_11ea_a9b3_e4b97a150197row0_col2\" class=\"data row0 col2\" >0.24</td>\n",
       "                        <td id=\"T_d1154e8a_3ba5_11ea_a9b3_e4b97a150197row0_col3\" class=\"data row0 col3\" >0.03</td>\n",
       "                        <td id=\"T_d1154e8a_3ba5_11ea_a9b3_e4b97a150197row0_col4\" class=\"data row0 col4\" >0.23</td>\n",
       "                        <td id=\"T_d1154e8a_3ba5_11ea_a9b3_e4b97a150197row0_col5\" class=\"data row0 col5\" >0.27</td>\n",
       "                        <td id=\"T_d1154e8a_3ba5_11ea_a9b3_e4b97a150197row0_col6\" class=\"data row0 col6\" >0.19</td>\n",
       "                        <td id=\"T_d1154e8a_3ba5_11ea_a9b3_e4b97a150197row0_col7\" class=\"data row0 col7\" >0.4</td>\n",
       "            </tr>\n",
       "            <tr>\n",
       "                        <th id=\"T_d1154e8a_3ba5_11ea_a9b3_e4b97a150197level0_row1\" class=\"row_heading level0 row1\" >1E-01</th>\n",
       "                        <td id=\"T_d1154e8a_3ba5_11ea_a9b3_e4b97a150197row1_col0\" class=\"data row1 col0\" >0.26</td>\n",
       "                        <td id=\"T_d1154e8a_3ba5_11ea_a9b3_e4b97a150197row1_col1\" class=\"data row1 col1\" >0.29</td>\n",
       "                        <td id=\"T_d1154e8a_3ba5_11ea_a9b3_e4b97a150197row1_col2\" class=\"data row1 col2\" >0.27</td>\n",
       "                        <td id=\"T_d1154e8a_3ba5_11ea_a9b3_e4b97a150197row1_col3\" class=\"data row1 col3\" >0.09</td>\n",
       "                        <td id=\"T_d1154e8a_3ba5_11ea_a9b3_e4b97a150197row1_col4\" class=\"data row1 col4\" >0.27</td>\n",
       "                        <td id=\"T_d1154e8a_3ba5_11ea_a9b3_e4b97a150197row1_col5\" class=\"data row1 col5\" >0.25</td>\n",
       "                        <td id=\"T_d1154e8a_3ba5_11ea_a9b3_e4b97a150197row1_col6\" class=\"data row1 col6\" >0.28</td>\n",
       "                        <td id=\"T_d1154e8a_3ba5_11ea_a9b3_e4b97a150197row1_col7\" class=\"data row1 col7\" >0.63</td>\n",
       "            </tr>\n",
       "            <tr>\n",
       "                        <th id=\"T_d1154e8a_3ba5_11ea_a9b3_e4b97a150197level0_row2\" class=\"row_heading level0 row2\" >1E+00</th>\n",
       "                        <td id=\"T_d1154e8a_3ba5_11ea_a9b3_e4b97a150197row2_col0\" class=\"data row2 col0\" >0.23</td>\n",
       "                        <td id=\"T_d1154e8a_3ba5_11ea_a9b3_e4b97a150197row2_col1\" class=\"data row2 col1\" >0.23</td>\n",
       "                        <td id=\"T_d1154e8a_3ba5_11ea_a9b3_e4b97a150197row2_col2\" class=\"data row2 col2\" >0.23</td>\n",
       "                        <td id=\"T_d1154e8a_3ba5_11ea_a9b3_e4b97a150197row2_col3\" class=\"data row2 col3\" >0.05</td>\n",
       "                        <td id=\"T_d1154e8a_3ba5_11ea_a9b3_e4b97a150197row2_col4\" class=\"data row2 col4\" >0.22</td>\n",
       "                        <td id=\"T_d1154e8a_3ba5_11ea_a9b3_e4b97a150197row2_col5\" class=\"data row2 col5\" >0.2</td>\n",
       "                        <td id=\"T_d1154e8a_3ba5_11ea_a9b3_e4b97a150197row2_col6\" class=\"data row2 col6\" >0.3</td>\n",
       "                        <td id=\"T_d1154e8a_3ba5_11ea_a9b3_e4b97a150197row2_col7\" class=\"data row2 col7\" >0.68</td>\n",
       "            </tr>\n",
       "            <tr>\n",
       "                        <th id=\"T_d1154e8a_3ba5_11ea_a9b3_e4b97a150197level0_row3\" class=\"row_heading level0 row3\" >1E+01</th>\n",
       "                        <td id=\"T_d1154e8a_3ba5_11ea_a9b3_e4b97a150197row3_col0\" class=\"data row3 col0\" >0.18</td>\n",
       "                        <td id=\"T_d1154e8a_3ba5_11ea_a9b3_e4b97a150197row3_col1\" class=\"data row3 col1\" >0.22</td>\n",
       "                        <td id=\"T_d1154e8a_3ba5_11ea_a9b3_e4b97a150197row3_col2\" class=\"data row3 col2\" >0.2</td>\n",
       "                        <td id=\"T_d1154e8a_3ba5_11ea_a9b3_e4b97a150197row3_col3\" class=\"data row3 col3\" >0.01</td>\n",
       "                        <td id=\"T_d1154e8a_3ba5_11ea_a9b3_e4b97a150197row3_col4\" class=\"data row3 col4\" >0.19</td>\n",
       "                        <td id=\"T_d1154e8a_3ba5_11ea_a9b3_e4b97a150197row3_col5\" class=\"data row3 col5\" >0.22</td>\n",
       "                        <td id=\"T_d1154e8a_3ba5_11ea_a9b3_e4b97a150197row3_col6\" class=\"data row3 col6\" >0.18</td>\n",
       "                        <td id=\"T_d1154e8a_3ba5_11ea_a9b3_e4b97a150197row3_col7\" class=\"data row3 col7\" >0.51</td>\n",
       "            </tr>\n",
       "    </tbody></table>"
      ],
      "text/plain": [
       "<pandas.io.formats.style.Styler at 0x7f16b8590750>"
      ]
     },
     "execution_count": 38,
     "metadata": {},
     "output_type": "execute_result"
    }
   ],
   "source": [
    "wk_df = display_results(wk_results[wikipedia_all_k[2]])\n",
    "highlight_df(wk_df)"
   ]
  },
  {
   "cell_type": "markdown",
   "metadata": {},
   "source": [
    "## APPENDIX B"
   ]
  },
  {
   "cell_type": "markdown",
   "metadata": {},
   "source": [
    "### Undirected VS Bipartite Regularization"
   ]
  },
  {
   "cell_type": "code",
   "execution_count": 39,
   "metadata": {},
   "outputs": [],
   "source": [
    "u_vs_b = undir_vs_bipartite(newsgroup, newsgroup_truth, newsgroup_all_k, α=1.)"
   ]
  },
  {
   "cell_type": "code",
   "execution_count": 40,
   "metadata": {},
   "outputs": [
    {
     "data": {
      "text/html": [
       "<style  type=\"text/css\" >\n",
       "    #T_ec227220_3ba5_11ea_a9b3_e4b97a150197row0_col0 {\n",
       "            background-color:  yellow;\n",
       "        }    #T_ec227220_3ba5_11ea_a9b3_e4b97a150197row0_col3 {\n",
       "            background-color:  yellow;\n",
       "        }    #T_ec227220_3ba5_11ea_a9b3_e4b97a150197row0_col5 {\n",
       "            background-color:  yellow;\n",
       "        }    #T_ec227220_3ba5_11ea_a9b3_e4b97a150197row0_col6 {\n",
       "            background-color:  yellow;\n",
       "        }    #T_ec227220_3ba5_11ea_a9b3_e4b97a150197row0_col7 {\n",
       "            background-color:  yellow;\n",
       "        }    #T_ec227220_3ba5_11ea_a9b3_e4b97a150197row1_col0 {\n",
       "            background-color:  yellow;\n",
       "        }    #T_ec227220_3ba5_11ea_a9b3_e4b97a150197row1_col1 {\n",
       "            background-color:  yellow;\n",
       "        }    #T_ec227220_3ba5_11ea_a9b3_e4b97a150197row1_col2 {\n",
       "            background-color:  yellow;\n",
       "        }    #T_ec227220_3ba5_11ea_a9b3_e4b97a150197row1_col3 {\n",
       "            background-color:  yellow;\n",
       "        }    #T_ec227220_3ba5_11ea_a9b3_e4b97a150197row1_col4 {\n",
       "            background-color:  yellow;\n",
       "        }    #T_ec227220_3ba5_11ea_a9b3_e4b97a150197row1_col5 {\n",
       "            background-color:  yellow;\n",
       "        }    #T_ec227220_3ba5_11ea_a9b3_e4b97a150197row1_col6 {\n",
       "            background-color:  yellow;\n",
       "        }    #T_ec227220_3ba5_11ea_a9b3_e4b97a150197row1_col7 {\n",
       "            background-color:  yellow;\n",
       "        }</style><table id=\"T_ec227220_3ba5_11ea_a9b3_e4b97a150197\" ><thead>    <tr>        <th class=\"blank level0\" ></th>        <th class=\"col_heading level0 col0\" >H</th>        <th class=\"col_heading level0 col1\" >C</th>        <th class=\"col_heading level0 col2\" >V</th>        <th class=\"col_heading level0 col3\" >ARI</th>        <th class=\"col_heading level0 col4\" >AMI</th>        <th class=\"col_heading level0 col5\" >FMI</th>        <th class=\"col_heading level0 col6\" >Q</th>        <th class=\"col_heading level0 col7\" >NSD</th>    </tr></thead><tbody>\n",
       "                <tr>\n",
       "                        <th id=\"T_ec227220_3ba5_11ea_a9b3_e4b97a150197level0_row0\" class=\"row_heading level0 row0\" >A</th>\n",
       "                        <td id=\"T_ec227220_3ba5_11ea_a9b3_e4b97a150197row0_col0\" class=\"data row0 col0\" >0.09</td>\n",
       "                        <td id=\"T_ec227220_3ba5_11ea_a9b3_e4b97a150197row0_col1\" class=\"data row0 col1\" >0.74</td>\n",
       "                        <td id=\"T_ec227220_3ba5_11ea_a9b3_e4b97a150197row0_col2\" class=\"data row0 col2\" >0.15</td>\n",
       "                        <td id=\"T_ec227220_3ba5_11ea_a9b3_e4b97a150197row0_col3\" class=\"data row0 col3\" >0.02</td>\n",
       "                        <td id=\"T_ec227220_3ba5_11ea_a9b3_e4b97a150197row0_col4\" class=\"data row0 col4\" >0.15</td>\n",
       "                        <td id=\"T_ec227220_3ba5_11ea_a9b3_e4b97a150197row0_col5\" class=\"data row0 col5\" >0.24</td>\n",
       "                        <td id=\"T_ec227220_3ba5_11ea_a9b3_e4b97a150197row0_col6\" class=\"data row0 col6\" >0.06</td>\n",
       "                        <td id=\"T_ec227220_3ba5_11ea_a9b3_e4b97a150197row0_col7\" class=\"data row0 col7\" >0.21</td>\n",
       "            </tr>\n",
       "            <tr>\n",
       "                        <th id=\"T_ec227220_3ba5_11ea_a9b3_e4b97a150197level0_row1\" class=\"row_heading level0 row1\" >B</th>\n",
       "                        <td id=\"T_ec227220_3ba5_11ea_a9b3_e4b97a150197row1_col0\" class=\"data row1 col0\" >0.09</td>\n",
       "                        <td id=\"T_ec227220_3ba5_11ea_a9b3_e4b97a150197row1_col1\" class=\"data row1 col1\" >0.77</td>\n",
       "                        <td id=\"T_ec227220_3ba5_11ea_a9b3_e4b97a150197row1_col2\" class=\"data row1 col2\" >0.16</td>\n",
       "                        <td id=\"T_ec227220_3ba5_11ea_a9b3_e4b97a150197row1_col3\" class=\"data row1 col3\" >0.02</td>\n",
       "                        <td id=\"T_ec227220_3ba5_11ea_a9b3_e4b97a150197row1_col4\" class=\"data row1 col4\" >0.16</td>\n",
       "                        <td id=\"T_ec227220_3ba5_11ea_a9b3_e4b97a150197row1_col5\" class=\"data row1 col5\" >0.24</td>\n",
       "                        <td id=\"T_ec227220_3ba5_11ea_a9b3_e4b97a150197row1_col6\" class=\"data row1 col6\" >0.06</td>\n",
       "                        <td id=\"T_ec227220_3ba5_11ea_a9b3_e4b97a150197row1_col7\" class=\"data row1 col7\" >0.21</td>\n",
       "            </tr>\n",
       "    </tbody></table>"
      ],
      "text/plain": [
       "<pandas.io.formats.style.Styler at 0x7f165aacce10>"
      ]
     },
     "execution_count": 40,
     "metadata": {},
     "output_type": "execute_result"
    }
   ],
   "source": [
    "vs_df = display_results(u_vs_b[newsgroup_all_k[0]])\n",
    "highlight_df(vs_df)"
   ]
  },
  {
   "cell_type": "code",
   "execution_count": 41,
   "metadata": {},
   "outputs": [
    {
     "data": {
      "text/html": [
       "<style  type=\"text/css\" >\n",
       "    #T_ec250922_3ba5_11ea_a9b3_e4b97a150197row0_col0 {\n",
       "            background-color:  yellow;\n",
       "        }    #T_ec250922_3ba5_11ea_a9b3_e4b97a150197row0_col1 {\n",
       "            background-color:  yellow;\n",
       "        }    #T_ec250922_3ba5_11ea_a9b3_e4b97a150197row0_col2 {\n",
       "            background-color:  yellow;\n",
       "        }    #T_ec250922_3ba5_11ea_a9b3_e4b97a150197row0_col3 {\n",
       "            background-color:  yellow;\n",
       "        }    #T_ec250922_3ba5_11ea_a9b3_e4b97a150197row0_col4 {\n",
       "            background-color:  yellow;\n",
       "        }    #T_ec250922_3ba5_11ea_a9b3_e4b97a150197row0_col5 {\n",
       "            background-color:  yellow;\n",
       "        }    #T_ec250922_3ba5_11ea_a9b3_e4b97a150197row0_col6 {\n",
       "            background-color:  yellow;\n",
       "        }    #T_ec250922_3ba5_11ea_a9b3_e4b97a150197row0_col7 {\n",
       "            background-color:  yellow;\n",
       "        }    #T_ec250922_3ba5_11ea_a9b3_e4b97a150197row1_col0 {\n",
       "            background-color:  yellow;\n",
       "        }    #T_ec250922_3ba5_11ea_a9b3_e4b97a150197row1_col2 {\n",
       "            background-color:  yellow;\n",
       "        }    #T_ec250922_3ba5_11ea_a9b3_e4b97a150197row1_col3 {\n",
       "            background-color:  yellow;\n",
       "        }    #T_ec250922_3ba5_11ea_a9b3_e4b97a150197row1_col4 {\n",
       "            background-color:  yellow;\n",
       "        }    #T_ec250922_3ba5_11ea_a9b3_e4b97a150197row1_col5 {\n",
       "            background-color:  yellow;\n",
       "        }    #T_ec250922_3ba5_11ea_a9b3_e4b97a150197row1_col6 {\n",
       "            background-color:  yellow;\n",
       "        }    #T_ec250922_3ba5_11ea_a9b3_e4b97a150197row1_col7 {\n",
       "            background-color:  yellow;\n",
       "        }</style><table id=\"T_ec250922_3ba5_11ea_a9b3_e4b97a150197\" ><thead>    <tr>        <th class=\"blank level0\" ></th>        <th class=\"col_heading level0 col0\" >H</th>        <th class=\"col_heading level0 col1\" >C</th>        <th class=\"col_heading level0 col2\" >V</th>        <th class=\"col_heading level0 col3\" >ARI</th>        <th class=\"col_heading level0 col4\" >AMI</th>        <th class=\"col_heading level0 col5\" >FMI</th>        <th class=\"col_heading level0 col6\" >Q</th>        <th class=\"col_heading level0 col7\" >NSD</th>    </tr></thead><tbody>\n",
       "                <tr>\n",
       "                        <th id=\"T_ec250922_3ba5_11ea_a9b3_e4b97a150197level0_row0\" class=\"row_heading level0 row0\" >A</th>\n",
       "                        <td id=\"T_ec250922_3ba5_11ea_a9b3_e4b97a150197row0_col0\" class=\"data row0 col0\" >0.37</td>\n",
       "                        <td id=\"T_ec250922_3ba5_11ea_a9b3_e4b97a150197row0_col1\" class=\"data row0 col1\" >0.71</td>\n",
       "                        <td id=\"T_ec250922_3ba5_11ea_a9b3_e4b97a150197row0_col2\" class=\"data row0 col2\" >0.48</td>\n",
       "                        <td id=\"T_ec250922_3ba5_11ea_a9b3_e4b97a150197row0_col3\" class=\"data row0 col3\" >0.16</td>\n",
       "                        <td id=\"T_ec250922_3ba5_11ea_a9b3_e4b97a150197row0_col4\" class=\"data row0 col4\" >0.48</td>\n",
       "                        <td id=\"T_ec250922_3ba5_11ea_a9b3_e4b97a150197row0_col5\" class=\"data row0 col5\" >0.32</td>\n",
       "                        <td id=\"T_ec250922_3ba5_11ea_a9b3_e4b97a150197row0_col6\" class=\"data row0 col6\" >0.2</td>\n",
       "                        <td id=\"T_ec250922_3ba5_11ea_a9b3_e4b97a150197row0_col7\" class=\"data row0 col7\" >0.56</td>\n",
       "            </tr>\n",
       "            <tr>\n",
       "                        <th id=\"T_ec250922_3ba5_11ea_a9b3_e4b97a150197level0_row1\" class=\"row_heading level0 row1\" >B</th>\n",
       "                        <td id=\"T_ec250922_3ba5_11ea_a9b3_e4b97a150197row1_col0\" class=\"data row1 col0\" >0.37</td>\n",
       "                        <td id=\"T_ec250922_3ba5_11ea_a9b3_e4b97a150197row1_col1\" class=\"data row1 col1\" >0.7</td>\n",
       "                        <td id=\"T_ec250922_3ba5_11ea_a9b3_e4b97a150197row1_col2\" class=\"data row1 col2\" >0.48</td>\n",
       "                        <td id=\"T_ec250922_3ba5_11ea_a9b3_e4b97a150197row1_col3\" class=\"data row1 col3\" >0.16</td>\n",
       "                        <td id=\"T_ec250922_3ba5_11ea_a9b3_e4b97a150197row1_col4\" class=\"data row1 col4\" >0.48</td>\n",
       "                        <td id=\"T_ec250922_3ba5_11ea_a9b3_e4b97a150197row1_col5\" class=\"data row1 col5\" >0.32</td>\n",
       "                        <td id=\"T_ec250922_3ba5_11ea_a9b3_e4b97a150197row1_col6\" class=\"data row1 col6\" >0.2</td>\n",
       "                        <td id=\"T_ec250922_3ba5_11ea_a9b3_e4b97a150197row1_col7\" class=\"data row1 col7\" >0.56</td>\n",
       "            </tr>\n",
       "    </tbody></table>"
      ],
      "text/plain": [
       "<pandas.io.formats.style.Styler at 0x7f165aaccc90>"
      ]
     },
     "execution_count": 41,
     "metadata": {},
     "output_type": "execute_result"
    }
   ],
   "source": [
    "vs_df = display_results(u_vs_b[newsgroup_all_k[1]])\n",
    "highlight_df(vs_df)"
   ]
  },
  {
   "cell_type": "code",
   "execution_count": 42,
   "metadata": {},
   "outputs": [
    {
     "data": {
      "text/html": [
       "<style  type=\"text/css\" >\n",
       "    #T_ec2789f4_3ba5_11ea_a9b3_e4b97a150197row0_col0 {\n",
       "            background-color:  yellow;\n",
       "        }    #T_ec2789f4_3ba5_11ea_a9b3_e4b97a150197row0_col1 {\n",
       "            background-color:  yellow;\n",
       "        }    #T_ec2789f4_3ba5_11ea_a9b3_e4b97a150197row0_col2 {\n",
       "            background-color:  yellow;\n",
       "        }    #T_ec2789f4_3ba5_11ea_a9b3_e4b97a150197row0_col3 {\n",
       "            background-color:  yellow;\n",
       "        }    #T_ec2789f4_3ba5_11ea_a9b3_e4b97a150197row0_col4 {\n",
       "            background-color:  yellow;\n",
       "        }    #T_ec2789f4_3ba5_11ea_a9b3_e4b97a150197row0_col5 {\n",
       "            background-color:  yellow;\n",
       "        }    #T_ec2789f4_3ba5_11ea_a9b3_e4b97a150197row0_col6 {\n",
       "            background-color:  yellow;\n",
       "        }    #T_ec2789f4_3ba5_11ea_a9b3_e4b97a150197row0_col7 {\n",
       "            background-color:  yellow;\n",
       "        }</style><table id=\"T_ec2789f4_3ba5_11ea_a9b3_e4b97a150197\" ><thead>    <tr>        <th class=\"blank level0\" ></th>        <th class=\"col_heading level0 col0\" >H</th>        <th class=\"col_heading level0 col1\" >C</th>        <th class=\"col_heading level0 col2\" >V</th>        <th class=\"col_heading level0 col3\" >ARI</th>        <th class=\"col_heading level0 col4\" >AMI</th>        <th class=\"col_heading level0 col5\" >FMI</th>        <th class=\"col_heading level0 col6\" >Q</th>        <th class=\"col_heading level0 col7\" >NSD</th>    </tr></thead><tbody>\n",
       "                <tr>\n",
       "                        <th id=\"T_ec2789f4_3ba5_11ea_a9b3_e4b97a150197level0_row0\" class=\"row_heading level0 row0\" >A</th>\n",
       "                        <td id=\"T_ec2789f4_3ba5_11ea_a9b3_e4b97a150197row0_col0\" class=\"data row0 col0\" >0.46</td>\n",
       "                        <td id=\"T_ec2789f4_3ba5_11ea_a9b3_e4b97a150197row0_col1\" class=\"data row0 col1\" >0.67</td>\n",
       "                        <td id=\"T_ec2789f4_3ba5_11ea_a9b3_e4b97a150197row0_col2\" class=\"data row0 col2\" >0.54</td>\n",
       "                        <td id=\"T_ec2789f4_3ba5_11ea_a9b3_e4b97a150197row0_col3\" class=\"data row0 col3\" >0.19</td>\n",
       "                        <td id=\"T_ec2789f4_3ba5_11ea_a9b3_e4b97a150197row0_col4\" class=\"data row0 col4\" >0.54</td>\n",
       "                        <td id=\"T_ec2789f4_3ba5_11ea_a9b3_e4b97a150197row0_col5\" class=\"data row0 col5\" >0.32</td>\n",
       "                        <td id=\"T_ec2789f4_3ba5_11ea_a9b3_e4b97a150197row0_col6\" class=\"data row0 col6\" >0.2</td>\n",
       "                        <td id=\"T_ec2789f4_3ba5_11ea_a9b3_e4b97a150197row0_col7\" class=\"data row0 col7\" >0.59</td>\n",
       "            </tr>\n",
       "            <tr>\n",
       "                        <th id=\"T_ec2789f4_3ba5_11ea_a9b3_e4b97a150197level0_row1\" class=\"row_heading level0 row1\" >B</th>\n",
       "                        <td id=\"T_ec2789f4_3ba5_11ea_a9b3_e4b97a150197row1_col0\" class=\"data row1 col0\" >0.44</td>\n",
       "                        <td id=\"T_ec2789f4_3ba5_11ea_a9b3_e4b97a150197row1_col1\" class=\"data row1 col1\" >0.65</td>\n",
       "                        <td id=\"T_ec2789f4_3ba5_11ea_a9b3_e4b97a150197row1_col2\" class=\"data row1 col2\" >0.52</td>\n",
       "                        <td id=\"T_ec2789f4_3ba5_11ea_a9b3_e4b97a150197row1_col3\" class=\"data row1 col3\" >0.16</td>\n",
       "                        <td id=\"T_ec2789f4_3ba5_11ea_a9b3_e4b97a150197row1_col4\" class=\"data row1 col4\" >0.52</td>\n",
       "                        <td id=\"T_ec2789f4_3ba5_11ea_a9b3_e4b97a150197row1_col5\" class=\"data row1 col5\" >0.3</td>\n",
       "                        <td id=\"T_ec2789f4_3ba5_11ea_a9b3_e4b97a150197row1_col6\" class=\"data row1 col6\" >0.19</td>\n",
       "                        <td id=\"T_ec2789f4_3ba5_11ea_a9b3_e4b97a150197row1_col7\" class=\"data row1 col7\" >0.57</td>\n",
       "            </tr>\n",
       "    </tbody></table>"
      ],
      "text/plain": [
       "<pandas.io.formats.style.Styler at 0x7f165ab89b90>"
      ]
     },
     "execution_count": 42,
     "metadata": {},
     "output_type": "execute_result"
    }
   ],
   "source": [
    "vs_df = display_results(u_vs_b[newsgroup_all_k[2]])\n",
    "highlight_df(vs_df)"
   ]
  },
  {
   "cell_type": "markdown",
   "metadata": {},
   "source": [
    "### Experimenting with noise"
   ]
  },
  {
   "cell_type": "markdown",
   "metadata": {},
   "source": [
    "Baseline without regularization."
   ]
  },
  {
   "cell_type": "code",
   "execution_count": 43,
   "metadata": {},
   "outputs": [],
   "source": [
    "wk_noise_bsl = test_noise(spectral, wikipedia, wikipedia_truth, wikipedia_K_true, α=0.)"
   ]
  },
  {
   "cell_type": "code",
   "execution_count": 44,
   "metadata": {},
   "outputs": [
    {
     "data": {
      "text/html": [
       "<style  type=\"text/css\" >\n",
       "    #T_edd92eb0_3ba5_11ea_a9b3_e4b97a150197row0_col0 {\n",
       "            background-color:  yellow;\n",
       "        }    #T_edd92eb0_3ba5_11ea_a9b3_e4b97a150197row0_col2 {\n",
       "            background-color:  yellow;\n",
       "        }    #T_edd92eb0_3ba5_11ea_a9b3_e4b97a150197row0_col3 {\n",
       "            background-color:  yellow;\n",
       "        }    #T_edd92eb0_3ba5_11ea_a9b3_e4b97a150197row0_col4 {\n",
       "            background-color:  yellow;\n",
       "        }    #T_edd92eb0_3ba5_11ea_a9b3_e4b97a150197row0_col6 {\n",
       "            background-color:  yellow;\n",
       "        }    #T_edd92eb0_3ba5_11ea_a9b3_e4b97a150197row0_col7 {\n",
       "            background-color:  yellow;\n",
       "        }    #T_edd92eb0_3ba5_11ea_a9b3_e4b97a150197row1_col1 {\n",
       "            background-color:  yellow;\n",
       "        }    #T_edd92eb0_3ba5_11ea_a9b3_e4b97a150197row1_col5 {\n",
       "            background-color:  yellow;\n",
       "        }    #T_edd92eb0_3ba5_11ea_a9b3_e4b97a150197row2_col1 {\n",
       "            background-color:  yellow;\n",
       "        }    #T_edd92eb0_3ba5_11ea_a9b3_e4b97a150197row2_col5 {\n",
       "            background-color:  yellow;\n",
       "        }    #T_edd92eb0_3ba5_11ea_a9b3_e4b97a150197row3_col1 {\n",
       "            background-color:  yellow;\n",
       "        }    #T_edd92eb0_3ba5_11ea_a9b3_e4b97a150197row3_col5 {\n",
       "            background-color:  yellow;\n",
       "        }</style><table id=\"T_edd92eb0_3ba5_11ea_a9b3_e4b97a150197\" ><thead>    <tr>        <th class=\"blank level0\" ></th>        <th class=\"col_heading level0 col0\" >H</th>        <th class=\"col_heading level0 col1\" >C</th>        <th class=\"col_heading level0 col2\" >V</th>        <th class=\"col_heading level0 col3\" >ARI</th>        <th class=\"col_heading level0 col4\" >AMI</th>        <th class=\"col_heading level0 col5\" >FMI</th>        <th class=\"col_heading level0 col6\" >Q</th>        <th class=\"col_heading level0 col7\" >NSD</th>    </tr></thead><tbody>\n",
       "                <tr>\n",
       "                        <th id=\"T_edd92eb0_3ba5_11ea_a9b3_e4b97a150197level0_row0\" class=\"row_heading level0 row0\" >0.0</th>\n",
       "                        <td id=\"T_edd92eb0_3ba5_11ea_a9b3_e4b97a150197row0_col0\" class=\"data row0 col0\" >0.2</td>\n",
       "                        <td id=\"T_edd92eb0_3ba5_11ea_a9b3_e4b97a150197row0_col1\" class=\"data row0 col1\" >0.3</td>\n",
       "                        <td id=\"T_edd92eb0_3ba5_11ea_a9b3_e4b97a150197row0_col2\" class=\"data row0 col2\" >0.24</td>\n",
       "                        <td id=\"T_edd92eb0_3ba5_11ea_a9b3_e4b97a150197row0_col3\" class=\"data row0 col3\" >0.03</td>\n",
       "                        <td id=\"T_edd92eb0_3ba5_11ea_a9b3_e4b97a150197row0_col4\" class=\"data row0 col4\" >0.23</td>\n",
       "                        <td id=\"T_edd92eb0_3ba5_11ea_a9b3_e4b97a150197row0_col5\" class=\"data row0 col5\" >0.27</td>\n",
       "                        <td id=\"T_edd92eb0_3ba5_11ea_a9b3_e4b97a150197row0_col6\" class=\"data row0 col6\" >0.19</td>\n",
       "                        <td id=\"T_edd92eb0_3ba5_11ea_a9b3_e4b97a150197row0_col7\" class=\"data row0 col7\" >0.4</td>\n",
       "            </tr>\n",
       "            <tr>\n",
       "                        <th id=\"T_edd92eb0_3ba5_11ea_a9b3_e4b97a150197level0_row1\" class=\"row_heading level0 row1\" >0.01</th>\n",
       "                        <td id=\"T_edd92eb0_3ba5_11ea_a9b3_e4b97a150197row1_col0\" class=\"data row1 col0\" >0</td>\n",
       "                        <td id=\"T_edd92eb0_3ba5_11ea_a9b3_e4b97a150197row1_col1\" class=\"data row1 col1\" >0.49</td>\n",
       "                        <td id=\"T_edd92eb0_3ba5_11ea_a9b3_e4b97a150197row1_col2\" class=\"data row1 col2\" >0</td>\n",
       "                        <td id=\"T_edd92eb0_3ba5_11ea_a9b3_e4b97a150197row1_col3\" class=\"data row1 col3\" >0</td>\n",
       "                        <td id=\"T_edd92eb0_3ba5_11ea_a9b3_e4b97a150197row1_col4\" class=\"data row1 col4\" >0</td>\n",
       "                        <td id=\"T_edd92eb0_3ba5_11ea_a9b3_e4b97a150197row1_col5\" class=\"data row1 col5\" >0.39</td>\n",
       "                        <td id=\"T_edd92eb0_3ba5_11ea_a9b3_e4b97a150197row1_col6\" class=\"data row1 col6\" >0</td>\n",
       "                        <td id=\"T_edd92eb0_3ba5_11ea_a9b3_e4b97a150197row1_col7\" class=\"data row1 col7\" >0</td>\n",
       "            </tr>\n",
       "            <tr>\n",
       "                        <th id=\"T_edd92eb0_3ba5_11ea_a9b3_e4b97a150197level0_row2\" class=\"row_heading level0 row2\" >0.05</th>\n",
       "                        <td id=\"T_edd92eb0_3ba5_11ea_a9b3_e4b97a150197row2_col0\" class=\"data row2 col0\" >0</td>\n",
       "                        <td id=\"T_edd92eb0_3ba5_11ea_a9b3_e4b97a150197row2_col1\" class=\"data row2 col1\" >0.49</td>\n",
       "                        <td id=\"T_edd92eb0_3ba5_11ea_a9b3_e4b97a150197row2_col2\" class=\"data row2 col2\" >0</td>\n",
       "                        <td id=\"T_edd92eb0_3ba5_11ea_a9b3_e4b97a150197row2_col3\" class=\"data row2 col3\" >0</td>\n",
       "                        <td id=\"T_edd92eb0_3ba5_11ea_a9b3_e4b97a150197row2_col4\" class=\"data row2 col4\" >0</td>\n",
       "                        <td id=\"T_edd92eb0_3ba5_11ea_a9b3_e4b97a150197row2_col5\" class=\"data row2 col5\" >0.39</td>\n",
       "                        <td id=\"T_edd92eb0_3ba5_11ea_a9b3_e4b97a150197row2_col6\" class=\"data row2 col6\" >0</td>\n",
       "                        <td id=\"T_edd92eb0_3ba5_11ea_a9b3_e4b97a150197row2_col7\" class=\"data row2 col7\" >0</td>\n",
       "            </tr>\n",
       "            <tr>\n",
       "                        <th id=\"T_edd92eb0_3ba5_11ea_a9b3_e4b97a150197level0_row3\" class=\"row_heading level0 row3\" >0.1</th>\n",
       "                        <td id=\"T_edd92eb0_3ba5_11ea_a9b3_e4b97a150197row3_col0\" class=\"data row3 col0\" >0</td>\n",
       "                        <td id=\"T_edd92eb0_3ba5_11ea_a9b3_e4b97a150197row3_col1\" class=\"data row3 col1\" >0.49</td>\n",
       "                        <td id=\"T_edd92eb0_3ba5_11ea_a9b3_e4b97a150197row3_col2\" class=\"data row3 col2\" >0</td>\n",
       "                        <td id=\"T_edd92eb0_3ba5_11ea_a9b3_e4b97a150197row3_col3\" class=\"data row3 col3\" >0</td>\n",
       "                        <td id=\"T_edd92eb0_3ba5_11ea_a9b3_e4b97a150197row3_col4\" class=\"data row3 col4\" >0</td>\n",
       "                        <td id=\"T_edd92eb0_3ba5_11ea_a9b3_e4b97a150197row3_col5\" class=\"data row3 col5\" >0.39</td>\n",
       "                        <td id=\"T_edd92eb0_3ba5_11ea_a9b3_e4b97a150197row3_col6\" class=\"data row3 col6\" >0</td>\n",
       "                        <td id=\"T_edd92eb0_3ba5_11ea_a9b3_e4b97a150197row3_col7\" class=\"data row3 col7\" >0</td>\n",
       "            </tr>\n",
       "    </tbody></table>"
      ],
      "text/plain": [
       "<pandas.io.formats.style.Styler at 0x7f165ce6eed0>"
      ]
     },
     "execution_count": 44,
     "metadata": {},
     "output_type": "execute_result"
    }
   ],
   "source": [
    "wk_df = display_results(wk_noise_bsl)\n",
    "highlight_df(wk_df)"
   ]
  },
  {
   "cell_type": "markdown",
   "metadata": {},
   "source": [
    "Regularized embedding with $\\alpha=1$."
   ]
  },
  {
   "cell_type": "code",
   "execution_count": 45,
   "metadata": {},
   "outputs": [],
   "source": [
    "wk_noise_reg = test_noise(spectral, wikipedia, wikipedia_truth, wikipedia_K_true)"
   ]
  },
  {
   "cell_type": "code",
   "execution_count": 46,
   "metadata": {},
   "outputs": [
    {
     "data": {
      "text/html": [
       "<style  type=\"text/css\" >\n",
       "    #T_efca240e_3ba5_11ea_a9b3_e4b97a150197row0_col0 {\n",
       "            background-color:  yellow;\n",
       "        }    #T_efca240e_3ba5_11ea_a9b3_e4b97a150197row0_col1 {\n",
       "            background-color:  yellow;\n",
       "        }    #T_efca240e_3ba5_11ea_a9b3_e4b97a150197row0_col2 {\n",
       "            background-color:  yellow;\n",
       "        }    #T_efca240e_3ba5_11ea_a9b3_e4b97a150197row0_col3 {\n",
       "            background-color:  yellow;\n",
       "        }    #T_efca240e_3ba5_11ea_a9b3_e4b97a150197row0_col4 {\n",
       "            background-color:  yellow;\n",
       "        }    #T_efca240e_3ba5_11ea_a9b3_e4b97a150197row0_col5 {\n",
       "            background-color:  yellow;\n",
       "        }    #T_efca240e_3ba5_11ea_a9b3_e4b97a150197row0_col6 {\n",
       "            background-color:  yellow;\n",
       "        }    #T_efca240e_3ba5_11ea_a9b3_e4b97a150197row0_col7 {\n",
       "            background-color:  yellow;\n",
       "        }    #T_efca240e_3ba5_11ea_a9b3_e4b97a150197row1_col0 {\n",
       "            background-color:  yellow;\n",
       "        }    #T_efca240e_3ba5_11ea_a9b3_e4b97a150197row1_col1 {\n",
       "            background-color:  yellow;\n",
       "        }    #T_efca240e_3ba5_11ea_a9b3_e4b97a150197row1_col2 {\n",
       "            background-color:  yellow;\n",
       "        }    #T_efca240e_3ba5_11ea_a9b3_e4b97a150197row1_col3 {\n",
       "            background-color:  yellow;\n",
       "        }    #T_efca240e_3ba5_11ea_a9b3_e4b97a150197row1_col4 {\n",
       "            background-color:  yellow;\n",
       "        }    #T_efca240e_3ba5_11ea_a9b3_e4b97a150197row1_col5 {\n",
       "            background-color:  yellow;\n",
       "        }    #T_efca240e_3ba5_11ea_a9b3_e4b97a150197row1_col6 {\n",
       "            background-color:  yellow;\n",
       "        }    #T_efca240e_3ba5_11ea_a9b3_e4b97a150197row2_col0 {\n",
       "            background-color:  yellow;\n",
       "        }    #T_efca240e_3ba5_11ea_a9b3_e4b97a150197row2_col1 {\n",
       "            background-color:  yellow;\n",
       "        }    #T_efca240e_3ba5_11ea_a9b3_e4b97a150197row2_col2 {\n",
       "            background-color:  yellow;\n",
       "        }    #T_efca240e_3ba5_11ea_a9b3_e4b97a150197row2_col3 {\n",
       "            background-color:  yellow;\n",
       "        }    #T_efca240e_3ba5_11ea_a9b3_e4b97a150197row2_col4 {\n",
       "            background-color:  yellow;\n",
       "        }    #T_efca240e_3ba5_11ea_a9b3_e4b97a150197row2_col5 {\n",
       "            background-color:  yellow;\n",
       "        }    #T_efca240e_3ba5_11ea_a9b3_e4b97a150197row2_col6 {\n",
       "            background-color:  yellow;\n",
       "        }    #T_efca240e_3ba5_11ea_a9b3_e4b97a150197row2_col7 {\n",
       "            background-color:  yellow;\n",
       "        }    #T_efca240e_3ba5_11ea_a9b3_e4b97a150197row3_col0 {\n",
       "            background-color:  yellow;\n",
       "        }    #T_efca240e_3ba5_11ea_a9b3_e4b97a150197row3_col2 {\n",
       "            background-color:  yellow;\n",
       "        }    #T_efca240e_3ba5_11ea_a9b3_e4b97a150197row3_col3 {\n",
       "            background-color:  yellow;\n",
       "        }    #T_efca240e_3ba5_11ea_a9b3_e4b97a150197row3_col4 {\n",
       "            background-color:  yellow;\n",
       "        }    #T_efca240e_3ba5_11ea_a9b3_e4b97a150197row3_col5 {\n",
       "            background-color:  yellow;\n",
       "        }    #T_efca240e_3ba5_11ea_a9b3_e4b97a150197row3_col6 {\n",
       "            background-color:  yellow;\n",
       "        }    #T_efca240e_3ba5_11ea_a9b3_e4b97a150197row3_col7 {\n",
       "            background-color:  yellow;\n",
       "        }</style><table id=\"T_efca240e_3ba5_11ea_a9b3_e4b97a150197\" ><thead>    <tr>        <th class=\"blank level0\" ></th>        <th class=\"col_heading level0 col0\" >H</th>        <th class=\"col_heading level0 col1\" >C</th>        <th class=\"col_heading level0 col2\" >V</th>        <th class=\"col_heading level0 col3\" >ARI</th>        <th class=\"col_heading level0 col4\" >AMI</th>        <th class=\"col_heading level0 col5\" >FMI</th>        <th class=\"col_heading level0 col6\" >Q</th>        <th class=\"col_heading level0 col7\" >NSD</th>    </tr></thead><tbody>\n",
       "                <tr>\n",
       "                        <th id=\"T_efca240e_3ba5_11ea_a9b3_e4b97a150197level0_row0\" class=\"row_heading level0 row0\" >0.0</th>\n",
       "                        <td id=\"T_efca240e_3ba5_11ea_a9b3_e4b97a150197row0_col0\" class=\"data row0 col0\" >0.23</td>\n",
       "                        <td id=\"T_efca240e_3ba5_11ea_a9b3_e4b97a150197row0_col1\" class=\"data row0 col1\" >0.23</td>\n",
       "                        <td id=\"T_efca240e_3ba5_11ea_a9b3_e4b97a150197row0_col2\" class=\"data row0 col2\" >0.23</td>\n",
       "                        <td id=\"T_efca240e_3ba5_11ea_a9b3_e4b97a150197row0_col3\" class=\"data row0 col3\" >0.05</td>\n",
       "                        <td id=\"T_efca240e_3ba5_11ea_a9b3_e4b97a150197row0_col4\" class=\"data row0 col4\" >0.22</td>\n",
       "                        <td id=\"T_efca240e_3ba5_11ea_a9b3_e4b97a150197row0_col5\" class=\"data row0 col5\" >0.2</td>\n",
       "                        <td id=\"T_efca240e_3ba5_11ea_a9b3_e4b97a150197row0_col6\" class=\"data row0 col6\" >0.3</td>\n",
       "                        <td id=\"T_efca240e_3ba5_11ea_a9b3_e4b97a150197row0_col7\" class=\"data row0 col7\" >0.68</td>\n",
       "            </tr>\n",
       "            <tr>\n",
       "                        <th id=\"T_efca240e_3ba5_11ea_a9b3_e4b97a150197level0_row1\" class=\"row_heading level0 row1\" >0.01</th>\n",
       "                        <td id=\"T_efca240e_3ba5_11ea_a9b3_e4b97a150197row1_col0\" class=\"data row1 col0\" >0.23</td>\n",
       "                        <td id=\"T_efca240e_3ba5_11ea_a9b3_e4b97a150197row1_col1\" class=\"data row1 col1\" >0.23</td>\n",
       "                        <td id=\"T_efca240e_3ba5_11ea_a9b3_e4b97a150197row1_col2\" class=\"data row1 col2\" >0.23</td>\n",
       "                        <td id=\"T_efca240e_3ba5_11ea_a9b3_e4b97a150197row1_col3\" class=\"data row1 col3\" >0.05</td>\n",
       "                        <td id=\"T_efca240e_3ba5_11ea_a9b3_e4b97a150197row1_col4\" class=\"data row1 col4\" >0.22</td>\n",
       "                        <td id=\"T_efca240e_3ba5_11ea_a9b3_e4b97a150197row1_col5\" class=\"data row1 col5\" >0.2</td>\n",
       "                        <td id=\"T_efca240e_3ba5_11ea_a9b3_e4b97a150197row1_col6\" class=\"data row1 col6\" >0.3</td>\n",
       "                        <td id=\"T_efca240e_3ba5_11ea_a9b3_e4b97a150197row1_col7\" class=\"data row1 col7\" >0.67</td>\n",
       "            </tr>\n",
       "            <tr>\n",
       "                        <th id=\"T_efca240e_3ba5_11ea_a9b3_e4b97a150197level0_row2\" class=\"row_heading level0 row2\" >0.05</th>\n",
       "                        <td id=\"T_efca240e_3ba5_11ea_a9b3_e4b97a150197row2_col0\" class=\"data row2 col0\" >0.23</td>\n",
       "                        <td id=\"T_efca240e_3ba5_11ea_a9b3_e4b97a150197row2_col1\" class=\"data row2 col1\" >0.23</td>\n",
       "                        <td id=\"T_efca240e_3ba5_11ea_a9b3_e4b97a150197row2_col2\" class=\"data row2 col2\" >0.23</td>\n",
       "                        <td id=\"T_efca240e_3ba5_11ea_a9b3_e4b97a150197row2_col3\" class=\"data row2 col3\" >0.05</td>\n",
       "                        <td id=\"T_efca240e_3ba5_11ea_a9b3_e4b97a150197row2_col4\" class=\"data row2 col4\" >0.22</td>\n",
       "                        <td id=\"T_efca240e_3ba5_11ea_a9b3_e4b97a150197row2_col5\" class=\"data row2 col5\" >0.2</td>\n",
       "                        <td id=\"T_efca240e_3ba5_11ea_a9b3_e4b97a150197row2_col6\" class=\"data row2 col6\" >0.3</td>\n",
       "                        <td id=\"T_efca240e_3ba5_11ea_a9b3_e4b97a150197row2_col7\" class=\"data row2 col7\" >0.68</td>\n",
       "            </tr>\n",
       "            <tr>\n",
       "                        <th id=\"T_efca240e_3ba5_11ea_a9b3_e4b97a150197level0_row3\" class=\"row_heading level0 row3\" >0.1</th>\n",
       "                        <td id=\"T_efca240e_3ba5_11ea_a9b3_e4b97a150197row3_col0\" class=\"data row3 col0\" >0.23</td>\n",
       "                        <td id=\"T_efca240e_3ba5_11ea_a9b3_e4b97a150197row3_col1\" class=\"data row3 col1\" >0.22</td>\n",
       "                        <td id=\"T_efca240e_3ba5_11ea_a9b3_e4b97a150197row3_col2\" class=\"data row3 col2\" >0.23</td>\n",
       "                        <td id=\"T_efca240e_3ba5_11ea_a9b3_e4b97a150197row3_col3\" class=\"data row3 col3\" >0.05</td>\n",
       "                        <td id=\"T_efca240e_3ba5_11ea_a9b3_e4b97a150197row3_col4\" class=\"data row3 col4\" >0.22</td>\n",
       "                        <td id=\"T_efca240e_3ba5_11ea_a9b3_e4b97a150197row3_col5\" class=\"data row3 col5\" >0.2</td>\n",
       "                        <td id=\"T_efca240e_3ba5_11ea_a9b3_e4b97a150197row3_col6\" class=\"data row3 col6\" >0.3</td>\n",
       "                        <td id=\"T_efca240e_3ba5_11ea_a9b3_e4b97a150197row3_col7\" class=\"data row3 col7\" >0.68</td>\n",
       "            </tr>\n",
       "    </tbody></table>"
      ],
      "text/plain": [
       "<pandas.io.formats.style.Styler at 0x7f1659d65510>"
      ]
     },
     "execution_count": 46,
     "metadata": {},
     "output_type": "execute_result"
    }
   ],
   "source": [
    "wk_df = display_results(wk_noise_reg)\n",
    "highlight_df(wk_df)"
   ]
  },
  {
   "cell_type": "markdown",
   "metadata": {},
   "source": [
    "### 20 newsgroup"
   ]
  },
  {
   "cell_type": "code",
   "execution_count": 47,
   "metadata": {},
   "outputs": [],
   "source": [
    "ng_noise_bsl = test_noise(spectral, newsgroup, newsgroup_truth, newsgroup_K_true, α=0.)"
   ]
  },
  {
   "cell_type": "code",
   "execution_count": 48,
   "metadata": {},
   "outputs": [
    {
     "data": {
      "text/html": [
       "<style  type=\"text/css\" >\n",
       "    #T_0767d39a_3ba6_11ea_a9b3_e4b97a150197row0_col0 {\n",
       "            background-color:  yellow;\n",
       "        }    #T_0767d39a_3ba6_11ea_a9b3_e4b97a150197row0_col2 {\n",
       "            background-color:  yellow;\n",
       "        }    #T_0767d39a_3ba6_11ea_a9b3_e4b97a150197row0_col3 {\n",
       "            background-color:  yellow;\n",
       "        }    #T_0767d39a_3ba6_11ea_a9b3_e4b97a150197row0_col4 {\n",
       "            background-color:  yellow;\n",
       "        }    #T_0767d39a_3ba6_11ea_a9b3_e4b97a150197row0_col6 {\n",
       "            background-color:  yellow;\n",
       "        }    #T_0767d39a_3ba6_11ea_a9b3_e4b97a150197row0_col7 {\n",
       "            background-color:  yellow;\n",
       "        }    #T_0767d39a_3ba6_11ea_a9b3_e4b97a150197row1_col1 {\n",
       "            background-color:  yellow;\n",
       "        }    #T_0767d39a_3ba6_11ea_a9b3_e4b97a150197row3_col1 {\n",
       "            background-color:  yellow;\n",
       "        }    #T_0767d39a_3ba6_11ea_a9b3_e4b97a150197row3_col5 {\n",
       "            background-color:  yellow;\n",
       "        }</style><table id=\"T_0767d39a_3ba6_11ea_a9b3_e4b97a150197\" ><thead>    <tr>        <th class=\"blank level0\" ></th>        <th class=\"col_heading level0 col0\" >H</th>        <th class=\"col_heading level0 col1\" >C</th>        <th class=\"col_heading level0 col2\" >V</th>        <th class=\"col_heading level0 col3\" >ARI</th>        <th class=\"col_heading level0 col4\" >AMI</th>        <th class=\"col_heading level0 col5\" >FMI</th>        <th class=\"col_heading level0 col6\" >Q</th>        <th class=\"col_heading level0 col7\" >NSD</th>    </tr></thead><tbody>\n",
       "                <tr>\n",
       "                        <th id=\"T_0767d39a_3ba6_11ea_a9b3_e4b97a150197level0_row0\" class=\"row_heading level0 row0\" >0.0</th>\n",
       "                        <td id=\"T_0767d39a_3ba6_11ea_a9b3_e4b97a150197row0_col0\" class=\"data row0 col0\" >0.29</td>\n",
       "                        <td id=\"T_0767d39a_3ba6_11ea_a9b3_e4b97a150197row0_col1\" class=\"data row0 col1\" >0.66</td>\n",
       "                        <td id=\"T_0767d39a_3ba6_11ea_a9b3_e4b97a150197row0_col2\" class=\"data row0 col2\" >0.4</td>\n",
       "                        <td id=\"T_0767d39a_3ba6_11ea_a9b3_e4b97a150197row0_col3\" class=\"data row0 col3\" >0.09</td>\n",
       "                        <td id=\"T_0767d39a_3ba6_11ea_a9b3_e4b97a150197row0_col4\" class=\"data row0 col4\" >0.4</td>\n",
       "                        <td id=\"T_0767d39a_3ba6_11ea_a9b3_e4b97a150197row0_col5\" class=\"data row0 col5\" >0.27</td>\n",
       "                        <td id=\"T_0767d39a_3ba6_11ea_a9b3_e4b97a150197row0_col6\" class=\"data row0 col6\" >0.18</td>\n",
       "                        <td id=\"T_0767d39a_3ba6_11ea_a9b3_e4b97a150197row0_col7\" class=\"data row0 col7\" >0.4</td>\n",
       "            </tr>\n",
       "            <tr>\n",
       "                        <th id=\"T_0767d39a_3ba6_11ea_a9b3_e4b97a150197level0_row1\" class=\"row_heading level0 row1\" >0.01</th>\n",
       "                        <td id=\"T_0767d39a_3ba6_11ea_a9b3_e4b97a150197row1_col0\" class=\"data row1 col0\" >0.06</td>\n",
       "                        <td id=\"T_0767d39a_3ba6_11ea_a9b3_e4b97a150197row1_col1\" class=\"data row1 col1\" >0.7</td>\n",
       "                        <td id=\"T_0767d39a_3ba6_11ea_a9b3_e4b97a150197row1_col2\" class=\"data row1 col2\" >0.12</td>\n",
       "                        <td id=\"T_0767d39a_3ba6_11ea_a9b3_e4b97a150197row1_col3\" class=\"data row1 col3\" >0.01</td>\n",
       "                        <td id=\"T_0767d39a_3ba6_11ea_a9b3_e4b97a150197row1_col4\" class=\"data row1 col4\" >0.11</td>\n",
       "                        <td id=\"T_0767d39a_3ba6_11ea_a9b3_e4b97a150197row1_col5\" class=\"data row1 col5\" >0.23</td>\n",
       "                        <td id=\"T_0767d39a_3ba6_11ea_a9b3_e4b97a150197row1_col6\" class=\"data row1 col6\" >0.04</td>\n",
       "                        <td id=\"T_0767d39a_3ba6_11ea_a9b3_e4b97a150197row1_col7\" class=\"data row1 col7\" >0.09</td>\n",
       "            </tr>\n",
       "            <tr>\n",
       "                        <th id=\"T_0767d39a_3ba6_11ea_a9b3_e4b97a150197level0_row2\" class=\"row_heading level0 row2\" >0.05</th>\n",
       "                        <td id=\"T_0767d39a_3ba6_11ea_a9b3_e4b97a150197row2_col0\" class=\"data row2 col0\" >0</td>\n",
       "                        <td id=\"T_0767d39a_3ba6_11ea_a9b3_e4b97a150197row2_col1\" class=\"data row2 col1\" >0.36</td>\n",
       "                        <td id=\"T_0767d39a_3ba6_11ea_a9b3_e4b97a150197row2_col2\" class=\"data row2 col2\" >0</td>\n",
       "                        <td id=\"T_0767d39a_3ba6_11ea_a9b3_e4b97a150197row2_col3\" class=\"data row2 col3\" >-0</td>\n",
       "                        <td id=\"T_0767d39a_3ba6_11ea_a9b3_e4b97a150197row2_col4\" class=\"data row2 col4\" >0</td>\n",
       "                        <td id=\"T_0767d39a_3ba6_11ea_a9b3_e4b97a150197row2_col5\" class=\"data row2 col5\" >0.23</td>\n",
       "                        <td id=\"T_0767d39a_3ba6_11ea_a9b3_e4b97a150197row2_col6\" class=\"data row2 col6\" >0</td>\n",
       "                        <td id=\"T_0767d39a_3ba6_11ea_a9b3_e4b97a150197row2_col7\" class=\"data row2 col7\" >0</td>\n",
       "            </tr>\n",
       "            <tr>\n",
       "                        <th id=\"T_0767d39a_3ba6_11ea_a9b3_e4b97a150197level0_row3\" class=\"row_heading level0 row3\" >0.1</th>\n",
       "                        <td id=\"T_0767d39a_3ba6_11ea_a9b3_e4b97a150197row3_col0\" class=\"data row3 col0\" >0.17</td>\n",
       "                        <td id=\"T_0767d39a_3ba6_11ea_a9b3_e4b97a150197row3_col1\" class=\"data row3 col1\" >0.7</td>\n",
       "                        <td id=\"T_0767d39a_3ba6_11ea_a9b3_e4b97a150197row3_col2\" class=\"data row3 col2\" >0.27</td>\n",
       "                        <td id=\"T_0767d39a_3ba6_11ea_a9b3_e4b97a150197row3_col3\" class=\"data row3 col3\" >0.08</td>\n",
       "                        <td id=\"T_0767d39a_3ba6_11ea_a9b3_e4b97a150197row3_col4\" class=\"data row3 col4\" >0.27</td>\n",
       "                        <td id=\"T_0767d39a_3ba6_11ea_a9b3_e4b97a150197row3_col5\" class=\"data row3 col5\" >0.28</td>\n",
       "                        <td id=\"T_0767d39a_3ba6_11ea_a9b3_e4b97a150197row3_col6\" class=\"data row3 col6\" >0.17</td>\n",
       "                        <td id=\"T_0767d39a_3ba6_11ea_a9b3_e4b97a150197row3_col7\" class=\"data row3 col7\" >0.38</td>\n",
       "            </tr>\n",
       "    </tbody></table>"
      ],
      "text/plain": [
       "<pandas.io.formats.style.Styler at 0x7f1659d65d10>"
      ]
     },
     "execution_count": 48,
     "metadata": {},
     "output_type": "execute_result"
    }
   ],
   "source": [
    "ng_df = display_results(ng_noise_bsl)\n",
    "highlight_df(ng_df)"
   ]
  },
  {
   "cell_type": "code",
   "execution_count": 49,
   "metadata": {},
   "outputs": [],
   "source": [
    "ng_noise_reg = test_noise(spectral, newsgroup, newsgroup_truth, newsgroup_K_true, α=1.)"
   ]
  },
  {
   "cell_type": "code",
   "execution_count": 50,
   "metadata": {},
   "outputs": [
    {
     "data": {
      "text/html": [
       "<style  type=\"text/css\" >\n",
       "    #T_1e20cbe6_3ba6_11ea_a9b3_e4b97a150197row0_col1 {\n",
       "            background-color:  yellow;\n",
       "        }    #T_1e20cbe6_3ba6_11ea_a9b3_e4b97a150197row0_col2 {\n",
       "            background-color:  yellow;\n",
       "        }    #T_1e20cbe6_3ba6_11ea_a9b3_e4b97a150197row1_col1 {\n",
       "            background-color:  yellow;\n",
       "        }    #T_1e20cbe6_3ba6_11ea_a9b3_e4b97a150197row2_col0 {\n",
       "            background-color:  yellow;\n",
       "        }    #T_1e20cbe6_3ba6_11ea_a9b3_e4b97a150197row2_col1 {\n",
       "            background-color:  yellow;\n",
       "        }    #T_1e20cbe6_3ba6_11ea_a9b3_e4b97a150197row2_col2 {\n",
       "            background-color:  yellow;\n",
       "        }    #T_1e20cbe6_3ba6_11ea_a9b3_e4b97a150197row2_col3 {\n",
       "            background-color:  yellow;\n",
       "        }    #T_1e20cbe6_3ba6_11ea_a9b3_e4b97a150197row2_col4 {\n",
       "            background-color:  yellow;\n",
       "        }    #T_1e20cbe6_3ba6_11ea_a9b3_e4b97a150197row2_col5 {\n",
       "            background-color:  yellow;\n",
       "        }    #T_1e20cbe6_3ba6_11ea_a9b3_e4b97a150197row2_col6 {\n",
       "            background-color:  yellow;\n",
       "        }    #T_1e20cbe6_3ba6_11ea_a9b3_e4b97a150197row2_col7 {\n",
       "            background-color:  yellow;\n",
       "        }</style><table id=\"T_1e20cbe6_3ba6_11ea_a9b3_e4b97a150197\" ><thead>    <tr>        <th class=\"blank level0\" ></th>        <th class=\"col_heading level0 col0\" >H</th>        <th class=\"col_heading level0 col1\" >C</th>        <th class=\"col_heading level0 col2\" >V</th>        <th class=\"col_heading level0 col3\" >ARI</th>        <th class=\"col_heading level0 col4\" >AMI</th>        <th class=\"col_heading level0 col5\" >FMI</th>        <th class=\"col_heading level0 col6\" >Q</th>        <th class=\"col_heading level0 col7\" >NSD</th>    </tr></thead><tbody>\n",
       "                <tr>\n",
       "                        <th id=\"T_1e20cbe6_3ba6_11ea_a9b3_e4b97a150197level0_row0\" class=\"row_heading level0 row0\" >0.0</th>\n",
       "                        <td id=\"T_1e20cbe6_3ba6_11ea_a9b3_e4b97a150197row0_col0\" class=\"data row0 col0\" >0.49</td>\n",
       "                        <td id=\"T_1e20cbe6_3ba6_11ea_a9b3_e4b97a150197row0_col1\" class=\"data row0 col1\" >0.66</td>\n",
       "                        <td id=\"T_1e20cbe6_3ba6_11ea_a9b3_e4b97a150197row0_col2\" class=\"data row0 col2\" >0.57</td>\n",
       "                        <td id=\"T_1e20cbe6_3ba6_11ea_a9b3_e4b97a150197row0_col3\" class=\"data row0 col3\" >0.23</td>\n",
       "                        <td id=\"T_1e20cbe6_3ba6_11ea_a9b3_e4b97a150197row0_col4\" class=\"data row0 col4\" >0.56</td>\n",
       "                        <td id=\"T_1e20cbe6_3ba6_11ea_a9b3_e4b97a150197row0_col5\" class=\"data row0 col5\" >0.34</td>\n",
       "                        <td id=\"T_1e20cbe6_3ba6_11ea_a9b3_e4b97a150197row0_col6\" class=\"data row0 col6\" >0.2</td>\n",
       "                        <td id=\"T_1e20cbe6_3ba6_11ea_a9b3_e4b97a150197row0_col7\" class=\"data row0 col7\" >0.66</td>\n",
       "            </tr>\n",
       "            <tr>\n",
       "                        <th id=\"T_1e20cbe6_3ba6_11ea_a9b3_e4b97a150197level0_row1\" class=\"row_heading level0 row1\" >0.01</th>\n",
       "                        <td id=\"T_1e20cbe6_3ba6_11ea_a9b3_e4b97a150197row1_col0\" class=\"data row1 col0\" >0.47</td>\n",
       "                        <td id=\"T_1e20cbe6_3ba6_11ea_a9b3_e4b97a150197row1_col1\" class=\"data row1 col1\" >0.66</td>\n",
       "                        <td id=\"T_1e20cbe6_3ba6_11ea_a9b3_e4b97a150197row1_col2\" class=\"data row1 col2\" >0.55</td>\n",
       "                        <td id=\"T_1e20cbe6_3ba6_11ea_a9b3_e4b97a150197row1_col3\" class=\"data row1 col3\" >0.22</td>\n",
       "                        <td id=\"T_1e20cbe6_3ba6_11ea_a9b3_e4b97a150197row1_col4\" class=\"data row1 col4\" >0.55</td>\n",
       "                        <td id=\"T_1e20cbe6_3ba6_11ea_a9b3_e4b97a150197row1_col5\" class=\"data row1 col5\" >0.34</td>\n",
       "                        <td id=\"T_1e20cbe6_3ba6_11ea_a9b3_e4b97a150197row1_col6\" class=\"data row1 col6\" >0.2</td>\n",
       "                        <td id=\"T_1e20cbe6_3ba6_11ea_a9b3_e4b97a150197row1_col7\" class=\"data row1 col7\" >0.62</td>\n",
       "            </tr>\n",
       "            <tr>\n",
       "                        <th id=\"T_1e20cbe6_3ba6_11ea_a9b3_e4b97a150197level0_row2\" class=\"row_heading level0 row2\" >0.05</th>\n",
       "                        <td id=\"T_1e20cbe6_3ba6_11ea_a9b3_e4b97a150197row2_col0\" class=\"data row2 col0\" >0.5</td>\n",
       "                        <td id=\"T_1e20cbe6_3ba6_11ea_a9b3_e4b97a150197row2_col1\" class=\"data row2 col1\" >0.66</td>\n",
       "                        <td id=\"T_1e20cbe6_3ba6_11ea_a9b3_e4b97a150197row2_col2\" class=\"data row2 col2\" >0.57</td>\n",
       "                        <td id=\"T_1e20cbe6_3ba6_11ea_a9b3_e4b97a150197row2_col3\" class=\"data row2 col3\" >0.3</td>\n",
       "                        <td id=\"T_1e20cbe6_3ba6_11ea_a9b3_e4b97a150197row2_col4\" class=\"data row2 col4\" >0.57</td>\n",
       "                        <td id=\"T_1e20cbe6_3ba6_11ea_a9b3_e4b97a150197row2_col5\" class=\"data row2 col5\" >0.39</td>\n",
       "                        <td id=\"T_1e20cbe6_3ba6_11ea_a9b3_e4b97a150197row2_col6\" class=\"data row2 col6\" >0.21</td>\n",
       "                        <td id=\"T_1e20cbe6_3ba6_11ea_a9b3_e4b97a150197row2_col7\" class=\"data row2 col7\" >0.7</td>\n",
       "            </tr>\n",
       "            <tr>\n",
       "                        <th id=\"T_1e20cbe6_3ba6_11ea_a9b3_e4b97a150197level0_row3\" class=\"row_heading level0 row3\" >0.1</th>\n",
       "                        <td id=\"T_1e20cbe6_3ba6_11ea_a9b3_e4b97a150197row3_col0\" class=\"data row3 col0\" >0.48</td>\n",
       "                        <td id=\"T_1e20cbe6_3ba6_11ea_a9b3_e4b97a150197row3_col1\" class=\"data row3 col1\" >0.64</td>\n",
       "                        <td id=\"T_1e20cbe6_3ba6_11ea_a9b3_e4b97a150197row3_col2\" class=\"data row3 col2\" >0.55</td>\n",
       "                        <td id=\"T_1e20cbe6_3ba6_11ea_a9b3_e4b97a150197row3_col3\" class=\"data row3 col3\" >0.24</td>\n",
       "                        <td id=\"T_1e20cbe6_3ba6_11ea_a9b3_e4b97a150197row3_col4\" class=\"data row3 col4\" >0.55</td>\n",
       "                        <td id=\"T_1e20cbe6_3ba6_11ea_a9b3_e4b97a150197row3_col5\" class=\"data row3 col5\" >0.35</td>\n",
       "                        <td id=\"T_1e20cbe6_3ba6_11ea_a9b3_e4b97a150197row3_col6\" class=\"data row3 col6\" >0.2</td>\n",
       "                        <td id=\"T_1e20cbe6_3ba6_11ea_a9b3_e4b97a150197row3_col7\" class=\"data row3 col7\" >0.66</td>\n",
       "            </tr>\n",
       "    </tbody></table>"
      ],
      "text/plain": [
       "<pandas.io.formats.style.Styler at 0x7f165ce6e2d0>"
      ]
     },
     "execution_count": 50,
     "metadata": {},
     "output_type": "execute_result"
    }
   ],
   "source": [
    "ng_df = display_results(ng_noise_reg)\n",
    "highlight_df(ng_df)"
   ]
  }
 ],
 "metadata": {
  "kernelspec": {
   "display_name": "Python 3",
   "language": "python",
   "name": "python3"
  },
  "language_info": {
   "codemirror_mode": {
    "name": "ipython",
    "version": 3
   },
   "file_extension": ".py",
   "mimetype": "text/x-python",
   "name": "python",
   "nbconvert_exporter": "python",
   "pygments_lexer": "ipython3",
   "version": "3.7.6"
  }
 },
 "nbformat": 4,
 "nbformat_minor": 2
}
