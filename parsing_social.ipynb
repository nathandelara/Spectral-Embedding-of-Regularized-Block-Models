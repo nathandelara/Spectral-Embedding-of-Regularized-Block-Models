{
 "cells": [
  {
   "cell_type": "markdown",
   "metadata": {},
   "source": [
    "# Parsing social datasets\n",
    "available at http://networkrepository.com"
   ]
  },
  {
   "cell_type": "code",
   "execution_count": 1,
   "metadata": {},
   "outputs": [],
   "source": [
    "import numpy as np\n",
    "from scipy import sparse\n",
    "\n",
    "from sknetwork.loader import parse_tsv"
   ]
  },
  {
   "cell_type": "code",
   "execution_count": 35,
   "metadata": {},
   "outputs": [],
   "source": [
    "def parse_dataset(dataset_name, folder=None):\n",
    "    if not folder:\n",
    "        folder = dataset_name\n",
    "        \n",
    "    adj, _ = parse_tsv(folder+'/soc-'+dataset_name+'-ASU.edges')\n",
    "    labels = np.loadtxt(folder+'/soc-'+dataset_name+'-ASU.node_labels', dtype=int, delimiter=',')\n",
    "    \n",
    "    _, idx = np.unique(labels[:, 0], return_index=True)\n",
    "    labels = labels[idx]\n",
    "    \n",
    "    idx = np.argsort(labels[:, 0])\n",
    "    labels = labels[idx]\n",
    "    \n",
    "    if len(labels) != adj.shape[0]:\n",
    "        labels_idx = labels[:, 0]\n",
    "    else:\n",
    "        labels_idx = None\n",
    "        \n",
    "    labels = labels[:, 1]\n",
    "    \n",
    "    sparse.save_npz(dataset_name+'.npz', adj)\n",
    "    np.savetxt(dataset_name+'_labels.txt', labels, fmt='%d')\n",
    "    if labels_idx is not None:\n",
    "        np.savetxt(dataset_name+'_labels_idx.txt', labels_idx, fmt='%d')\n",
    "    \n",
    "    print('Dataset parsed.')"
   ]
  },
  {
   "cell_type": "markdown",
   "metadata": {},
   "source": [
    "#### BlogCatalog"
   ]
  },
  {
   "cell_type": "code",
   "execution_count": 26,
   "metadata": {},
   "outputs": [
    {
     "name": "stdout",
     "output_type": "stream",
     "text": [
      "Dataset parsed.\n"
     ]
    }
   ],
   "source": [
    "parse_dataset('BlogCatalog')"
   ]
  },
  {
   "cell_type": "markdown",
   "metadata": {},
   "source": [
    "#### Flickr"
   ]
  },
  {
   "cell_type": "code",
   "execution_count": 27,
   "metadata": {},
   "outputs": [
    {
     "name": "stdout",
     "output_type": "stream",
     "text": [
      "Dataset parsed.\n"
     ]
    }
   ],
   "source": [
    "parse_dataset('Flickr')"
   ]
  },
  {
   "cell_type": "markdown",
   "metadata": {},
   "source": [
    "#### YouTube"
   ]
  },
  {
   "cell_type": "code",
   "execution_count": 36,
   "metadata": {},
   "outputs": [
    {
     "name": "stdout",
     "output_type": "stream",
     "text": [
      "Dataset parsed.\n"
     ]
    }
   ],
   "source": [
    "parse_dataset('YouTube')"
   ]
  }
 ],
 "metadata": {
  "kernelspec": {
   "display_name": "Python 3",
   "language": "python",
   "name": "python3"
  },
  "language_info": {
   "codemirror_mode": {
    "name": "ipython",
    "version": 3
   },
   "file_extension": ".py",
   "mimetype": "text/x-python",
   "name": "python",
   "nbconvert_exporter": "python",
   "pygments_lexer": "ipython3",
   "version": "3.7.3"
  }
 },
 "nbformat": 4,
 "nbformat_minor": 2
}
