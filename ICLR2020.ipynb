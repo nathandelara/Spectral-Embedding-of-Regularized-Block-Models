{
 "cells": [
  {
   "cell_type": "markdown",
   "metadata": {},
   "source": [
    "## Spectral Regularization\n",
    "### Under review as a conference paper at ICLR 2020"
   ]
  },
  {
   "cell_type": "markdown",
   "metadata": {},
   "source": [
    "All dependencies are open-source and available on Pypi:\n",
    "* [numba](https://pypi.org/project/numba/) (optional, for code accelaration only)\n",
    "* [numpy](https://pypi.org/project/numpy/)\n",
    "* [pandas](https://pypi.org/project/pandas/) (optional, for display of the results only)\n",
    "* [scipy](https://pypi.org/project/scipy/)\n",
    "* [scikit-learn](https://pypi.org/project/scikit-learn/)\n",
    "* [scikit-network](https://pypi.org/project/scikit-network/)"
   ]
  },
  {
   "cell_type": "code",
   "execution_count": 1,
   "metadata": {},
   "outputs": [],
   "source": [
    "from decimal import Decimal\n",
    "\n",
    "import numpy as np\n",
    "import pandas as pd\n",
    "from scipy import sparse\n",
    "\n",
    "from sklearn import metrics\n",
    "from sklearn.cluster import KMeans\n",
    "\n",
    "from sknetwork.clustering import modularity\n",
    "from sknetwork.embedding import Spectral, SVD\n",
    "from sknetwork.toy_graphs import block_model"
   ]
  },
  {
   "cell_type": "code",
   "execution_count": 2,
   "metadata": {},
   "outputs": [],
   "source": [
    "import matplotlib.pyplot as plt\n",
    "%matplotlib inline"
   ]
  },
  {
   "cell_type": "code",
   "execution_count": 3,
   "metadata": {},
   "outputs": [],
   "source": [
    "import warnings\n",
    "warnings.filterwarnings(\"ignore\")"
   ]
  },
  {
   "cell_type": "markdown",
   "metadata": {},
   "source": [
    "### Toy case"
   ]
  },
  {
   "cell_type": "code",
   "execution_count": 4,
   "metadata": {},
   "outputs": [],
   "source": [
    "blocks = np.zeros((10, 10))\n",
    "blocks[0:5, 0:5] = 1\n",
    "blocks[5:8, 5:8] = 1\n",
    "blocks[8:, 8:] = 1\n",
    "\n",
    "α_1 = 0.1\n",
    "α_2 = 1."
   ]
  },
  {
   "cell_type": "code",
   "execution_count": 5,
   "metadata": {},
   "outputs": [],
   "source": [
    "def mu(x, α=1.):\n",
    "    x = abs(x)\n",
    "    return 1 / (1 + x / α)"
   ]
  },
  {
   "cell_type": "code",
   "execution_count": 6,
   "metadata": {},
   "outputs": [
    {
     "data": {
      "text/plain": [
       "array([[ 0.06562174,  0.00455692],\n",
       "       [ 0.06562174,  0.00455692],\n",
       "       [ 0.06562174,  0.00455692],\n",
       "       [ 0.06562174,  0.00455692],\n",
       "       [ 0.06562174,  0.00455692],\n",
       "       [ 0.31408609, -0.0262799 ],\n",
       "       [ 0.31408609, -0.0262799 ],\n",
       "       [ 0.31408609, -0.0262799 ],\n",
       "       [ 0.03351883,  0.49831345],\n",
       "       [ 0.03351883,  0.49831345]])"
      ]
     },
     "execution_count": 6,
     "metadata": {},
     "output_type": "execute_result"
    }
   ],
   "source": [
    "spc = Spectral(embedding_dimension=2, regularization=None, relative_regularization=False, scaling=None).fit(blocks)\n",
    "spc.embedding_"
   ]
  },
  {
   "cell_type": "code",
   "execution_count": 7,
   "metadata": {},
   "outputs": [],
   "source": [
    "spc.regularization = α_1\n",
    "spc.fit(blocks)\n",
    "eigvals_1 = spc.eigenvalues_"
   ]
  },
  {
   "cell_type": "code",
   "execution_count": 8,
   "metadata": {},
   "outputs": [
    {
     "data": {
      "text/plain": [
       "array([[ 0.07563759,  0.01912882],\n",
       "       [ 0.07563759,  0.01912882],\n",
       "       [ 0.07563759,  0.01912882],\n",
       "       [ 0.07563759,  0.01912882],\n",
       "       [ 0.07563759,  0.01912882],\n",
       "       [-0.11427685,  0.07304416],\n",
       "       [-0.11427685,  0.07304416],\n",
       "       [-0.11427685,  0.07304416],\n",
       "       [-0.05066758, -0.17847433],\n",
       "       [-0.05066758, -0.17847433]])"
      ]
     },
     "execution_count": 8,
     "metadata": {},
     "output_type": "execute_result"
    }
   ],
   "source": [
    "spc.regularization = α_2\n",
    "spc.fit(blocks)\n",
    "eigvals_2 = spc.eigenvalues_\n",
    "spc.embedding_"
   ]
  },
  {
   "cell_type": "code",
   "execution_count": 9,
   "metadata": {},
   "outputs": [
    {
     "data": {
      "text/plain": [
       "(array([0.21517576, 0.30982424]), array([0.72481921, 0.81364233]))"
      ]
     },
     "execution_count": 9,
     "metadata": {},
     "output_type": "execute_result"
    }
   ],
   "source": [
    "eigvals_1, eigvals_2"
   ]
  },
  {
   "cell_type": "code",
   "execution_count": 10,
   "metadata": {},
   "outputs": [],
   "source": [
    "intervals_1 = mu(np.array([5, 3, 2]) / 10, α_1)\n",
    "intervals_2 = mu(np.array([5, 3, 2]) / 10, α_2)"
   ]
  },
  {
   "cell_type": "code",
   "execution_count": 11,
   "metadata": {},
   "outputs": [
    {
     "data": {
      "text/plain": [
       "(array([0.16666667, 0.25      , 0.33333333]),\n",
       " array([0.66666667, 0.76923077, 0.83333333]))"
      ]
     },
     "execution_count": 11,
     "metadata": {},
     "output_type": "execute_result"
    }
   ],
   "source": [
    "intervals_1, intervals_2"
   ]
  },
  {
   "cell_type": "code",
   "execution_count": 12,
   "metadata": {},
   "outputs": [
    {
     "data": {
      "image/png": "[encoded data removed]",
      "text/plain": [
       "<Figure size 432x288 with 1 Axes>"
      ]
     },
     "metadata": {
      "needs_background": "light"
     },
     "output_type": "display_data"
    }
   ],
   "source": [
    "x = np.linspace(1e-2, 1, 100)\n",
    "fig, ax = plt.subplots()\n",
    "\n",
    "ax.plot(x, eigvals_2[0] * np.ones(x.shape[0]), label=r'$\\lambda_1$', linestyle='dotted', c='tab:orange')\n",
    "ax.plot(x, eigvals_2[1] * np.ones(x.shape[0]), label=r'$\\lambda_2$', linestyle='dashed', c='tab:green')\n",
    "ax.plot(x, mu(x, α_2), label=r'$\\mu_{\\alpha}(x)$', c='tab:blue')\n",
    "ax.scatter([0.5, 0.3, 0.2], intervals_2, c='r', label=r'$\\mu_k$')\n",
    "\n",
    "ax.set_xlabel(r'$x$')\n",
    "ax.invert_xaxis()\n",
    "ax.legend()\n",
    "plt.savefig('intervals.pdf', format='pdf')\n",
    "plt.show()"
   ]
  },
  {
   "cell_type": "code",
   "execution_count": 13,
   "metadata": {},
   "outputs": [
    {
     "data": {
      "image/png": "[encoded data removed]",
      "text/plain": [
       "<Figure size 432x288 with 1 Axes>"
      ]
     },
     "metadata": {
      "needs_background": "light"
     },
     "output_type": "display_data"
    }
   ],
   "source": [
    "fig, ax = plt.subplots()\n",
    "\n",
    "ax.plot(x, mu(x, 0.01), label=r'$\\alpha = 0.01$', linestyle='solid')\n",
    "ax.plot(x, mu(x, 0.1), label=r'$\\alpha = 0.1$', linestyle='dotted')\n",
    "ax.plot(x, mu(x, 1.0), label=r'$\\alpha = 1.0$', linestyle='dashed')\n",
    "ax.plot(x, mu(x, 10.), label=r'$\\alpha = 10$', linestyle='dashdot')\n",
    "\n",
    "ax.set_xlabel(r'$x$')\n",
    "ax.set_ylabel(r'$\\mu_{\\alpha}(x)$')\n",
    "ax.invert_xaxis()\n",
    "ax.legend(loc='upper left')\n",
    "plt.savefig('mu.pdf', format='pdf')\n",
    "plt.show()"
   ]
  },
  {
   "cell_type": "markdown",
   "metadata": {},
   "source": [
    "## Metrics"
   ]
  },
  {
   "cell_type": "code",
   "execution_count": 14,
   "metadata": {},
   "outputs": [],
   "source": [
    "def norm_sdt(labels: np.ndarray) -> float:\n",
    "    \"\"\"Normalized standard deviation.\n",
    "    \"\"\"\n",
    "    n = labels.shape[0]\n",
    "    counts = np.unique(labels, return_counts=True)[1]\n",
    "    k = counts.shape[0]\n",
    "    return 1 - np.std(counts) / np.sqrt(n**2 * (k - 1) / k**2)"
   ]
  },
  {
   "cell_type": "code",
   "execution_count": 15,
   "metadata": {},
   "outputs": [],
   "source": [
    "def all_metrics(adjacency, labels: np.ndarray, labels_true: np.ndarray) -> dict:\n",
    "    \"\"\"Compute all the clustering metrics and store the output in a dictionary.\n",
    "    \"\"\"\n",
    "    n_labels = len(set(labels))\n",
    "        \n",
    "    output = {}\n",
    "    output['ARI'] = metrics.adjusted_rand_score(labels_pred=labels, labels_true=labels_true)\n",
    "    h, c, v = metrics.homogeneity_completeness_v_measure(labels_pred=labels, labels_true=labels_true)\n",
    "    output['H'] = h\n",
    "    output['C'] = c\n",
    "    output['V'] = v\n",
    "    output['AMI'] = metrics.adjusted_mutual_info_score(labels_pred=labels, labels_true=labels_true, average_method='arithmetic')\n",
    "    output['FMI'] = metrics.fowlkes_mallows_score(labels_pred=labels, labels_true=labels_true)\n",
    "    if adjacency.shape[0] == adjacency.shape[1]:\n",
    "        output['Q'] = modularity(adjacency, labels, force_undirected=True)\n",
    "    else:\n",
    "        features_degrees = sparse.diags(adjacency.T.dot(np.ones(adjacency.shape[0])), format='csr')\n",
    "        features_degrees.data = 1 / features_degrees.data\n",
    "        output['Q'] = modularity(adjacency.dot(features_degrees).dot(adjacency.T), labels, force_undirected=True)\n",
    "    output['std'] = norm_sdt(labels)\n",
    "    \n",
    "    return output"
   ]
  },
  {
   "cell_type": "code",
   "execution_count": 16,
   "metadata": {},
   "outputs": [],
   "source": [
    "def display_results(results):\n",
    "    \"\"\"Display the results in a DataFrame\n",
    "    \"\"\"\n",
    "    df = pd.DataFrame(index=results.keys(), columns=['H', 'C', 'V', 'ARI', 'AMI', 'FMI', 'Q', 'std'], dtype=float)\n",
    "    \n",
    "    for algo, res in results.items():\n",
    "        for key, item in res.items():\n",
    "            df.at[algo, key] = item\n",
    "    return df.round(2)"
   ]
  },
  {
   "cell_type": "code",
   "execution_count": 17,
   "metadata": {},
   "outputs": [],
   "source": [
    "def highlight_max(s):\n",
    "    '''\n",
    "    highlight the maximum in a Series yellow.\n",
    "    '''\n",
    "    is_max = s == s.max()\n",
    "    return ['background-color: yellow' if v else '' for v in is_max]\n",
    "\n",
    "def highlight_df(df):\n",
    "    return df.style.apply(highlight_max)"
   ]
  },
  {
   "cell_type": "markdown",
   "metadata": {},
   "source": [
    "### Setting all hyper-parameters"
   ]
  },
  {
   "cell_type": "code",
   "execution_count": 18,
   "metadata": {},
   "outputs": [],
   "source": [
    "# embedding dimension\n",
    "n_dim = 20\n",
    "# alpha values\n",
    "α_vals = [0., 1e-4, 1e-3, 1e-2, 1e-1, 1., 10.]\n",
    "α_strs = ['%.0E' % Decimal(str(val)) for val in α_vals]\n",
    "\n",
    "#noise values\n",
    "noise_vals = [0., 0.01, 0.05, 0.1]\n",
    "\n",
    "# block model parameters\n",
    "inner_prob = 0.4\n",
    "outer_prob = 0.01\n",
    "shapes = np.array([(i, i) for i in range(1, 101)])"
   ]
  },
  {
   "cell_type": "markdown",
   "metadata": {},
   "source": [
    "## Experiments"
   ]
  },
  {
   "cell_type": "code",
   "execution_count": 19,
   "metadata": {},
   "outputs": [],
   "source": [
    "# use option \"solver='halko'\" for faster but less accurate embeddings.\n",
    "spectral = Spectral(embedding_dimension=n_dim, solver='lanczos', scaling=None)\n",
    "svd = SVD(embedding_dimension=n_dim, solver='lanczos', scaling=None)"
   ]
  },
  {
   "cell_type": "code",
   "execution_count": 20,
   "metadata": {},
   "outputs": [],
   "source": [
    "def add_noise(adjacency, fraction: float):\n",
    "    \"\"\"\n",
    "    Add isolated nodes to an adjacency matrix or isolated pairs to a biadjacency matrix.\n",
    "    \"\"\"\n",
    "    n_samples = adjacency.shape[0]\n",
    "    n_outliers = int(fraction * n_samples)\n",
    "    \n",
    "    return sparse.bmat([[adjacency, None], [None, sparse.eye(n_outliers, format='csr')]], format='csr')"
   ]
  },
  {
   "cell_type": "code",
   "execution_count": 21,
   "metadata": {},
   "outputs": [],
   "source": [
    "def get_all_scores(algo, adjacency, labels_true, n_clusters, α_vals=α_vals, noise=0.):\n",
    "    \"\"\"\n",
    "    Compute all scores on a given dataset.\n",
    "    \"\"\"\n",
    "    \n",
    "    n_true = len(set(labels_true))\n",
    "    if type(n_clusters)==int:\n",
    "        n_clusters = [n_clusters]\n",
    "    if type(α_vals)==float:\n",
    "        α_vals = [α_vals]\n",
    "        \n",
    "    results = {key: {} for key in n_clusters}\n",
    "        \n",
    "    for i, α in enumerate(α_vals):\n",
    "        α_key = '%.0E' % Decimal(str(α))\n",
    "        algo.regularization = α\n",
    "        algo.fit(add_noise(adjacency, noise))\n",
    "        \n",
    "        for k in n_clusters:\n",
    "            km = KMeans(n_clusters=k)\n",
    "            max_dim = min(algo.embedding_dimension, k)\n",
    "            km.fit(algo.embedding_[:, :max_dim])\n",
    "            \n",
    "            scores_ = all_metrics(adjacency, km.labels_[:len(labels_true)], labels_true)\n",
    "            results[k][α_key] = scores_        \n",
    "    \n",
    "    return results"
   ]
  },
  {
   "cell_type": "code",
   "execution_count": 22,
   "metadata": {},
   "outputs": [],
   "source": [
    "def test_noise(algo, adjacency, labels_true, n_clusters, α=1., noise_vals=noise_vals):\n",
    "    α_key = '%.0E' % Decimal(str(α))\n",
    "    results = {}\n",
    "    \n",
    "    for noise in noise_vals:\n",
    "        results[noise] = get_all_scores(algo, adjacency, labels_true, n_clusters, α, noise)[n_clusters][α_key]\n",
    "    \n",
    "    return results"
   ]
  },
  {
   "cell_type": "code",
   "execution_count": 23,
   "metadata": {},
   "outputs": [],
   "source": [
    "def undir_vs_bipartite(biadjacency, labels_true, n_clusters, α=1.):\n",
    "    results = {key: {} for key in n_clusters}\n",
    "    \n",
    "    n_true = len(set(labels_true))\n",
    "    if type(n_clusters)==int:\n",
    "        n_clusters = [n_clusters]\n",
    "        \n",
    "    spectral.regularization = α\n",
    "    spectral.fit(biadjacency)\n",
    "    svd.regularization = α\n",
    "    svd.fit(biadjacency)\n",
    "    \n",
    "    for k in n_clusters:\n",
    "        km = KMeans(n_clusters=k)\n",
    "        max_dim = min(svd.embedding_dimension, k)\n",
    "        \n",
    "        km.fit(spectral.embedding_[:, :max_dim])\n",
    "        results[k]['A'] = all_metrics(biadjacency, km.labels_[:len(labels_true)], labels_true)\n",
    "        km.fit(svd.embedding_[:, :max_dim])\n",
    "        results[k]['B'] = all_metrics(biadjacency, km.labels_[:len(labels_true)], labels_true)\n",
    "\n",
    "    return results"
   ]
  },
  {
   "cell_type": "markdown",
   "metadata": {},
   "source": [
    "### Stochastique Block Model"
   ]
  },
  {
   "cell_type": "code",
   "execution_count": 24,
   "metadata": {},
   "outputs": [
    {
     "data": {
      "text/plain": [
       "((5050, 5050), 714607)"
      ]
     },
     "execution_count": 24,
     "metadata": {},
     "output_type": "execute_result"
    }
   ],
   "source": [
    "sbm, sbm_truth, _ = block_model(clusters=shapes, inner_prob=inner_prob, outer_prob=outer_prob)\n",
    "sbm = sbm + sbm.T\n",
    "sbm_K_true = len(set(sbm_truth))\n",
    "\n",
    "sbm_all_k = [2, int(sbm_K_true / 2), sbm_K_true]\n",
    "\n",
    "sbm.shape, sbm.nnz"
   ]
  },
  {
   "cell_type": "code",
   "execution_count": 25,
   "metadata": {},
   "outputs": [],
   "source": [
    "bm_results = get_all_scores(spectral, sbm, sbm_truth, n_clusters=sbm_all_k)"
   ]
  },
  {
   "cell_type": "code",
   "execution_count": 26,
   "metadata": {},
   "outputs": [
    {
     "data": {
      "text/html": [
       "<style  type=\"text/css\" >\n",
       "    #T_702219c4_deca_11e9_b04d_645d86470c16row0_col0 {\n",
       "            background-color:  yellow;\n",
       "        }    #T_702219c4_deca_11e9_b04d_645d86470c16row0_col1 {\n",
       "            background-color:  yellow;\n",
       "        }    #T_702219c4_deca_11e9_b04d_645d86470c16row0_col2 {\n",
       "            background-color:  yellow;\n",
       "        }    #T_702219c4_deca_11e9_b04d_645d86470c16row0_col3 {\n",
       "            background-color:  yellow;\n",
       "        }    #T_702219c4_deca_11e9_b04d_645d86470c16row0_col4 {\n",
       "            background-color:  yellow;\n",
       "        }    #T_702219c4_deca_11e9_b04d_645d86470c16row0_col5 {\n",
       "            background-color:  yellow;\n",
       "        }    #T_702219c4_deca_11e9_b04d_645d86470c16row0_col6 {\n",
       "            background-color:  yellow;\n",
       "        }    #T_702219c4_deca_11e9_b04d_645d86470c16row0_col7 {\n",
       "            background-color:  yellow;\n",
       "        }    #T_702219c4_deca_11e9_b04d_645d86470c16row1_col0 {\n",
       "            background-color:  yellow;\n",
       "        }    #T_702219c4_deca_11e9_b04d_645d86470c16row1_col1 {\n",
       "            background-color:  yellow;\n",
       "        }    #T_702219c4_deca_11e9_b04d_645d86470c16row1_col2 {\n",
       "            background-color:  yellow;\n",
       "        }    #T_702219c4_deca_11e9_b04d_645d86470c16row1_col3 {\n",
       "            background-color:  yellow;\n",
       "        }    #T_702219c4_deca_11e9_b04d_645d86470c16row1_col4 {\n",
       "            background-color:  yellow;\n",
       "        }    #T_702219c4_deca_11e9_b04d_645d86470c16row1_col5 {\n",
       "            background-color:  yellow;\n",
       "        }    #T_702219c4_deca_11e9_b04d_645d86470c16row1_col6 {\n",
       "            background-color:  yellow;\n",
       "        }    #T_702219c4_deca_11e9_b04d_645d86470c16row1_col7 {\n",
       "            background-color:  yellow;\n",
       "        }    #T_702219c4_deca_11e9_b04d_645d86470c16row2_col0 {\n",
       "            background-color:  yellow;\n",
       "        }    #T_702219c4_deca_11e9_b04d_645d86470c16row2_col1 {\n",
       "            background-color:  yellow;\n",
       "        }    #T_702219c4_deca_11e9_b04d_645d86470c16row2_col2 {\n",
       "            background-color:  yellow;\n",
       "        }    #T_702219c4_deca_11e9_b04d_645d86470c16row2_col3 {\n",
       "            background-color:  yellow;\n",
       "        }    #T_702219c4_deca_11e9_b04d_645d86470c16row2_col4 {\n",
       "            background-color:  yellow;\n",
       "        }    #T_702219c4_deca_11e9_b04d_645d86470c16row2_col5 {\n",
       "            background-color:  yellow;\n",
       "        }    #T_702219c4_deca_11e9_b04d_645d86470c16row2_col6 {\n",
       "            background-color:  yellow;\n",
       "        }    #T_702219c4_deca_11e9_b04d_645d86470c16row2_col7 {\n",
       "            background-color:  yellow;\n",
       "        }    #T_702219c4_deca_11e9_b04d_645d86470c16row3_col0 {\n",
       "            background-color:  yellow;\n",
       "        }    #T_702219c4_deca_11e9_b04d_645d86470c16row3_col1 {\n",
       "            background-color:  yellow;\n",
       "        }    #T_702219c4_deca_11e9_b04d_645d86470c16row3_col2 {\n",
       "            background-color:  yellow;\n",
       "        }    #T_702219c4_deca_11e9_b04d_645d86470c16row3_col3 {\n",
       "            background-color:  yellow;\n",
       "        }    #T_702219c4_deca_11e9_b04d_645d86470c16row3_col4 {\n",
       "            background-color:  yellow;\n",
       "        }    #T_702219c4_deca_11e9_b04d_645d86470c16row3_col5 {\n",
       "            background-color:  yellow;\n",
       "        }    #T_702219c4_deca_11e9_b04d_645d86470c16row3_col6 {\n",
       "            background-color:  yellow;\n",
       "        }    #T_702219c4_deca_11e9_b04d_645d86470c16row3_col7 {\n",
       "            background-color:  yellow;\n",
       "        }    #T_702219c4_deca_11e9_b04d_645d86470c16row4_col0 {\n",
       "            background-color:  yellow;\n",
       "        }    #T_702219c4_deca_11e9_b04d_645d86470c16row4_col1 {\n",
       "            background-color:  yellow;\n",
       "        }    #T_702219c4_deca_11e9_b04d_645d86470c16row4_col2 {\n",
       "            background-color:  yellow;\n",
       "        }    #T_702219c4_deca_11e9_b04d_645d86470c16row4_col3 {\n",
       "            background-color:  yellow;\n",
       "        }    #T_702219c4_deca_11e9_b04d_645d86470c16row4_col4 {\n",
       "            background-color:  yellow;\n",
       "        }    #T_702219c4_deca_11e9_b04d_645d86470c16row4_col5 {\n",
       "            background-color:  yellow;\n",
       "        }    #T_702219c4_deca_11e9_b04d_645d86470c16row4_col6 {\n",
       "            background-color:  yellow;\n",
       "        }    #T_702219c4_deca_11e9_b04d_645d86470c16row4_col7 {\n",
       "            background-color:  yellow;\n",
       "        }    #T_702219c4_deca_11e9_b04d_645d86470c16row5_col0 {\n",
       "            background-color:  yellow;\n",
       "        }    #T_702219c4_deca_11e9_b04d_645d86470c16row5_col1 {\n",
       "            background-color:  yellow;\n",
       "        }    #T_702219c4_deca_11e9_b04d_645d86470c16row5_col2 {\n",
       "            background-color:  yellow;\n",
       "        }    #T_702219c4_deca_11e9_b04d_645d86470c16row5_col3 {\n",
       "            background-color:  yellow;\n",
       "        }    #T_702219c4_deca_11e9_b04d_645d86470c16row5_col4 {\n",
       "            background-color:  yellow;\n",
       "        }    #T_702219c4_deca_11e9_b04d_645d86470c16row5_col5 {\n",
       "            background-color:  yellow;\n",
       "        }    #T_702219c4_deca_11e9_b04d_645d86470c16row5_col6 {\n",
       "            background-color:  yellow;\n",
       "        }    #T_702219c4_deca_11e9_b04d_645d86470c16row5_col7 {\n",
       "            background-color:  yellow;\n",
       "        }    #T_702219c4_deca_11e9_b04d_645d86470c16row6_col0 {\n",
       "            background-color:  yellow;\n",
       "        }    #T_702219c4_deca_11e9_b04d_645d86470c16row6_col1 {\n",
       "            background-color:  yellow;\n",
       "        }    #T_702219c4_deca_11e9_b04d_645d86470c16row6_col2 {\n",
       "            background-color:  yellow;\n",
       "        }    #T_702219c4_deca_11e9_b04d_645d86470c16row6_col3 {\n",
       "            background-color:  yellow;\n",
       "        }    #T_702219c4_deca_11e9_b04d_645d86470c16row6_col4 {\n",
       "            background-color:  yellow;\n",
       "        }    #T_702219c4_deca_11e9_b04d_645d86470c16row6_col5 {\n",
       "            background-color:  yellow;\n",
       "        }    #T_702219c4_deca_11e9_b04d_645d86470c16row6_col6 {\n",
       "            background-color:  yellow;\n",
       "        }    #T_702219c4_deca_11e9_b04d_645d86470c16row6_col7 {\n",
       "            background-color:  yellow;\n",
       "        }</style><table id=\"T_702219c4_deca_11e9_b04d_645d86470c16\" ><thead>    <tr>        <th class=\"blank level0\" ></th>        <th class=\"col_heading level0 col0\" >H</th>        <th class=\"col_heading level0 col1\" >C</th>        <th class=\"col_heading level0 col2\" >V</th>        <th class=\"col_heading level0 col3\" >ARI</th>        <th class=\"col_heading level0 col4\" >AMI</th>        <th class=\"col_heading level0 col5\" >FMI</th>        <th class=\"col_heading level0 col6\" >Q</th>        <th class=\"col_heading level0 col7\" >std</th>    </tr></thead><tbody>\n",
       "                <tr>\n",
       "                        <th id=\"T_702219c4_deca_11e9_b04d_645d86470c16level0_row0\" class=\"row_heading level0 row0\" >0E+00</th>\n",
       "                        <td id=\"T_702219c4_deca_11e9_b04d_645d86470c16row0_col0\" class=\"data row0 col0\" >0.02</td>\n",
       "                        <td id=\"T_702219c4_deca_11e9_b04d_645d86470c16row0_col1\" class=\"data row0 col1\" >1</td>\n",
       "                        <td id=\"T_702219c4_deca_11e9_b04d_645d86470c16row0_col2\" class=\"data row0 col2\" >0.04</td>\n",
       "                        <td id=\"T_702219c4_deca_11e9_b04d_645d86470c16row0_col3\" class=\"data row0 col3\" >0</td>\n",
       "                        <td id=\"T_702219c4_deca_11e9_b04d_645d86470c16row0_col4\" class=\"data row0 col4\" >0.04</td>\n",
       "                        <td id=\"T_702219c4_deca_11e9_b04d_645d86470c16row0_col5\" class=\"data row0 col5\" >0.12</td>\n",
       "                        <td id=\"T_702219c4_deca_11e9_b04d_645d86470c16row0_col6\" class=\"data row0 col6\" >0.02</td>\n",
       "                        <td id=\"T_702219c4_deca_11e9_b04d_645d86470c16row0_col7\" class=\"data row0 col7\" >0.04</td>\n",
       "            </tr>\n",
       "            <tr>\n",
       "                        <th id=\"T_702219c4_deca_11e9_b04d_645d86470c16level0_row1\" class=\"row_heading level0 row1\" >1E-04</th>\n",
       "                        <td id=\"T_702219c4_deca_11e9_b04d_645d86470c16row1_col0\" class=\"data row1 col0\" >0.02</td>\n",
       "                        <td id=\"T_702219c4_deca_11e9_b04d_645d86470c16row1_col1\" class=\"data row1 col1\" >1</td>\n",
       "                        <td id=\"T_702219c4_deca_11e9_b04d_645d86470c16row1_col2\" class=\"data row1 col2\" >0.04</td>\n",
       "                        <td id=\"T_702219c4_deca_11e9_b04d_645d86470c16row1_col3\" class=\"data row1 col3\" >0</td>\n",
       "                        <td id=\"T_702219c4_deca_11e9_b04d_645d86470c16row1_col4\" class=\"data row1 col4\" >0.04</td>\n",
       "                        <td id=\"T_702219c4_deca_11e9_b04d_645d86470c16row1_col5\" class=\"data row1 col5\" >0.12</td>\n",
       "                        <td id=\"T_702219c4_deca_11e9_b04d_645d86470c16row1_col6\" class=\"data row1 col6\" >0.02</td>\n",
       "                        <td id=\"T_702219c4_deca_11e9_b04d_645d86470c16row1_col7\" class=\"data row1 col7\" >0.04</td>\n",
       "            </tr>\n",
       "            <tr>\n",
       "                        <th id=\"T_702219c4_deca_11e9_b04d_645d86470c16level0_row2\" class=\"row_heading level0 row2\" >1E-03</th>\n",
       "                        <td id=\"T_702219c4_deca_11e9_b04d_645d86470c16row2_col0\" class=\"data row2 col0\" >0.02</td>\n",
       "                        <td id=\"T_702219c4_deca_11e9_b04d_645d86470c16row2_col1\" class=\"data row2 col1\" >1</td>\n",
       "                        <td id=\"T_702219c4_deca_11e9_b04d_645d86470c16row2_col2\" class=\"data row2 col2\" >0.04</td>\n",
       "                        <td id=\"T_702219c4_deca_11e9_b04d_645d86470c16row2_col3\" class=\"data row2 col3\" >0</td>\n",
       "                        <td id=\"T_702219c4_deca_11e9_b04d_645d86470c16row2_col4\" class=\"data row2 col4\" >0.04</td>\n",
       "                        <td id=\"T_702219c4_deca_11e9_b04d_645d86470c16row2_col5\" class=\"data row2 col5\" >0.12</td>\n",
       "                        <td id=\"T_702219c4_deca_11e9_b04d_645d86470c16row2_col6\" class=\"data row2 col6\" >0.02</td>\n",
       "                        <td id=\"T_702219c4_deca_11e9_b04d_645d86470c16row2_col7\" class=\"data row2 col7\" >0.04</td>\n",
       "            </tr>\n",
       "            <tr>\n",
       "                        <th id=\"T_702219c4_deca_11e9_b04d_645d86470c16level0_row3\" class=\"row_heading level0 row3\" >1E-02</th>\n",
       "                        <td id=\"T_702219c4_deca_11e9_b04d_645d86470c16row3_col0\" class=\"data row3 col0\" >0.02</td>\n",
       "                        <td id=\"T_702219c4_deca_11e9_b04d_645d86470c16row3_col1\" class=\"data row3 col1\" >1</td>\n",
       "                        <td id=\"T_702219c4_deca_11e9_b04d_645d86470c16row3_col2\" class=\"data row3 col2\" >0.04</td>\n",
       "                        <td id=\"T_702219c4_deca_11e9_b04d_645d86470c16row3_col3\" class=\"data row3 col3\" >0</td>\n",
       "                        <td id=\"T_702219c4_deca_11e9_b04d_645d86470c16row3_col4\" class=\"data row3 col4\" >0.04</td>\n",
       "                        <td id=\"T_702219c4_deca_11e9_b04d_645d86470c16row3_col5\" class=\"data row3 col5\" >0.12</td>\n",
       "                        <td id=\"T_702219c4_deca_11e9_b04d_645d86470c16row3_col6\" class=\"data row3 col6\" >0.02</td>\n",
       "                        <td id=\"T_702219c4_deca_11e9_b04d_645d86470c16row3_col7\" class=\"data row3 col7\" >0.04</td>\n",
       "            </tr>\n",
       "            <tr>\n",
       "                        <th id=\"T_702219c4_deca_11e9_b04d_645d86470c16level0_row4\" class=\"row_heading level0 row4\" >1E-01</th>\n",
       "                        <td id=\"T_702219c4_deca_11e9_b04d_645d86470c16row4_col0\" class=\"data row4 col0\" >0.02</td>\n",
       "                        <td id=\"T_702219c4_deca_11e9_b04d_645d86470c16row4_col1\" class=\"data row4 col1\" >1</td>\n",
       "                        <td id=\"T_702219c4_deca_11e9_b04d_645d86470c16row4_col2\" class=\"data row4 col2\" >0.04</td>\n",
       "                        <td id=\"T_702219c4_deca_11e9_b04d_645d86470c16row4_col3\" class=\"data row4 col3\" >0</td>\n",
       "                        <td id=\"T_702219c4_deca_11e9_b04d_645d86470c16row4_col4\" class=\"data row4 col4\" >0.04</td>\n",
       "                        <td id=\"T_702219c4_deca_11e9_b04d_645d86470c16row4_col5\" class=\"data row4 col5\" >0.12</td>\n",
       "                        <td id=\"T_702219c4_deca_11e9_b04d_645d86470c16row4_col6\" class=\"data row4 col6\" >0.02</td>\n",
       "                        <td id=\"T_702219c4_deca_11e9_b04d_645d86470c16row4_col7\" class=\"data row4 col7\" >0.04</td>\n",
       "            </tr>\n",
       "            <tr>\n",
       "                        <th id=\"T_702219c4_deca_11e9_b04d_645d86470c16level0_row5\" class=\"row_heading level0 row5\" >1E+00</th>\n",
       "                        <td id=\"T_702219c4_deca_11e9_b04d_645d86470c16row5_col0\" class=\"data row5 col0\" >0.02</td>\n",
       "                        <td id=\"T_702219c4_deca_11e9_b04d_645d86470c16row5_col1\" class=\"data row5 col1\" >1</td>\n",
       "                        <td id=\"T_702219c4_deca_11e9_b04d_645d86470c16row5_col2\" class=\"data row5 col2\" >0.04</td>\n",
       "                        <td id=\"T_702219c4_deca_11e9_b04d_645d86470c16row5_col3\" class=\"data row5 col3\" >0</td>\n",
       "                        <td id=\"T_702219c4_deca_11e9_b04d_645d86470c16row5_col4\" class=\"data row5 col4\" >0.04</td>\n",
       "                        <td id=\"T_702219c4_deca_11e9_b04d_645d86470c16row5_col5\" class=\"data row5 col5\" >0.12</td>\n",
       "                        <td id=\"T_702219c4_deca_11e9_b04d_645d86470c16row5_col6\" class=\"data row5 col6\" >0.02</td>\n",
       "                        <td id=\"T_702219c4_deca_11e9_b04d_645d86470c16row5_col7\" class=\"data row5 col7\" >0.04</td>\n",
       "            </tr>\n",
       "            <tr>\n",
       "                        <th id=\"T_702219c4_deca_11e9_b04d_645d86470c16level0_row6\" class=\"row_heading level0 row6\" >1E+01</th>\n",
       "                        <td id=\"T_702219c4_deca_11e9_b04d_645d86470c16row6_col0\" class=\"data row6 col0\" >0.02</td>\n",
       "                        <td id=\"T_702219c4_deca_11e9_b04d_645d86470c16row6_col1\" class=\"data row6 col1\" >1</td>\n",
       "                        <td id=\"T_702219c4_deca_11e9_b04d_645d86470c16row6_col2\" class=\"data row6 col2\" >0.04</td>\n",
       "                        <td id=\"T_702219c4_deca_11e9_b04d_645d86470c16row6_col3\" class=\"data row6 col3\" >0</td>\n",
       "                        <td id=\"T_702219c4_deca_11e9_b04d_645d86470c16row6_col4\" class=\"data row6 col4\" >0.04</td>\n",
       "                        <td id=\"T_702219c4_deca_11e9_b04d_645d86470c16row6_col5\" class=\"data row6 col5\" >0.12</td>\n",
       "                        <td id=\"T_702219c4_deca_11e9_b04d_645d86470c16row6_col6\" class=\"data row6 col6\" >0.02</td>\n",
       "                        <td id=\"T_702219c4_deca_11e9_b04d_645d86470c16row6_col7\" class=\"data row6 col7\" >0.04</td>\n",
       "            </tr>\n",
       "    </tbody></table>"
      ],
      "text/plain": [
       "<pandas.io.formats.style.Styler at 0x7f45395c1128>"
      ]
     },
     "execution_count": 26,
     "metadata": {},
     "output_type": "execute_result"
    }
   ],
   "source": [
    "bm_df = display_results(bm_results[sbm_all_k[0]])\n",
    "highlight_df(bm_df)"
   ]
  },
  {
   "cell_type": "code",
   "execution_count": 27,
   "metadata": {},
   "outputs": [],
   "source": [
    "bm_df.to_latex('results/sbm_k_2.tab', column_format='l|cccccccc')"
   ]
  },
  {
   "cell_type": "code",
   "execution_count": 28,
   "metadata": {},
   "outputs": [
    {
     "data": {
      "text/html": [
       "<style  type=\"text/css\" >\n",
       "    #T_7027b5aa_deca_11e9_b04d_645d86470c16row0_col0 {\n",
       "            background-color:  yellow;\n",
       "        }    #T_7027b5aa_deca_11e9_b04d_645d86470c16row0_col1 {\n",
       "            background-color:  yellow;\n",
       "        }    #T_7027b5aa_deca_11e9_b04d_645d86470c16row0_col2 {\n",
       "            background-color:  yellow;\n",
       "        }    #T_7027b5aa_deca_11e9_b04d_645d86470c16row0_col3 {\n",
       "            background-color:  yellow;\n",
       "        }    #T_7027b5aa_deca_11e9_b04d_645d86470c16row0_col4 {\n",
       "            background-color:  yellow;\n",
       "        }    #T_7027b5aa_deca_11e9_b04d_645d86470c16row0_col5 {\n",
       "            background-color:  yellow;\n",
       "        }    #T_7027b5aa_deca_11e9_b04d_645d86470c16row0_col6 {\n",
       "            background-color:  yellow;\n",
       "        }    #T_7027b5aa_deca_11e9_b04d_645d86470c16row0_col7 {\n",
       "            background-color:  yellow;\n",
       "        }    #T_7027b5aa_deca_11e9_b04d_645d86470c16row1_col1 {\n",
       "            background-color:  yellow;\n",
       "        }    #T_7027b5aa_deca_11e9_b04d_645d86470c16row2_col0 {\n",
       "            background-color:  yellow;\n",
       "        }    #T_7027b5aa_deca_11e9_b04d_645d86470c16row2_col1 {\n",
       "            background-color:  yellow;\n",
       "        }    #T_7027b5aa_deca_11e9_b04d_645d86470c16row2_col4 {\n",
       "            background-color:  yellow;\n",
       "        }</style><table id=\"T_7027b5aa_deca_11e9_b04d_645d86470c16\" ><thead>    <tr>        <th class=\"blank level0\" ></th>        <th class=\"col_heading level0 col0\" >H</th>        <th class=\"col_heading level0 col1\" >C</th>        <th class=\"col_heading level0 col2\" >V</th>        <th class=\"col_heading level0 col3\" >ARI</th>        <th class=\"col_heading level0 col4\" >AMI</th>        <th class=\"col_heading level0 col5\" >FMI</th>        <th class=\"col_heading level0 col6\" >Q</th>        <th class=\"col_heading level0 col7\" >std</th>    </tr></thead><tbody>\n",
       "                <tr>\n",
       "                        <th id=\"T_7027b5aa_deca_11e9_b04d_645d86470c16level0_row0\" class=\"row_heading level0 row0\" >0E+00</th>\n",
       "                        <td id=\"T_7027b5aa_deca_11e9_b04d_645d86470c16row0_col0\" class=\"data row0 col0\" >0.63</td>\n",
       "                        <td id=\"T_7027b5aa_deca_11e9_b04d_645d86470c16row0_col1\" class=\"data row0 col1\" >0.73</td>\n",
       "                        <td id=\"T_7027b5aa_deca_11e9_b04d_645d86470c16row0_col2\" class=\"data row0 col2\" >0.68</td>\n",
       "                        <td id=\"T_7027b5aa_deca_11e9_b04d_645d86470c16row0_col3\" class=\"data row0 col3\" >0.48</td>\n",
       "                        <td id=\"T_7027b5aa_deca_11e9_b04d_645d86470c16row0_col4\" class=\"data row0 col4\" >0.63</td>\n",
       "                        <td id=\"T_7027b5aa_deca_11e9_b04d_645d86470c16row0_col5\" class=\"data row0 col5\" >0.51</td>\n",
       "                        <td id=\"T_7027b5aa_deca_11e9_b04d_645d86470c16row0_col6\" class=\"data row0 col6\" >0.2</td>\n",
       "                        <td id=\"T_7027b5aa_deca_11e9_b04d_645d86470c16row0_col7\" class=\"data row0 col7\" >0.94</td>\n",
       "            </tr>\n",
       "            <tr>\n",
       "                        <th id=\"T_7027b5aa_deca_11e9_b04d_645d86470c16level0_row1\" class=\"row_heading level0 row1\" >1E-04</th>\n",
       "                        <td id=\"T_7027b5aa_deca_11e9_b04d_645d86470c16row1_col0\" class=\"data row1 col0\" >0.62</td>\n",
       "                        <td id=\"T_7027b5aa_deca_11e9_b04d_645d86470c16row1_col1\" class=\"data row1 col1\" >0.73</td>\n",
       "                        <td id=\"T_7027b5aa_deca_11e9_b04d_645d86470c16row1_col2\" class=\"data row1 col2\" >0.67</td>\n",
       "                        <td id=\"T_7027b5aa_deca_11e9_b04d_645d86470c16row1_col3\" class=\"data row1 col3\" >0.42</td>\n",
       "                        <td id=\"T_7027b5aa_deca_11e9_b04d_645d86470c16row1_col4\" class=\"data row1 col4\" >0.62</td>\n",
       "                        <td id=\"T_7027b5aa_deca_11e9_b04d_645d86470c16row1_col5\" class=\"data row1 col5\" >0.46</td>\n",
       "                        <td id=\"T_7027b5aa_deca_11e9_b04d_645d86470c16row1_col6\" class=\"data row1 col6\" >0.19</td>\n",
       "                        <td id=\"T_7027b5aa_deca_11e9_b04d_645d86470c16row1_col7\" class=\"data row1 col7\" >0.92</td>\n",
       "            </tr>\n",
       "            <tr>\n",
       "                        <th id=\"T_7027b5aa_deca_11e9_b04d_645d86470c16level0_row2\" class=\"row_heading level0 row2\" >1E-03</th>\n",
       "                        <td id=\"T_7027b5aa_deca_11e9_b04d_645d86470c16row2_col0\" class=\"data row2 col0\" >0.63</td>\n",
       "                        <td id=\"T_7027b5aa_deca_11e9_b04d_645d86470c16row2_col1\" class=\"data row2 col1\" >0.73</td>\n",
       "                        <td id=\"T_7027b5aa_deca_11e9_b04d_645d86470c16row2_col2\" class=\"data row2 col2\" >0.67</td>\n",
       "                        <td id=\"T_7027b5aa_deca_11e9_b04d_645d86470c16row2_col3\" class=\"data row2 col3\" >0.46</td>\n",
       "                        <td id=\"T_7027b5aa_deca_11e9_b04d_645d86470c16row2_col4\" class=\"data row2 col4\" >0.63</td>\n",
       "                        <td id=\"T_7027b5aa_deca_11e9_b04d_645d86470c16row2_col5\" class=\"data row2 col5\" >0.49</td>\n",
       "                        <td id=\"T_7027b5aa_deca_11e9_b04d_645d86470c16row2_col6\" class=\"data row2 col6\" >0.19</td>\n",
       "                        <td id=\"T_7027b5aa_deca_11e9_b04d_645d86470c16row2_col7\" class=\"data row2 col7\" >0.93</td>\n",
       "            </tr>\n",
       "            <tr>\n",
       "                        <th id=\"T_7027b5aa_deca_11e9_b04d_645d86470c16level0_row3\" class=\"row_heading level0 row3\" >1E-02</th>\n",
       "                        <td id=\"T_7027b5aa_deca_11e9_b04d_645d86470c16row3_col0\" class=\"data row3 col0\" >0.62</td>\n",
       "                        <td id=\"T_7027b5aa_deca_11e9_b04d_645d86470c16row3_col1\" class=\"data row3 col1\" >0.72</td>\n",
       "                        <td id=\"T_7027b5aa_deca_11e9_b04d_645d86470c16row3_col2\" class=\"data row3 col2\" >0.67</td>\n",
       "                        <td id=\"T_7027b5aa_deca_11e9_b04d_645d86470c16row3_col3\" class=\"data row3 col3\" >0.45</td>\n",
       "                        <td id=\"T_7027b5aa_deca_11e9_b04d_645d86470c16row3_col4\" class=\"data row3 col4\" >0.62</td>\n",
       "                        <td id=\"T_7027b5aa_deca_11e9_b04d_645d86470c16row3_col5\" class=\"data row3 col5\" >0.49</td>\n",
       "                        <td id=\"T_7027b5aa_deca_11e9_b04d_645d86470c16row3_col6\" class=\"data row3 col6\" >0.19</td>\n",
       "                        <td id=\"T_7027b5aa_deca_11e9_b04d_645d86470c16row3_col7\" class=\"data row3 col7\" >0.93</td>\n",
       "            </tr>\n",
       "            <tr>\n",
       "                        <th id=\"T_7027b5aa_deca_11e9_b04d_645d86470c16level0_row4\" class=\"row_heading level0 row4\" >1E-01</th>\n",
       "                        <td id=\"T_7027b5aa_deca_11e9_b04d_645d86470c16row4_col0\" class=\"data row4 col0\" >0.61</td>\n",
       "                        <td id=\"T_7027b5aa_deca_11e9_b04d_645d86470c16row4_col1\" class=\"data row4 col1\" >0.72</td>\n",
       "                        <td id=\"T_7027b5aa_deca_11e9_b04d_645d86470c16row4_col2\" class=\"data row4 col2\" >0.66</td>\n",
       "                        <td id=\"T_7027b5aa_deca_11e9_b04d_645d86470c16row4_col3\" class=\"data row4 col3\" >0.41</td>\n",
       "                        <td id=\"T_7027b5aa_deca_11e9_b04d_645d86470c16row4_col4\" class=\"data row4 col4\" >0.61</td>\n",
       "                        <td id=\"T_7027b5aa_deca_11e9_b04d_645d86470c16row4_col5\" class=\"data row4 col5\" >0.44</td>\n",
       "                        <td id=\"T_7027b5aa_deca_11e9_b04d_645d86470c16row4_col6\" class=\"data row4 col6\" >0.18</td>\n",
       "                        <td id=\"T_7027b5aa_deca_11e9_b04d_645d86470c16row4_col7\" class=\"data row4 col7\" >0.92</td>\n",
       "            </tr>\n",
       "            <tr>\n",
       "                        <th id=\"T_7027b5aa_deca_11e9_b04d_645d86470c16level0_row5\" class=\"row_heading level0 row5\" >1E+00</th>\n",
       "                        <td id=\"T_7027b5aa_deca_11e9_b04d_645d86470c16row5_col0\" class=\"data row5 col0\" >0.58</td>\n",
       "                        <td id=\"T_7027b5aa_deca_11e9_b04d_645d86470c16row5_col1\" class=\"data row5 col1\" >0.68</td>\n",
       "                        <td id=\"T_7027b5aa_deca_11e9_b04d_645d86470c16row5_col2\" class=\"data row5 col2\" >0.63</td>\n",
       "                        <td id=\"T_7027b5aa_deca_11e9_b04d_645d86470c16row5_col3\" class=\"data row5 col3\" >0.35</td>\n",
       "                        <td id=\"T_7027b5aa_deca_11e9_b04d_645d86470c16row5_col4\" class=\"data row5 col4\" >0.58</td>\n",
       "                        <td id=\"T_7027b5aa_deca_11e9_b04d_645d86470c16row5_col5\" class=\"data row5 col5\" >0.39</td>\n",
       "                        <td id=\"T_7027b5aa_deca_11e9_b04d_645d86470c16row5_col6\" class=\"data row5 col6\" >0.17</td>\n",
       "                        <td id=\"T_7027b5aa_deca_11e9_b04d_645d86470c16row5_col7\" class=\"data row5 col7\" >0.91</td>\n",
       "            </tr>\n",
       "            <tr>\n",
       "                        <th id=\"T_7027b5aa_deca_11e9_b04d_645d86470c16level0_row6\" class=\"row_heading level0 row6\" >1E+01</th>\n",
       "                        <td id=\"T_7027b5aa_deca_11e9_b04d_645d86470c16row6_col0\" class=\"data row6 col0\" >0.56</td>\n",
       "                        <td id=\"T_7027b5aa_deca_11e9_b04d_645d86470c16row6_col1\" class=\"data row6 col1\" >0.67</td>\n",
       "                        <td id=\"T_7027b5aa_deca_11e9_b04d_645d86470c16row6_col2\" class=\"data row6 col2\" >0.61</td>\n",
       "                        <td id=\"T_7027b5aa_deca_11e9_b04d_645d86470c16row6_col3\" class=\"data row6 col3\" >0.32</td>\n",
       "                        <td id=\"T_7027b5aa_deca_11e9_b04d_645d86470c16row6_col4\" class=\"data row6 col4\" >0.56</td>\n",
       "                        <td id=\"T_7027b5aa_deca_11e9_b04d_645d86470c16row6_col5\" class=\"data row6 col5\" >0.37</td>\n",
       "                        <td id=\"T_7027b5aa_deca_11e9_b04d_645d86470c16row6_col6\" class=\"data row6 col6\" >0.16</td>\n",
       "                        <td id=\"T_7027b5aa_deca_11e9_b04d_645d86470c16row6_col7\" class=\"data row6 col7\" >0.9</td>\n",
       "            </tr>\n",
       "    </tbody></table>"
      ],
      "text/plain": [
       "<pandas.io.formats.style.Styler at 0x7f45395fb518>"
      ]
     },
     "execution_count": 28,
     "metadata": {},
     "output_type": "execute_result"
    }
   ],
   "source": [
    "bm_df = display_results(bm_results[sbm_all_k[1]])\n",
    "highlight_df(bm_df)"
   ]
  },
  {
   "cell_type": "code",
   "execution_count": 29,
   "metadata": {},
   "outputs": [],
   "source": [
    "bm_df.to_latex('results/sbm_half_k_true.tab', column_format='l|cccccccc')"
   ]
  },
  {
   "cell_type": "code",
   "execution_count": 30,
   "metadata": {},
   "outputs": [
    {
     "data": {
      "text/html": [
       "<style  type=\"text/css\" >\n",
       "    #T_702d7bac_deca_11e9_b04d_645d86470c16row0_col0 {\n",
       "            background-color:  yellow;\n",
       "        }    #T_702d7bac_deca_11e9_b04d_645d86470c16row0_col6 {\n",
       "            background-color:  yellow;\n",
       "        }    #T_702d7bac_deca_11e9_b04d_645d86470c16row0_col7 {\n",
       "            background-color:  yellow;\n",
       "        }    #T_702d7bac_deca_11e9_b04d_645d86470c16row1_col6 {\n",
       "            background-color:  yellow;\n",
       "        }    #T_702d7bac_deca_11e9_b04d_645d86470c16row2_col0 {\n",
       "            background-color:  yellow;\n",
       "        }    #T_702d7bac_deca_11e9_b04d_645d86470c16row2_col1 {\n",
       "            background-color:  yellow;\n",
       "        }    #T_702d7bac_deca_11e9_b04d_645d86470c16row2_col2 {\n",
       "            background-color:  yellow;\n",
       "        }    #T_702d7bac_deca_11e9_b04d_645d86470c16row2_col3 {\n",
       "            background-color:  yellow;\n",
       "        }    #T_702d7bac_deca_11e9_b04d_645d86470c16row2_col4 {\n",
       "            background-color:  yellow;\n",
       "        }    #T_702d7bac_deca_11e9_b04d_645d86470c16row2_col5 {\n",
       "            background-color:  yellow;\n",
       "        }    #T_702d7bac_deca_11e9_b04d_645d86470c16row2_col6 {\n",
       "            background-color:  yellow;\n",
       "        }    #T_702d7bac_deca_11e9_b04d_645d86470c16row2_col7 {\n",
       "            background-color:  yellow;\n",
       "        }    #T_702d7bac_deca_11e9_b04d_645d86470c16row3_col6 {\n",
       "            background-color:  yellow;\n",
       "        }    #T_702d7bac_deca_11e9_b04d_645d86470c16row4_col6 {\n",
       "            background-color:  yellow;\n",
       "        }    #T_702d7bac_deca_11e9_b04d_645d86470c16row4_col7 {\n",
       "            background-color:  yellow;\n",
       "        }</style><table id=\"T_702d7bac_deca_11e9_b04d_645d86470c16\" ><thead>    <tr>        <th class=\"blank level0\" ></th>        <th class=\"col_heading level0 col0\" >H</th>        <th class=\"col_heading level0 col1\" >C</th>        <th class=\"col_heading level0 col2\" >V</th>        <th class=\"col_heading level0 col3\" >ARI</th>        <th class=\"col_heading level0 col4\" >AMI</th>        <th class=\"col_heading level0 col5\" >FMI</th>        <th class=\"col_heading level0 col6\" >Q</th>        <th class=\"col_heading level0 col7\" >std</th>    </tr></thead><tbody>\n",
       "                <tr>\n",
       "                        <th id=\"T_702d7bac_deca_11e9_b04d_645d86470c16level0_row0\" class=\"row_heading level0 row0\" >0E+00</th>\n",
       "                        <td id=\"T_702d7bac_deca_11e9_b04d_645d86470c16row0_col0\" class=\"data row0 col0\" >0.68</td>\n",
       "                        <td id=\"T_702d7bac_deca_11e9_b04d_645d86470c16row0_col1\" class=\"data row0 col1\" >0.66</td>\n",
       "                        <td id=\"T_702d7bac_deca_11e9_b04d_645d86470c16row0_col2\" class=\"data row0 col2\" >0.67</td>\n",
       "                        <td id=\"T_702d7bac_deca_11e9_b04d_645d86470c16row0_col3\" class=\"data row0 col3\" >0.42</td>\n",
       "                        <td id=\"T_702d7bac_deca_11e9_b04d_645d86470c16row0_col4\" class=\"data row0 col4\" >0.59</td>\n",
       "                        <td id=\"T_702d7bac_deca_11e9_b04d_645d86470c16row0_col5\" class=\"data row0 col5\" >0.43</td>\n",
       "                        <td id=\"T_702d7bac_deca_11e9_b04d_645d86470c16row0_col6\" class=\"data row0 col6\" >0.12</td>\n",
       "                        <td id=\"T_702d7bac_deca_11e9_b04d_645d86470c16row0_col7\" class=\"data row0 col7\" >0.96</td>\n",
       "            </tr>\n",
       "            <tr>\n",
       "                        <th id=\"T_702d7bac_deca_11e9_b04d_645d86470c16level0_row1\" class=\"row_heading level0 row1\" >1E-04</th>\n",
       "                        <td id=\"T_702d7bac_deca_11e9_b04d_645d86470c16row1_col0\" class=\"data row1 col0\" >0.67</td>\n",
       "                        <td id=\"T_702d7bac_deca_11e9_b04d_645d86470c16row1_col1\" class=\"data row1 col1\" >0.66</td>\n",
       "                        <td id=\"T_702d7bac_deca_11e9_b04d_645d86470c16row1_col2\" class=\"data row1 col2\" >0.67</td>\n",
       "                        <td id=\"T_702d7bac_deca_11e9_b04d_645d86470c16row1_col3\" class=\"data row1 col3\" >0.41</td>\n",
       "                        <td id=\"T_702d7bac_deca_11e9_b04d_645d86470c16row1_col4\" class=\"data row1 col4\" >0.59</td>\n",
       "                        <td id=\"T_702d7bac_deca_11e9_b04d_645d86470c16row1_col5\" class=\"data row1 col5\" >0.42</td>\n",
       "                        <td id=\"T_702d7bac_deca_11e9_b04d_645d86470c16row1_col6\" class=\"data row1 col6\" >0.12</td>\n",
       "                        <td id=\"T_702d7bac_deca_11e9_b04d_645d86470c16row1_col7\" class=\"data row1 col7\" >0.95</td>\n",
       "            </tr>\n",
       "            <tr>\n",
       "                        <th id=\"T_702d7bac_deca_11e9_b04d_645d86470c16level0_row2\" class=\"row_heading level0 row2\" >1E-03</th>\n",
       "                        <td id=\"T_702d7bac_deca_11e9_b04d_645d86470c16row2_col0\" class=\"data row2 col0\" >0.68</td>\n",
       "                        <td id=\"T_702d7bac_deca_11e9_b04d_645d86470c16row2_col1\" class=\"data row2 col1\" >0.67</td>\n",
       "                        <td id=\"T_702d7bac_deca_11e9_b04d_645d86470c16row2_col2\" class=\"data row2 col2\" >0.68</td>\n",
       "                        <td id=\"T_702d7bac_deca_11e9_b04d_645d86470c16row2_col3\" class=\"data row2 col3\" >0.45</td>\n",
       "                        <td id=\"T_702d7bac_deca_11e9_b04d_645d86470c16row2_col4\" class=\"data row2 col4\" >0.6</td>\n",
       "                        <td id=\"T_702d7bac_deca_11e9_b04d_645d86470c16row2_col5\" class=\"data row2 col5\" >0.46</td>\n",
       "                        <td id=\"T_702d7bac_deca_11e9_b04d_645d86470c16row2_col6\" class=\"data row2 col6\" >0.12</td>\n",
       "                        <td id=\"T_702d7bac_deca_11e9_b04d_645d86470c16row2_col7\" class=\"data row2 col7\" >0.96</td>\n",
       "            </tr>\n",
       "            <tr>\n",
       "                        <th id=\"T_702d7bac_deca_11e9_b04d_645d86470c16level0_row3\" class=\"row_heading level0 row3\" >1E-02</th>\n",
       "                        <td id=\"T_702d7bac_deca_11e9_b04d_645d86470c16row3_col0\" class=\"data row3 col0\" >0.67</td>\n",
       "                        <td id=\"T_702d7bac_deca_11e9_b04d_645d86470c16row3_col1\" class=\"data row3 col1\" >0.66</td>\n",
       "                        <td id=\"T_702d7bac_deca_11e9_b04d_645d86470c16row3_col2\" class=\"data row3 col2\" >0.67</td>\n",
       "                        <td id=\"T_702d7bac_deca_11e9_b04d_645d86470c16row3_col3\" class=\"data row3 col3\" >0.4</td>\n",
       "                        <td id=\"T_702d7bac_deca_11e9_b04d_645d86470c16row3_col4\" class=\"data row3 col4\" >0.59</td>\n",
       "                        <td id=\"T_702d7bac_deca_11e9_b04d_645d86470c16row3_col5\" class=\"data row3 col5\" >0.41</td>\n",
       "                        <td id=\"T_702d7bac_deca_11e9_b04d_645d86470c16row3_col6\" class=\"data row3 col6\" >0.12</td>\n",
       "                        <td id=\"T_702d7bac_deca_11e9_b04d_645d86470c16row3_col7\" class=\"data row3 col7\" >0.95</td>\n",
       "            </tr>\n",
       "            <tr>\n",
       "                        <th id=\"T_702d7bac_deca_11e9_b04d_645d86470c16level0_row4\" class=\"row_heading level0 row4\" >1E-01</th>\n",
       "                        <td id=\"T_702d7bac_deca_11e9_b04d_645d86470c16row4_col0\" class=\"data row4 col0\" >0.67</td>\n",
       "                        <td id=\"T_702d7bac_deca_11e9_b04d_645d86470c16row4_col1\" class=\"data row4 col1\" >0.65</td>\n",
       "                        <td id=\"T_702d7bac_deca_11e9_b04d_645d86470c16row4_col2\" class=\"data row4 col2\" >0.66</td>\n",
       "                        <td id=\"T_702d7bac_deca_11e9_b04d_645d86470c16row4_col3\" class=\"data row4 col3\" >0.43</td>\n",
       "                        <td id=\"T_702d7bac_deca_11e9_b04d_645d86470c16row4_col4\" class=\"data row4 col4\" >0.58</td>\n",
       "                        <td id=\"T_702d7bac_deca_11e9_b04d_645d86470c16row4_col5\" class=\"data row4 col5\" >0.43</td>\n",
       "                        <td id=\"T_702d7bac_deca_11e9_b04d_645d86470c16row4_col6\" class=\"data row4 col6\" >0.12</td>\n",
       "                        <td id=\"T_702d7bac_deca_11e9_b04d_645d86470c16row4_col7\" class=\"data row4 col7\" >0.96</td>\n",
       "            </tr>\n",
       "            <tr>\n",
       "                        <th id=\"T_702d7bac_deca_11e9_b04d_645d86470c16level0_row5\" class=\"row_heading level0 row5\" >1E+00</th>\n",
       "                        <td id=\"T_702d7bac_deca_11e9_b04d_645d86470c16row5_col0\" class=\"data row5 col0\" >0.63</td>\n",
       "                        <td id=\"T_702d7bac_deca_11e9_b04d_645d86470c16row5_col1\" class=\"data row5 col1\" >0.63</td>\n",
       "                        <td id=\"T_702d7bac_deca_11e9_b04d_645d86470c16row5_col2\" class=\"data row5 col2\" >0.63</td>\n",
       "                        <td id=\"T_702d7bac_deca_11e9_b04d_645d86470c16row5_col3\" class=\"data row5 col3\" >0.35</td>\n",
       "                        <td id=\"T_702d7bac_deca_11e9_b04d_645d86470c16row5_col4\" class=\"data row5 col4\" >0.54</td>\n",
       "                        <td id=\"T_702d7bac_deca_11e9_b04d_645d86470c16row5_col5\" class=\"data row5 col5\" >0.36</td>\n",
       "                        <td id=\"T_702d7bac_deca_11e9_b04d_645d86470c16row5_col6\" class=\"data row5 col6\" >0.1</td>\n",
       "                        <td id=\"T_702d7bac_deca_11e9_b04d_645d86470c16row5_col7\" class=\"data row5 col7\" >0.95</td>\n",
       "            </tr>\n",
       "            <tr>\n",
       "                        <th id=\"T_702d7bac_deca_11e9_b04d_645d86470c16level0_row6\" class=\"row_heading level0 row6\" >1E+01</th>\n",
       "                        <td id=\"T_702d7bac_deca_11e9_b04d_645d86470c16row6_col0\" class=\"data row6 col0\" >0.61</td>\n",
       "                        <td id=\"T_702d7bac_deca_11e9_b04d_645d86470c16row6_col1\" class=\"data row6 col1\" >0.6</td>\n",
       "                        <td id=\"T_702d7bac_deca_11e9_b04d_645d86470c16row6_col2\" class=\"data row6 col2\" >0.6</td>\n",
       "                        <td id=\"T_702d7bac_deca_11e9_b04d_645d86470c16row6_col3\" class=\"data row6 col3\" >0.32</td>\n",
       "                        <td id=\"T_702d7bac_deca_11e9_b04d_645d86470c16row6_col4\" class=\"data row6 col4\" >0.51</td>\n",
       "                        <td id=\"T_702d7bac_deca_11e9_b04d_645d86470c16row6_col5\" class=\"data row6 col5\" >0.33</td>\n",
       "                        <td id=\"T_702d7bac_deca_11e9_b04d_645d86470c16row6_col6\" class=\"data row6 col6\" >0.09</td>\n",
       "                        <td id=\"T_702d7bac_deca_11e9_b04d_645d86470c16row6_col7\" class=\"data row6 col7\" >0.95</td>\n",
       "            </tr>\n",
       "    </tbody></table>"
      ],
      "text/plain": [
       "<pandas.io.formats.style.Styler at 0x7f45394c8e10>"
      ]
     },
     "execution_count": 30,
     "metadata": {},
     "output_type": "execute_result"
    }
   ],
   "source": [
    "bm_df = display_results(bm_results[sbm_all_k[2]])\n",
    "highlight_df(bm_df)"
   ]
  },
  {
   "cell_type": "code",
   "execution_count": 31,
   "metadata": {},
   "outputs": [],
   "source": [
    "bm_df.to_latex('results/sbm_k_true.tab', column_format='l|cccccccc')"
   ]
  },
  {
   "cell_type": "markdown",
   "metadata": {},
   "source": [
    "### 20newsgroup (undirected regularization)"
   ]
  },
  {
   "cell_type": "code",
   "execution_count": 32,
   "metadata": {},
   "outputs": [
    {
     "data": {
      "text/plain": [
       "((10723, 22294), 2077336)"
      ]
     },
     "execution_count": 32,
     "metadata": {},
     "output_type": "execute_result"
    }
   ],
   "source": [
    "newsgroup = sparse.load_npz('20newsgroup/20newsgroup.npz')\n",
    "newsgroup.shape, 2 * newsgroup.nnz"
   ]
  },
  {
   "cell_type": "code",
   "execution_count": 33,
   "metadata": {},
   "outputs": [],
   "source": [
    "newsgroup_truth = np.loadtxt('20newsgroup/labels.txt', dtype=int)\n",
    "newsgroup_K_true = len(set(newsgroup_truth))\n",
    "\n",
    "newsgroup_all_k = [2, int(newsgroup_K_true / 2), newsgroup_K_true]"
   ]
  },
  {
   "cell_type": "code",
   "execution_count": 34,
   "metadata": {},
   "outputs": [],
   "source": [
    "ng_results = get_all_scores(spectral, newsgroup, newsgroup_truth, n_clusters=newsgroup_all_k)"
   ]
  },
  {
   "cell_type": "code",
   "execution_count": 35,
   "metadata": {},
   "outputs": [
    {
     "data": {
      "text/html": [
       "<style  type=\"text/css\" >\n",
       "    #T_d6fd2daa_deca_11e9_b04d_645d86470c16row5_col0 {\n",
       "            background-color:  yellow;\n",
       "        }    #T_d6fd2daa_deca_11e9_b04d_645d86470c16row5_col1 {\n",
       "            background-color:  yellow;\n",
       "        }    #T_d6fd2daa_deca_11e9_b04d_645d86470c16row5_col2 {\n",
       "            background-color:  yellow;\n",
       "        }    #T_d6fd2daa_deca_11e9_b04d_645d86470c16row5_col3 {\n",
       "            background-color:  yellow;\n",
       "        }    #T_d6fd2daa_deca_11e9_b04d_645d86470c16row5_col4 {\n",
       "            background-color:  yellow;\n",
       "        }    #T_d6fd2daa_deca_11e9_b04d_645d86470c16row5_col5 {\n",
       "            background-color:  yellow;\n",
       "        }    #T_d6fd2daa_deca_11e9_b04d_645d86470c16row5_col6 {\n",
       "            background-color:  yellow;\n",
       "        }    #T_d6fd2daa_deca_11e9_b04d_645d86470c16row5_col7 {\n",
       "            background-color:  yellow;\n",
       "        }</style><table id=\"T_d6fd2daa_deca_11e9_b04d_645d86470c16\" ><thead>    <tr>        <th class=\"blank level0\" ></th>        <th class=\"col_heading level0 col0\" >H</th>        <th class=\"col_heading level0 col1\" >C</th>        <th class=\"col_heading level0 col2\" >V</th>        <th class=\"col_heading level0 col3\" >ARI</th>        <th class=\"col_heading level0 col4\" >AMI</th>        <th class=\"col_heading level0 col5\" >FMI</th>        <th class=\"col_heading level0 col6\" >Q</th>        <th class=\"col_heading level0 col7\" >std</th>    </tr></thead><tbody>\n",
       "                <tr>\n",
       "                        <th id=\"T_d6fd2daa_deca_11e9_b04d_645d86470c16level0_row0\" class=\"row_heading level0 row0\" >0E+00</th>\n",
       "                        <td id=\"T_d6fd2daa_deca_11e9_b04d_645d86470c16row0_col0\" class=\"data row0 col0\" >0</td>\n",
       "                        <td id=\"T_d6fd2daa_deca_11e9_b04d_645d86470c16row0_col1\" class=\"data row0 col1\" >0.36</td>\n",
       "                        <td id=\"T_d6fd2daa_deca_11e9_b04d_645d86470c16row0_col2\" class=\"data row0 col2\" >0</td>\n",
       "                        <td id=\"T_d6fd2daa_deca_11e9_b04d_645d86470c16row0_col3\" class=\"data row0 col3\" >0</td>\n",
       "                        <td id=\"T_d6fd2daa_deca_11e9_b04d_645d86470c16row0_col4\" class=\"data row0 col4\" >0</td>\n",
       "                        <td id=\"T_d6fd2daa_deca_11e9_b04d_645d86470c16row0_col5\" class=\"data row0 col5\" >0.23</td>\n",
       "                        <td id=\"T_d6fd2daa_deca_11e9_b04d_645d86470c16row0_col6\" class=\"data row0 col6\" >0</td>\n",
       "                        <td id=\"T_d6fd2daa_deca_11e9_b04d_645d86470c16row0_col7\" class=\"data row0 col7\" >0</td>\n",
       "            </tr>\n",
       "            <tr>\n",
       "                        <th id=\"T_d6fd2daa_deca_11e9_b04d_645d86470c16level0_row1\" class=\"row_heading level0 row1\" >1E-04</th>\n",
       "                        <td id=\"T_d6fd2daa_deca_11e9_b04d_645d86470c16row1_col0\" class=\"data row1 col0\" >0</td>\n",
       "                        <td id=\"T_d6fd2daa_deca_11e9_b04d_645d86470c16row1_col1\" class=\"data row1 col1\" >0.36</td>\n",
       "                        <td id=\"T_d6fd2daa_deca_11e9_b04d_645d86470c16row1_col2\" class=\"data row1 col2\" >0</td>\n",
       "                        <td id=\"T_d6fd2daa_deca_11e9_b04d_645d86470c16row1_col3\" class=\"data row1 col3\" >0</td>\n",
       "                        <td id=\"T_d6fd2daa_deca_11e9_b04d_645d86470c16row1_col4\" class=\"data row1 col4\" >0</td>\n",
       "                        <td id=\"T_d6fd2daa_deca_11e9_b04d_645d86470c16row1_col5\" class=\"data row1 col5\" >0.23</td>\n",
       "                        <td id=\"T_d6fd2daa_deca_11e9_b04d_645d86470c16row1_col6\" class=\"data row1 col6\" >0</td>\n",
       "                        <td id=\"T_d6fd2daa_deca_11e9_b04d_645d86470c16row1_col7\" class=\"data row1 col7\" >0</td>\n",
       "            </tr>\n",
       "            <tr>\n",
       "                        <th id=\"T_d6fd2daa_deca_11e9_b04d_645d86470c16level0_row2\" class=\"row_heading level0 row2\" >1E-03</th>\n",
       "                        <td id=\"T_d6fd2daa_deca_11e9_b04d_645d86470c16row2_col0\" class=\"data row2 col0\" >0</td>\n",
       "                        <td id=\"T_d6fd2daa_deca_11e9_b04d_645d86470c16row2_col1\" class=\"data row2 col1\" >0.36</td>\n",
       "                        <td id=\"T_d6fd2daa_deca_11e9_b04d_645d86470c16row2_col2\" class=\"data row2 col2\" >0</td>\n",
       "                        <td id=\"T_d6fd2daa_deca_11e9_b04d_645d86470c16row2_col3\" class=\"data row2 col3\" >0</td>\n",
       "                        <td id=\"T_d6fd2daa_deca_11e9_b04d_645d86470c16row2_col4\" class=\"data row2 col4\" >0</td>\n",
       "                        <td id=\"T_d6fd2daa_deca_11e9_b04d_645d86470c16row2_col5\" class=\"data row2 col5\" >0.23</td>\n",
       "                        <td id=\"T_d6fd2daa_deca_11e9_b04d_645d86470c16row2_col6\" class=\"data row2 col6\" >0</td>\n",
       "                        <td id=\"T_d6fd2daa_deca_11e9_b04d_645d86470c16row2_col7\" class=\"data row2 col7\" >0</td>\n",
       "            </tr>\n",
       "            <tr>\n",
       "                        <th id=\"T_d6fd2daa_deca_11e9_b04d_645d86470c16level0_row3\" class=\"row_heading level0 row3\" >1E-02</th>\n",
       "                        <td id=\"T_d6fd2daa_deca_11e9_b04d_645d86470c16row3_col0\" class=\"data row3 col0\" >0</td>\n",
       "                        <td id=\"T_d6fd2daa_deca_11e9_b04d_645d86470c16row3_col1\" class=\"data row3 col1\" >0.36</td>\n",
       "                        <td id=\"T_d6fd2daa_deca_11e9_b04d_645d86470c16row3_col2\" class=\"data row3 col2\" >0</td>\n",
       "                        <td id=\"T_d6fd2daa_deca_11e9_b04d_645d86470c16row3_col3\" class=\"data row3 col3\" >0</td>\n",
       "                        <td id=\"T_d6fd2daa_deca_11e9_b04d_645d86470c16row3_col4\" class=\"data row3 col4\" >0</td>\n",
       "                        <td id=\"T_d6fd2daa_deca_11e9_b04d_645d86470c16row3_col5\" class=\"data row3 col5\" >0.23</td>\n",
       "                        <td id=\"T_d6fd2daa_deca_11e9_b04d_645d86470c16row3_col6\" class=\"data row3 col6\" >0</td>\n",
       "                        <td id=\"T_d6fd2daa_deca_11e9_b04d_645d86470c16row3_col7\" class=\"data row3 col7\" >0</td>\n",
       "            </tr>\n",
       "            <tr>\n",
       "                        <th id=\"T_d6fd2daa_deca_11e9_b04d_645d86470c16level0_row4\" class=\"row_heading level0 row4\" >1E-01</th>\n",
       "                        <td id=\"T_d6fd2daa_deca_11e9_b04d_645d86470c16row4_col0\" class=\"data row4 col0\" >0</td>\n",
       "                        <td id=\"T_d6fd2daa_deca_11e9_b04d_645d86470c16row4_col1\" class=\"data row4 col1\" >0.36</td>\n",
       "                        <td id=\"T_d6fd2daa_deca_11e9_b04d_645d86470c16row4_col2\" class=\"data row4 col2\" >0</td>\n",
       "                        <td id=\"T_d6fd2daa_deca_11e9_b04d_645d86470c16row4_col3\" class=\"data row4 col3\" >0</td>\n",
       "                        <td id=\"T_d6fd2daa_deca_11e9_b04d_645d86470c16row4_col4\" class=\"data row4 col4\" >0</td>\n",
       "                        <td id=\"T_d6fd2daa_deca_11e9_b04d_645d86470c16row4_col5\" class=\"data row4 col5\" >0.23</td>\n",
       "                        <td id=\"T_d6fd2daa_deca_11e9_b04d_645d86470c16row4_col6\" class=\"data row4 col6\" >0</td>\n",
       "                        <td id=\"T_d6fd2daa_deca_11e9_b04d_645d86470c16row4_col7\" class=\"data row4 col7\" >0</td>\n",
       "            </tr>\n",
       "            <tr>\n",
       "                        <th id=\"T_d6fd2daa_deca_11e9_b04d_645d86470c16level0_row5\" class=\"row_heading level0 row5\" >1E+00</th>\n",
       "                        <td id=\"T_d6fd2daa_deca_11e9_b04d_645d86470c16row5_col0\" class=\"data row5 col0\" >0.15</td>\n",
       "                        <td id=\"T_d6fd2daa_deca_11e9_b04d_645d86470c16row5_col1\" class=\"data row5 col1\" >0.72</td>\n",
       "                        <td id=\"T_d6fd2daa_deca_11e9_b04d_645d86470c16row5_col2\" class=\"data row5 col2\" >0.25</td>\n",
       "                        <td id=\"T_d6fd2daa_deca_11e9_b04d_645d86470c16row5_col3\" class=\"data row5 col3\" >0.06</td>\n",
       "                        <td id=\"T_d6fd2daa_deca_11e9_b04d_645d86470c16row5_col4\" class=\"data row5 col4\" >0.25</td>\n",
       "                        <td id=\"T_d6fd2daa_deca_11e9_b04d_645d86470c16row5_col5\" class=\"data row5 col5\" >0.28</td>\n",
       "                        <td id=\"T_d6fd2daa_deca_11e9_b04d_645d86470c16row5_col6\" class=\"data row5 col6\" >0.16</td>\n",
       "                        <td id=\"T_d6fd2daa_deca_11e9_b04d_645d86470c16row5_col7\" class=\"data row5 col7\" >0.63</td>\n",
       "            </tr>\n",
       "            <tr>\n",
       "                        <th id=\"T_d6fd2daa_deca_11e9_b04d_645d86470c16level0_row6\" class=\"row_heading level0 row6\" >1E+01</th>\n",
       "                        <td id=\"T_d6fd2daa_deca_11e9_b04d_645d86470c16row6_col0\" class=\"data row6 col0\" >0.12</td>\n",
       "                        <td id=\"T_d6fd2daa_deca_11e9_b04d_645d86470c16row6_col1\" class=\"data row6 col1\" >0.61</td>\n",
       "                        <td id=\"T_d6fd2daa_deca_11e9_b04d_645d86470c16row6_col2\" class=\"data row6 col2\" >0.2</td>\n",
       "                        <td id=\"T_d6fd2daa_deca_11e9_b04d_645d86470c16row6_col3\" class=\"data row6 col3\" >0.04</td>\n",
       "                        <td id=\"T_d6fd2daa_deca_11e9_b04d_645d86470c16row6_col4\" class=\"data row6 col4\" >0.2</td>\n",
       "                        <td id=\"T_d6fd2daa_deca_11e9_b04d_645d86470c16row6_col5\" class=\"data row6 col5\" >0.26</td>\n",
       "                        <td id=\"T_d6fd2daa_deca_11e9_b04d_645d86470c16row6_col6\" class=\"data row6 col6\" >0.13</td>\n",
       "                        <td id=\"T_d6fd2daa_deca_11e9_b04d_645d86470c16row6_col7\" class=\"data row6 col7\" >0.51</td>\n",
       "            </tr>\n",
       "    </tbody></table>"
      ],
      "text/plain": [
       "<pandas.io.formats.style.Styler at 0x7f453952ab00>"
      ]
     },
     "execution_count": 35,
     "metadata": {},
     "output_type": "execute_result"
    }
   ],
   "source": [
    "ng_df = display_results(ng_results[newsgroup_all_k[0]])\n",
    "highlight_df(ng_df)"
   ]
  },
  {
   "cell_type": "code",
   "execution_count": 36,
   "metadata": {},
   "outputs": [],
   "source": [
    "ng_df.to_latex('results/20newsgroup_k_2.tab', column_format='l|cccccccc')"
   ]
  },
  {
   "cell_type": "code",
   "execution_count": 37,
   "metadata": {},
   "outputs": [
    {
     "data": {
      "text/html": [
       "<style  type=\"text/css\" >\n",
       "    #T_d70389f2_deca_11e9_b04d_645d86470c16row0_col1 {\n",
       "            background-color:  yellow;\n",
       "        }    #T_d70389f2_deca_11e9_b04d_645d86470c16row1_col1 {\n",
       "            background-color:  yellow;\n",
       "        }    #T_d70389f2_deca_11e9_b04d_645d86470c16row2_col1 {\n",
       "            background-color:  yellow;\n",
       "        }    #T_d70389f2_deca_11e9_b04d_645d86470c16row3_col1 {\n",
       "            background-color:  yellow;\n",
       "        }    #T_d70389f2_deca_11e9_b04d_645d86470c16row5_col0 {\n",
       "            background-color:  yellow;\n",
       "        }    #T_d70389f2_deca_11e9_b04d_645d86470c16row5_col2 {\n",
       "            background-color:  yellow;\n",
       "        }    #T_d70389f2_deca_11e9_b04d_645d86470c16row5_col3 {\n",
       "            background-color:  yellow;\n",
       "        }    #T_d70389f2_deca_11e9_b04d_645d86470c16row5_col4 {\n",
       "            background-color:  yellow;\n",
       "        }    #T_d70389f2_deca_11e9_b04d_645d86470c16row5_col5 {\n",
       "            background-color:  yellow;\n",
       "        }    #T_d70389f2_deca_11e9_b04d_645d86470c16row5_col6 {\n",
       "            background-color:  yellow;\n",
       "        }    #T_d70389f2_deca_11e9_b04d_645d86470c16row5_col7 {\n",
       "            background-color:  yellow;\n",
       "        }</style><table id=\"T_d70389f2_deca_11e9_b04d_645d86470c16\" ><thead>    <tr>        <th class=\"blank level0\" ></th>        <th class=\"col_heading level0 col0\" >H</th>        <th class=\"col_heading level0 col1\" >C</th>        <th class=\"col_heading level0 col2\" >V</th>        <th class=\"col_heading level0 col3\" >ARI</th>        <th class=\"col_heading level0 col4\" >AMI</th>        <th class=\"col_heading level0 col5\" >FMI</th>        <th class=\"col_heading level0 col6\" >Q</th>        <th class=\"col_heading level0 col7\" >std</th>    </tr></thead><tbody>\n",
       "                <tr>\n",
       "                        <th id=\"T_d70389f2_deca_11e9_b04d_645d86470c16level0_row0\" class=\"row_heading level0 row0\" >0E+00</th>\n",
       "                        <td id=\"T_d70389f2_deca_11e9_b04d_645d86470c16row0_col0\" class=\"data row0 col0\" >0.27</td>\n",
       "                        <td id=\"T_d70389f2_deca_11e9_b04d_645d86470c16row0_col1\" class=\"data row0 col1\" >0.76</td>\n",
       "                        <td id=\"T_d70389f2_deca_11e9_b04d_645d86470c16row0_col2\" class=\"data row0 col2\" >0.4</td>\n",
       "                        <td id=\"T_d70389f2_deca_11e9_b04d_645d86470c16row0_col3\" class=\"data row0 col3\" >0.11</td>\n",
       "                        <td id=\"T_d70389f2_deca_11e9_b04d_645d86470c16row0_col4\" class=\"data row0 col4\" >0.39</td>\n",
       "                        <td id=\"T_d70389f2_deca_11e9_b04d_645d86470c16row0_col5\" class=\"data row0 col5\" >0.31</td>\n",
       "                        <td id=\"T_d70389f2_deca_11e9_b04d_645d86470c16row0_col6\" class=\"data row0 col6\" >0.2</td>\n",
       "                        <td id=\"T_d70389f2_deca_11e9_b04d_645d86470c16row0_col7\" class=\"data row0 col7\" >0.41</td>\n",
       "            </tr>\n",
       "            <tr>\n",
       "                        <th id=\"T_d70389f2_deca_11e9_b04d_645d86470c16level0_row1\" class=\"row_heading level0 row1\" >1E-04</th>\n",
       "                        <td id=\"T_d70389f2_deca_11e9_b04d_645d86470c16row1_col0\" class=\"data row1 col0\" >0.27</td>\n",
       "                        <td id=\"T_d70389f2_deca_11e9_b04d_645d86470c16row1_col1\" class=\"data row1 col1\" >0.76</td>\n",
       "                        <td id=\"T_d70389f2_deca_11e9_b04d_645d86470c16row1_col2\" class=\"data row1 col2\" >0.4</td>\n",
       "                        <td id=\"T_d70389f2_deca_11e9_b04d_645d86470c16row1_col3\" class=\"data row1 col3\" >0.11</td>\n",
       "                        <td id=\"T_d70389f2_deca_11e9_b04d_645d86470c16row1_col4\" class=\"data row1 col4\" >0.39</td>\n",
       "                        <td id=\"T_d70389f2_deca_11e9_b04d_645d86470c16row1_col5\" class=\"data row1 col5\" >0.31</td>\n",
       "                        <td id=\"T_d70389f2_deca_11e9_b04d_645d86470c16row1_col6\" class=\"data row1 col6\" >0.2</td>\n",
       "                        <td id=\"T_d70389f2_deca_11e9_b04d_645d86470c16row1_col7\" class=\"data row1 col7\" >0.42</td>\n",
       "            </tr>\n",
       "            <tr>\n",
       "                        <th id=\"T_d70389f2_deca_11e9_b04d_645d86470c16level0_row2\" class=\"row_heading level0 row2\" >1E-03</th>\n",
       "                        <td id=\"T_d70389f2_deca_11e9_b04d_645d86470c16row2_col0\" class=\"data row2 col0\" >0.27</td>\n",
       "                        <td id=\"T_d70389f2_deca_11e9_b04d_645d86470c16row2_col1\" class=\"data row2 col1\" >0.76</td>\n",
       "                        <td id=\"T_d70389f2_deca_11e9_b04d_645d86470c16row2_col2\" class=\"data row2 col2\" >0.4</td>\n",
       "                        <td id=\"T_d70389f2_deca_11e9_b04d_645d86470c16row2_col3\" class=\"data row2 col3\" >0.11</td>\n",
       "                        <td id=\"T_d70389f2_deca_11e9_b04d_645d86470c16row2_col4\" class=\"data row2 col4\" >0.39</td>\n",
       "                        <td id=\"T_d70389f2_deca_11e9_b04d_645d86470c16row2_col5\" class=\"data row2 col5\" >0.31</td>\n",
       "                        <td id=\"T_d70389f2_deca_11e9_b04d_645d86470c16row2_col6\" class=\"data row2 col6\" >0.2</td>\n",
       "                        <td id=\"T_d70389f2_deca_11e9_b04d_645d86470c16row2_col7\" class=\"data row2 col7\" >0.42</td>\n",
       "            </tr>\n",
       "            <tr>\n",
       "                        <th id=\"T_d70389f2_deca_11e9_b04d_645d86470c16level0_row3\" class=\"row_heading level0 row3\" >1E-02</th>\n",
       "                        <td id=\"T_d70389f2_deca_11e9_b04d_645d86470c16row3_col0\" class=\"data row3 col0\" >0.27</td>\n",
       "                        <td id=\"T_d70389f2_deca_11e9_b04d_645d86470c16row3_col1\" class=\"data row3 col1\" >0.76</td>\n",
       "                        <td id=\"T_d70389f2_deca_11e9_b04d_645d86470c16row3_col2\" class=\"data row3 col2\" >0.4</td>\n",
       "                        <td id=\"T_d70389f2_deca_11e9_b04d_645d86470c16row3_col3\" class=\"data row3 col3\" >0.11</td>\n",
       "                        <td id=\"T_d70389f2_deca_11e9_b04d_645d86470c16row3_col4\" class=\"data row3 col4\" >0.39</td>\n",
       "                        <td id=\"T_d70389f2_deca_11e9_b04d_645d86470c16row3_col5\" class=\"data row3 col5\" >0.31</td>\n",
       "                        <td id=\"T_d70389f2_deca_11e9_b04d_645d86470c16row3_col6\" class=\"data row3 col6\" >0.2</td>\n",
       "                        <td id=\"T_d70389f2_deca_11e9_b04d_645d86470c16row3_col7\" class=\"data row3 col7\" >0.41</td>\n",
       "            </tr>\n",
       "            <tr>\n",
       "                        <th id=\"T_d70389f2_deca_11e9_b04d_645d86470c16level0_row4\" class=\"row_heading level0 row4\" >1E-01</th>\n",
       "                        <td id=\"T_d70389f2_deca_11e9_b04d_645d86470c16row4_col0\" class=\"data row4 col0\" >0.28</td>\n",
       "                        <td id=\"T_d70389f2_deca_11e9_b04d_645d86470c16row4_col1\" class=\"data row4 col1\" >0.73</td>\n",
       "                        <td id=\"T_d70389f2_deca_11e9_b04d_645d86470c16row4_col2\" class=\"data row4 col2\" >0.41</td>\n",
       "                        <td id=\"T_d70389f2_deca_11e9_b04d_645d86470c16row4_col3\" class=\"data row4 col3\" >0.11</td>\n",
       "                        <td id=\"T_d70389f2_deca_11e9_b04d_645d86470c16row4_col4\" class=\"data row4 col4\" >0.4</td>\n",
       "                        <td id=\"T_d70389f2_deca_11e9_b04d_645d86470c16row4_col5\" class=\"data row4 col5\" >0.3</td>\n",
       "                        <td id=\"T_d70389f2_deca_11e9_b04d_645d86470c16row4_col6\" class=\"data row4 col6\" >0.18</td>\n",
       "                        <td id=\"T_d70389f2_deca_11e9_b04d_645d86470c16row4_col7\" class=\"data row4 col7\" >0.43</td>\n",
       "            </tr>\n",
       "            <tr>\n",
       "                        <th id=\"T_d70389f2_deca_11e9_b04d_645d86470c16level0_row5\" class=\"row_heading level0 row5\" >1E+00</th>\n",
       "                        <td id=\"T_d70389f2_deca_11e9_b04d_645d86470c16row5_col0\" class=\"data row5 col0\" >0.38</td>\n",
       "                        <td id=\"T_d70389f2_deca_11e9_b04d_645d86470c16row5_col1\" class=\"data row5 col1\" >0.72</td>\n",
       "                        <td id=\"T_d70389f2_deca_11e9_b04d_645d86470c16row5_col2\" class=\"data row5 col2\" >0.5</td>\n",
       "                        <td id=\"T_d70389f2_deca_11e9_b04d_645d86470c16row5_col3\" class=\"data row5 col3\" >0.18</td>\n",
       "                        <td id=\"T_d70389f2_deca_11e9_b04d_645d86470c16row5_col4\" class=\"data row5 col4\" >0.5</td>\n",
       "                        <td id=\"T_d70389f2_deca_11e9_b04d_645d86470c16row5_col5\" class=\"data row5 col5\" >0.34</td>\n",
       "                        <td id=\"T_d70389f2_deca_11e9_b04d_645d86470c16row5_col6\" class=\"data row5 col6\" >0.21</td>\n",
       "                        <td id=\"T_d70389f2_deca_11e9_b04d_645d86470c16row5_col7\" class=\"data row5 col7\" >0.57</td>\n",
       "            </tr>\n",
       "            <tr>\n",
       "                        <th id=\"T_d70389f2_deca_11e9_b04d_645d86470c16level0_row6\" class=\"row_heading level0 row6\" >1E+01</th>\n",
       "                        <td id=\"T_d70389f2_deca_11e9_b04d_645d86470c16row6_col0\" class=\"data row6 col0\" >0.31</td>\n",
       "                        <td id=\"T_d70389f2_deca_11e9_b04d_645d86470c16row6_col1\" class=\"data row6 col1\" >0.62</td>\n",
       "                        <td id=\"T_d70389f2_deca_11e9_b04d_645d86470c16row6_col2\" class=\"data row6 col2\" >0.42</td>\n",
       "                        <td id=\"T_d70389f2_deca_11e9_b04d_645d86470c16row6_col3\" class=\"data row6 col3\" >0.11</td>\n",
       "                        <td id=\"T_d70389f2_deca_11e9_b04d_645d86470c16row6_col4\" class=\"data row6 col4\" >0.42</td>\n",
       "                        <td id=\"T_d70389f2_deca_11e9_b04d_645d86470c16row6_col5\" class=\"data row6 col5\" >0.27</td>\n",
       "                        <td id=\"T_d70389f2_deca_11e9_b04d_645d86470c16row6_col6\" class=\"data row6 col6\" >0.17</td>\n",
       "                        <td id=\"T_d70389f2_deca_11e9_b04d_645d86470c16row6_col7\" class=\"data row6 col7\" >0.51</td>\n",
       "            </tr>\n",
       "    </tbody></table>"
      ],
      "text/plain": [
       "<pandas.io.formats.style.Styler at 0x7f4539461e10>"
      ]
     },
     "execution_count": 37,
     "metadata": {},
     "output_type": "execute_result"
    }
   ],
   "source": [
    "ng_df = display_results(ng_results[newsgroup_all_k[1]])\n",
    "highlight_df(ng_df)"
   ]
  },
  {
   "cell_type": "code",
   "execution_count": 38,
   "metadata": {},
   "outputs": [],
   "source": [
    "ng_df.to_latex('results/20newsgroup_half_k_true.tab', column_format='l|cccccccc')"
   ]
  },
  {
   "cell_type": "code",
   "execution_count": 39,
   "metadata": {},
   "outputs": [
    {
     "data": {
      "text/html": [
       "<style  type=\"text/css\" >\n",
       "    #T_d70bbcc6_deca_11e9_b04d_645d86470c16row2_col1 {\n",
       "            background-color:  yellow;\n",
       "        }    #T_d70bbcc6_deca_11e9_b04d_645d86470c16row3_col1 {\n",
       "            background-color:  yellow;\n",
       "        }    #T_d70bbcc6_deca_11e9_b04d_645d86470c16row3_col5 {\n",
       "            background-color:  yellow;\n",
       "        }    #T_d70bbcc6_deca_11e9_b04d_645d86470c16row3_col6 {\n",
       "            background-color:  yellow;\n",
       "        }    #T_d70bbcc6_deca_11e9_b04d_645d86470c16row4_col2 {\n",
       "            background-color:  yellow;\n",
       "        }    #T_d70bbcc6_deca_11e9_b04d_645d86470c16row4_col3 {\n",
       "            background-color:  yellow;\n",
       "        }    #T_d70bbcc6_deca_11e9_b04d_645d86470c16row4_col4 {\n",
       "            background-color:  yellow;\n",
       "        }    #T_d70bbcc6_deca_11e9_b04d_645d86470c16row5_col0 {\n",
       "            background-color:  yellow;\n",
       "        }    #T_d70bbcc6_deca_11e9_b04d_645d86470c16row5_col2 {\n",
       "            background-color:  yellow;\n",
       "        }    #T_d70bbcc6_deca_11e9_b04d_645d86470c16row5_col4 {\n",
       "            background-color:  yellow;\n",
       "        }    #T_d70bbcc6_deca_11e9_b04d_645d86470c16row5_col7 {\n",
       "            background-color:  yellow;\n",
       "        }</style><table id=\"T_d70bbcc6_deca_11e9_b04d_645d86470c16\" ><thead>    <tr>        <th class=\"blank level0\" ></th>        <th class=\"col_heading level0 col0\" >H</th>        <th class=\"col_heading level0 col1\" >C</th>        <th class=\"col_heading level0 col2\" >V</th>        <th class=\"col_heading level0 col3\" >ARI</th>        <th class=\"col_heading level0 col4\" >AMI</th>        <th class=\"col_heading level0 col5\" >FMI</th>        <th class=\"col_heading level0 col6\" >Q</th>        <th class=\"col_heading level0 col7\" >std</th>    </tr></thead><tbody>\n",
       "                <tr>\n",
       "                        <th id=\"T_d70bbcc6_deca_11e9_b04d_645d86470c16level0_row0\" class=\"row_heading level0 row0\" >0E+00</th>\n",
       "                        <td id=\"T_d70bbcc6_deca_11e9_b04d_645d86470c16row0_col0\" class=\"data row0 col0\" >0.4</td>\n",
       "                        <td id=\"T_d70bbcc6_deca_11e9_b04d_645d86470c16row0_col1\" class=\"data row0 col1\" >0.7</td>\n",
       "                        <td id=\"T_d70bbcc6_deca_11e9_b04d_645d86470c16row0_col2\" class=\"data row0 col2\" >0.51</td>\n",
       "                        <td id=\"T_d70bbcc6_deca_11e9_b04d_645d86470c16row0_col3\" class=\"data row0 col3\" >0.19</td>\n",
       "                        <td id=\"T_d70bbcc6_deca_11e9_b04d_645d86470c16row0_col4\" class=\"data row0 col4\" >0.5</td>\n",
       "                        <td id=\"T_d70bbcc6_deca_11e9_b04d_645d86470c16row0_col5\" class=\"data row0 col5\" >0.34</td>\n",
       "                        <td id=\"T_d70bbcc6_deca_11e9_b04d_645d86470c16row0_col6\" class=\"data row0 col6\" >0.21</td>\n",
       "                        <td id=\"T_d70bbcc6_deca_11e9_b04d_645d86470c16row0_col7\" class=\"data row0 col7\" >0.55</td>\n",
       "            </tr>\n",
       "            <tr>\n",
       "                        <th id=\"T_d70bbcc6_deca_11e9_b04d_645d86470c16level0_row1\" class=\"row_heading level0 row1\" >1E-04</th>\n",
       "                        <td id=\"T_d70bbcc6_deca_11e9_b04d_645d86470c16row1_col0\" class=\"data row1 col0\" >0.35</td>\n",
       "                        <td id=\"T_d70bbcc6_deca_11e9_b04d_645d86470c16row1_col1\" class=\"data row1 col1\" >0.7</td>\n",
       "                        <td id=\"T_d70bbcc6_deca_11e9_b04d_645d86470c16row1_col2\" class=\"data row1 col2\" >0.47</td>\n",
       "                        <td id=\"T_d70bbcc6_deca_11e9_b04d_645d86470c16row1_col3\" class=\"data row1 col3\" >0.13</td>\n",
       "                        <td id=\"T_d70bbcc6_deca_11e9_b04d_645d86470c16row1_col4\" class=\"data row1 col4\" >0.47</td>\n",
       "                        <td id=\"T_d70bbcc6_deca_11e9_b04d_645d86470c16row1_col5\" class=\"data row1 col5\" >0.31</td>\n",
       "                        <td id=\"T_d70bbcc6_deca_11e9_b04d_645d86470c16row1_col6\" class=\"data row1 col6\" >0.2</td>\n",
       "                        <td id=\"T_d70bbcc6_deca_11e9_b04d_645d86470c16row1_col7\" class=\"data row1 col7\" >0.47</td>\n",
       "            </tr>\n",
       "            <tr>\n",
       "                        <th id=\"T_d70bbcc6_deca_11e9_b04d_645d86470c16level0_row2\" class=\"row_heading level0 row2\" >1E-03</th>\n",
       "                        <td id=\"T_d70bbcc6_deca_11e9_b04d_645d86470c16row2_col0\" class=\"data row2 col0\" >0.33</td>\n",
       "                        <td id=\"T_d70bbcc6_deca_11e9_b04d_645d86470c16row2_col1\" class=\"data row2 col1\" >0.71</td>\n",
       "                        <td id=\"T_d70bbcc6_deca_11e9_b04d_645d86470c16row2_col2\" class=\"data row2 col2\" >0.45</td>\n",
       "                        <td id=\"T_d70bbcc6_deca_11e9_b04d_645d86470c16row2_col3\" class=\"data row2 col3\" >0.1</td>\n",
       "                        <td id=\"T_d70bbcc6_deca_11e9_b04d_645d86470c16row2_col4\" class=\"data row2 col4\" >0.45</td>\n",
       "                        <td id=\"T_d70bbcc6_deca_11e9_b04d_645d86470c16row2_col5\" class=\"data row2 col5\" >0.29</td>\n",
       "                        <td id=\"T_d70bbcc6_deca_11e9_b04d_645d86470c16row2_col6\" class=\"data row2 col6\" >0.17</td>\n",
       "                        <td id=\"T_d70bbcc6_deca_11e9_b04d_645d86470c16row2_col7\" class=\"data row2 col7\" >0.39</td>\n",
       "            </tr>\n",
       "            <tr>\n",
       "                        <th id=\"T_d70bbcc6_deca_11e9_b04d_645d86470c16level0_row3\" class=\"row_heading level0 row3\" >1E-02</th>\n",
       "                        <td id=\"T_d70bbcc6_deca_11e9_b04d_645d86470c16row3_col0\" class=\"data row3 col0\" >0.43</td>\n",
       "                        <td id=\"T_d70bbcc6_deca_11e9_b04d_645d86470c16row3_col1\" class=\"data row3 col1\" >0.71</td>\n",
       "                        <td id=\"T_d70bbcc6_deca_11e9_b04d_645d86470c16row3_col2\" class=\"data row3 col2\" >0.53</td>\n",
       "                        <td id=\"T_d70bbcc6_deca_11e9_b04d_645d86470c16row3_col3\" class=\"data row3 col3\" >0.21</td>\n",
       "                        <td id=\"T_d70bbcc6_deca_11e9_b04d_645d86470c16row3_col4\" class=\"data row3 col4\" >0.53</td>\n",
       "                        <td id=\"T_d70bbcc6_deca_11e9_b04d_645d86470c16row3_col5\" class=\"data row3 col5\" >0.36</td>\n",
       "                        <td id=\"T_d70bbcc6_deca_11e9_b04d_645d86470c16row3_col6\" class=\"data row3 col6\" >0.22</td>\n",
       "                        <td id=\"T_d70bbcc6_deca_11e9_b04d_645d86470c16row3_col7\" class=\"data row3 col7\" >0.57</td>\n",
       "            </tr>\n",
       "            <tr>\n",
       "                        <th id=\"T_d70bbcc6_deca_11e9_b04d_645d86470c16level0_row4\" class=\"row_heading level0 row4\" >1E-01</th>\n",
       "                        <td id=\"T_d70bbcc6_deca_11e9_b04d_645d86470c16row4_col0\" class=\"data row4 col0\" >0.44</td>\n",
       "                        <td id=\"T_d70bbcc6_deca_11e9_b04d_645d86470c16row4_col1\" class=\"data row4 col1\" >0.7</td>\n",
       "                        <td id=\"T_d70bbcc6_deca_11e9_b04d_645d86470c16row4_col2\" class=\"data row4 col2\" >0.54</td>\n",
       "                        <td id=\"T_d70bbcc6_deca_11e9_b04d_645d86470c16row4_col3\" class=\"data row4 col3\" >0.22</td>\n",
       "                        <td id=\"T_d70bbcc6_deca_11e9_b04d_645d86470c16row4_col4\" class=\"data row4 col4\" >0.54</td>\n",
       "                        <td id=\"T_d70bbcc6_deca_11e9_b04d_645d86470c16row4_col5\" class=\"data row4 col5\" >0.35</td>\n",
       "                        <td id=\"T_d70bbcc6_deca_11e9_b04d_645d86470c16row4_col6\" class=\"data row4 col6\" >0.21</td>\n",
       "                        <td id=\"T_d70bbcc6_deca_11e9_b04d_645d86470c16row4_col7\" class=\"data row4 col7\" >0.59</td>\n",
       "            </tr>\n",
       "            <tr>\n",
       "                        <th id=\"T_d70bbcc6_deca_11e9_b04d_645d86470c16level0_row5\" class=\"row_heading level0 row5\" >1E+00</th>\n",
       "                        <td id=\"T_d70bbcc6_deca_11e9_b04d_645d86470c16row5_col0\" class=\"data row5 col0\" >0.46</td>\n",
       "                        <td id=\"T_d70bbcc6_deca_11e9_b04d_645d86470c16row5_col1\" class=\"data row5 col1\" >0.67</td>\n",
       "                        <td id=\"T_d70bbcc6_deca_11e9_b04d_645d86470c16row5_col2\" class=\"data row5 col2\" >0.54</td>\n",
       "                        <td id=\"T_d70bbcc6_deca_11e9_b04d_645d86470c16row5_col3\" class=\"data row5 col3\" >0.2</td>\n",
       "                        <td id=\"T_d70bbcc6_deca_11e9_b04d_645d86470c16row5_col4\" class=\"data row5 col4\" >0.54</td>\n",
       "                        <td id=\"T_d70bbcc6_deca_11e9_b04d_645d86470c16row5_col5\" class=\"data row5 col5\" >0.33</td>\n",
       "                        <td id=\"T_d70bbcc6_deca_11e9_b04d_645d86470c16row5_col6\" class=\"data row5 col6\" >0.2</td>\n",
       "                        <td id=\"T_d70bbcc6_deca_11e9_b04d_645d86470c16row5_col7\" class=\"data row5 col7\" >0.6</td>\n",
       "            </tr>\n",
       "            <tr>\n",
       "                        <th id=\"T_d70bbcc6_deca_11e9_b04d_645d86470c16level0_row6\" class=\"row_heading level0 row6\" >1E+01</th>\n",
       "                        <td id=\"T_d70bbcc6_deca_11e9_b04d_645d86470c16row6_col0\" class=\"data row6 col0\" >0.37</td>\n",
       "                        <td id=\"T_d70bbcc6_deca_11e9_b04d_645d86470c16row6_col1\" class=\"data row6 col1\" >0.55</td>\n",
       "                        <td id=\"T_d70bbcc6_deca_11e9_b04d_645d86470c16row6_col2\" class=\"data row6 col2\" >0.45</td>\n",
       "                        <td id=\"T_d70bbcc6_deca_11e9_b04d_645d86470c16row6_col3\" class=\"data row6 col3\" >0.13</td>\n",
       "                        <td id=\"T_d70bbcc6_deca_11e9_b04d_645d86470c16row6_col4\" class=\"data row6 col4\" >0.44</td>\n",
       "                        <td id=\"T_d70bbcc6_deca_11e9_b04d_645d86470c16row6_col5\" class=\"data row6 col5\" >0.26</td>\n",
       "                        <td id=\"T_d70bbcc6_deca_11e9_b04d_645d86470c16row6_col6\" class=\"data row6 col6\" >0.17</td>\n",
       "                        <td id=\"T_d70bbcc6_deca_11e9_b04d_645d86470c16row6_col7\" class=\"data row6 col7\" >0.56</td>\n",
       "            </tr>\n",
       "    </tbody></table>"
      ],
      "text/plain": [
       "<pandas.io.formats.style.Styler at 0x7f4539461438>"
      ]
     },
     "execution_count": 39,
     "metadata": {},
     "output_type": "execute_result"
    }
   ],
   "source": [
    "ng_df = display_results(ng_results[newsgroup_all_k[2]])\n",
    "highlight_df(ng_df)"
   ]
  },
  {
   "cell_type": "code",
   "execution_count": 40,
   "metadata": {},
   "outputs": [],
   "source": [
    "ng_df.to_latex('results/20newsgroup_k_true.tab', column_format='l|cccccccc')"
   ]
  },
  {
   "cell_type": "markdown",
   "metadata": {},
   "source": [
    "### Wikipedia"
   ]
  },
  {
   "cell_type": "code",
   "execution_count": 41,
   "metadata": {},
   "outputs": [
    {
     "data": {
      "text/plain": [
       "((4591, 4591), 213138)"
      ]
     },
     "execution_count": 41,
     "metadata": {},
     "output_type": "execute_result"
    }
   ],
   "source": [
    "wikipedia = sparse.load_npz('wikipedia/wikipedia.npz')\n",
    "wikipedia.shape, wikipedia.nnz"
   ]
  },
  {
   "cell_type": "code",
   "execution_count": 42,
   "metadata": {},
   "outputs": [],
   "source": [
    "wikipedia_truth = np.loadtxt('wikipedia/labels.txt', dtype=int)\n",
    "wikipedia_K_true = len(set(wikipedia_truth))\n",
    "wikipedia_all_k = [2, int(wikipedia_K_true / 2), wikipedia_K_true]"
   ]
  },
  {
   "cell_type": "code",
   "execution_count": 45,
   "metadata": {},
   "outputs": [],
   "source": [
    "wk_results = get_all_scores(spectral, wikipedia, wikipedia_truth, n_clusters=wikipedia_all_k)"
   ]
  },
  {
   "cell_type": "code",
   "execution_count": 46,
   "metadata": {},
   "outputs": [
    {
     "data": {
      "text/html": [
       "<style  type=\"text/css\" >\n",
       "    #T_fa3ce846_deca_11e9_b04d_645d86470c16row0_col1 {\n",
       "            background-color:  yellow;\n",
       "        }    #T_fa3ce846_deca_11e9_b04d_645d86470c16row0_col3 {\n",
       "            background-color:  yellow;\n",
       "        }    #T_fa3ce846_deca_11e9_b04d_645d86470c16row0_col5 {\n",
       "            background-color:  yellow;\n",
       "        }    #T_fa3ce846_deca_11e9_b04d_645d86470c16row1_col1 {\n",
       "            background-color:  yellow;\n",
       "        }    #T_fa3ce846_deca_11e9_b04d_645d86470c16row1_col3 {\n",
       "            background-color:  yellow;\n",
       "        }    #T_fa3ce846_deca_11e9_b04d_645d86470c16row1_col5 {\n",
       "            background-color:  yellow;\n",
       "        }    #T_fa3ce846_deca_11e9_b04d_645d86470c16row2_col1 {\n",
       "            background-color:  yellow;\n",
       "        }    #T_fa3ce846_deca_11e9_b04d_645d86470c16row2_col3 {\n",
       "            background-color:  yellow;\n",
       "        }    #T_fa3ce846_deca_11e9_b04d_645d86470c16row2_col5 {\n",
       "            background-color:  yellow;\n",
       "        }    #T_fa3ce846_deca_11e9_b04d_645d86470c16row3_col1 {\n",
       "            background-color:  yellow;\n",
       "        }    #T_fa3ce846_deca_11e9_b04d_645d86470c16row3_col3 {\n",
       "            background-color:  yellow;\n",
       "        }    #T_fa3ce846_deca_11e9_b04d_645d86470c16row3_col5 {\n",
       "            background-color:  yellow;\n",
       "        }    #T_fa3ce846_deca_11e9_b04d_645d86470c16row4_col0 {\n",
       "            background-color:  yellow;\n",
       "        }    #T_fa3ce846_deca_11e9_b04d_645d86470c16row4_col2 {\n",
       "            background-color:  yellow;\n",
       "        }    #T_fa3ce846_deca_11e9_b04d_645d86470c16row4_col3 {\n",
       "            background-color:  yellow;\n",
       "        }    #T_fa3ce846_deca_11e9_b04d_645d86470c16row4_col4 {\n",
       "            background-color:  yellow;\n",
       "        }    #T_fa3ce846_deca_11e9_b04d_645d86470c16row4_col7 {\n",
       "            background-color:  yellow;\n",
       "        }    #T_fa3ce846_deca_11e9_b04d_645d86470c16row6_col6 {\n",
       "            background-color:  yellow;\n",
       "        }</style><table id=\"T_fa3ce846_deca_11e9_b04d_645d86470c16\" ><thead>    <tr>        <th class=\"blank level0\" ></th>        <th class=\"col_heading level0 col0\" >H</th>        <th class=\"col_heading level0 col1\" >C</th>        <th class=\"col_heading level0 col2\" >V</th>        <th class=\"col_heading level0 col3\" >ARI</th>        <th class=\"col_heading level0 col4\" >AMI</th>        <th class=\"col_heading level0 col5\" >FMI</th>        <th class=\"col_heading level0 col6\" >Q</th>        <th class=\"col_heading level0 col7\" >std</th>    </tr></thead><tbody>\n",
       "                <tr>\n",
       "                        <th id=\"T_fa3ce846_deca_11e9_b04d_645d86470c16level0_row0\" class=\"row_heading level0 row0\" >0E+00</th>\n",
       "                        <td id=\"T_fa3ce846_deca_11e9_b04d_645d86470c16row0_col0\" class=\"data row0 col0\" >0</td>\n",
       "                        <td id=\"T_fa3ce846_deca_11e9_b04d_645d86470c16row0_col1\" class=\"data row0 col1\" >0.49</td>\n",
       "                        <td id=\"T_fa3ce846_deca_11e9_b04d_645d86470c16row0_col2\" class=\"data row0 col2\" >0</td>\n",
       "                        <td id=\"T_fa3ce846_deca_11e9_b04d_645d86470c16row0_col3\" class=\"data row0 col3\" >0</td>\n",
       "                        <td id=\"T_fa3ce846_deca_11e9_b04d_645d86470c16row0_col4\" class=\"data row0 col4\" >0</td>\n",
       "                        <td id=\"T_fa3ce846_deca_11e9_b04d_645d86470c16row0_col5\" class=\"data row0 col5\" >0.39</td>\n",
       "                        <td id=\"T_fa3ce846_deca_11e9_b04d_645d86470c16row0_col6\" class=\"data row0 col6\" >0</td>\n",
       "                        <td id=\"T_fa3ce846_deca_11e9_b04d_645d86470c16row0_col7\" class=\"data row0 col7\" >0</td>\n",
       "            </tr>\n",
       "            <tr>\n",
       "                        <th id=\"T_fa3ce846_deca_11e9_b04d_645d86470c16level0_row1\" class=\"row_heading level0 row1\" >1E-04</th>\n",
       "                        <td id=\"T_fa3ce846_deca_11e9_b04d_645d86470c16row1_col0\" class=\"data row1 col0\" >0</td>\n",
       "                        <td id=\"T_fa3ce846_deca_11e9_b04d_645d86470c16row1_col1\" class=\"data row1 col1\" >0.49</td>\n",
       "                        <td id=\"T_fa3ce846_deca_11e9_b04d_645d86470c16row1_col2\" class=\"data row1 col2\" >0</td>\n",
       "                        <td id=\"T_fa3ce846_deca_11e9_b04d_645d86470c16row1_col3\" class=\"data row1 col3\" >0</td>\n",
       "                        <td id=\"T_fa3ce846_deca_11e9_b04d_645d86470c16row1_col4\" class=\"data row1 col4\" >0</td>\n",
       "                        <td id=\"T_fa3ce846_deca_11e9_b04d_645d86470c16row1_col5\" class=\"data row1 col5\" >0.39</td>\n",
       "                        <td id=\"T_fa3ce846_deca_11e9_b04d_645d86470c16row1_col6\" class=\"data row1 col6\" >0</td>\n",
       "                        <td id=\"T_fa3ce846_deca_11e9_b04d_645d86470c16row1_col7\" class=\"data row1 col7\" >0</td>\n",
       "            </tr>\n",
       "            <tr>\n",
       "                        <th id=\"T_fa3ce846_deca_11e9_b04d_645d86470c16level0_row2\" class=\"row_heading level0 row2\" >1E-03</th>\n",
       "                        <td id=\"T_fa3ce846_deca_11e9_b04d_645d86470c16row2_col0\" class=\"data row2 col0\" >0</td>\n",
       "                        <td id=\"T_fa3ce846_deca_11e9_b04d_645d86470c16row2_col1\" class=\"data row2 col1\" >0.49</td>\n",
       "                        <td id=\"T_fa3ce846_deca_11e9_b04d_645d86470c16row2_col2\" class=\"data row2 col2\" >0</td>\n",
       "                        <td id=\"T_fa3ce846_deca_11e9_b04d_645d86470c16row2_col3\" class=\"data row2 col3\" >0</td>\n",
       "                        <td id=\"T_fa3ce846_deca_11e9_b04d_645d86470c16row2_col4\" class=\"data row2 col4\" >0</td>\n",
       "                        <td id=\"T_fa3ce846_deca_11e9_b04d_645d86470c16row2_col5\" class=\"data row2 col5\" >0.39</td>\n",
       "                        <td id=\"T_fa3ce846_deca_11e9_b04d_645d86470c16row2_col6\" class=\"data row2 col6\" >0</td>\n",
       "                        <td id=\"T_fa3ce846_deca_11e9_b04d_645d86470c16row2_col7\" class=\"data row2 col7\" >0</td>\n",
       "            </tr>\n",
       "            <tr>\n",
       "                        <th id=\"T_fa3ce846_deca_11e9_b04d_645d86470c16level0_row3\" class=\"row_heading level0 row3\" >1E-02</th>\n",
       "                        <td id=\"T_fa3ce846_deca_11e9_b04d_645d86470c16row3_col0\" class=\"data row3 col0\" >0</td>\n",
       "                        <td id=\"T_fa3ce846_deca_11e9_b04d_645d86470c16row3_col1\" class=\"data row3 col1\" >0.49</td>\n",
       "                        <td id=\"T_fa3ce846_deca_11e9_b04d_645d86470c16row3_col2\" class=\"data row3 col2\" >0</td>\n",
       "                        <td id=\"T_fa3ce846_deca_11e9_b04d_645d86470c16row3_col3\" class=\"data row3 col3\" >0</td>\n",
       "                        <td id=\"T_fa3ce846_deca_11e9_b04d_645d86470c16row3_col4\" class=\"data row3 col4\" >0</td>\n",
       "                        <td id=\"T_fa3ce846_deca_11e9_b04d_645d86470c16row3_col5\" class=\"data row3 col5\" >0.39</td>\n",
       "                        <td id=\"T_fa3ce846_deca_11e9_b04d_645d86470c16row3_col6\" class=\"data row3 col6\" >0</td>\n",
       "                        <td id=\"T_fa3ce846_deca_11e9_b04d_645d86470c16row3_col7\" class=\"data row3 col7\" >0</td>\n",
       "            </tr>\n",
       "            <tr>\n",
       "                        <th id=\"T_fa3ce846_deca_11e9_b04d_645d86470c16level0_row4\" class=\"row_heading level0 row4\" >1E-01</th>\n",
       "                        <td id=\"T_fa3ce846_deca_11e9_b04d_645d86470c16row4_col0\" class=\"data row4 col0\" >0.07</td>\n",
       "                        <td id=\"T_fa3ce846_deca_11e9_b04d_645d86470c16row4_col1\" class=\"data row4 col1\" >0.42</td>\n",
       "                        <td id=\"T_fa3ce846_deca_11e9_b04d_645d86470c16row4_col2\" class=\"data row4 col2\" >0.13</td>\n",
       "                        <td id=\"T_fa3ce846_deca_11e9_b04d_645d86470c16row4_col3\" class=\"data row4 col3\" >0</td>\n",
       "                        <td id=\"T_fa3ce846_deca_11e9_b04d_645d86470c16row4_col4\" class=\"data row4 col4\" >0.12</td>\n",
       "                        <td id=\"T_fa3ce846_deca_11e9_b04d_645d86470c16row4_col5\" class=\"data row4 col5\" >0.34</td>\n",
       "                        <td id=\"T_fa3ce846_deca_11e9_b04d_645d86470c16row4_col6\" class=\"data row4 col6\" >0.09</td>\n",
       "                        <td id=\"T_fa3ce846_deca_11e9_b04d_645d86470c16row4_col7\" class=\"data row4 col7\" >0.26</td>\n",
       "            </tr>\n",
       "            <tr>\n",
       "                        <th id=\"T_fa3ce846_deca_11e9_b04d_645d86470c16level0_row5\" class=\"row_heading level0 row5\" >1E+00</th>\n",
       "                        <td id=\"T_fa3ce846_deca_11e9_b04d_645d86470c16row5_col0\" class=\"data row5 col0\" >0.03</td>\n",
       "                        <td id=\"T_fa3ce846_deca_11e9_b04d_645d86470c16row5_col1\" class=\"data row5 col1\" >0.27</td>\n",
       "                        <td id=\"T_fa3ce846_deca_11e9_b04d_645d86470c16row5_col2\" class=\"data row5 col2\" >0.05</td>\n",
       "                        <td id=\"T_fa3ce846_deca_11e9_b04d_645d86470c16row5_col3\" class=\"data row5 col3\" >-0.01</td>\n",
       "                        <td id=\"T_fa3ce846_deca_11e9_b04d_645d86470c16row5_col4\" class=\"data row5 col4\" >0.05</td>\n",
       "                        <td id=\"T_fa3ce846_deca_11e9_b04d_645d86470c16row5_col5\" class=\"data row5 col5\" >0.35</td>\n",
       "                        <td id=\"T_fa3ce846_deca_11e9_b04d_645d86470c16row5_col6\" class=\"data row5 col6\" >0.09</td>\n",
       "                        <td id=\"T_fa3ce846_deca_11e9_b04d_645d86470c16row5_col7\" class=\"data row5 col7\" >0.13</td>\n",
       "            </tr>\n",
       "            <tr>\n",
       "                        <th id=\"T_fa3ce846_deca_11e9_b04d_645d86470c16level0_row6\" class=\"row_heading level0 row6\" >1E+01</th>\n",
       "                        <td id=\"T_fa3ce846_deca_11e9_b04d_645d86470c16row6_col0\" class=\"data row6 col0\" >0.02</td>\n",
       "                        <td id=\"T_fa3ce846_deca_11e9_b04d_645d86470c16row6_col1\" class=\"data row6 col1\" >0.16</td>\n",
       "                        <td id=\"T_fa3ce846_deca_11e9_b04d_645d86470c16row6_col2\" class=\"data row6 col2\" >0.04</td>\n",
       "                        <td id=\"T_fa3ce846_deca_11e9_b04d_645d86470c16row6_col3\" class=\"data row6 col3\" >-0.02</td>\n",
       "                        <td id=\"T_fa3ce846_deca_11e9_b04d_645d86470c16row6_col4\" class=\"data row6 col4\" >0.03</td>\n",
       "                        <td id=\"T_fa3ce846_deca_11e9_b04d_645d86470c16row6_col5\" class=\"data row6 col5\" >0.34</td>\n",
       "                        <td id=\"T_fa3ce846_deca_11e9_b04d_645d86470c16row6_col6\" class=\"data row6 col6\" >0.1</td>\n",
       "                        <td id=\"T_fa3ce846_deca_11e9_b04d_645d86470c16row6_col7\" class=\"data row6 col7\" >0.16</td>\n",
       "            </tr>\n",
       "    </tbody></table>"
      ],
      "text/plain": [
       "<pandas.io.formats.style.Styler at 0x7f45394c8240>"
      ]
     },
     "execution_count": 46,
     "metadata": {},
     "output_type": "execute_result"
    }
   ],
   "source": [
    "wk_df = display_results(wk_results[wikipedia_all_k[0]])\n",
    "highlight_df(wk_df)"
   ]
  },
  {
   "cell_type": "code",
   "execution_count": 47,
   "metadata": {},
   "outputs": [],
   "source": [
    "wk_df.to_latex('results/wikipedia_k_2.tab', column_format='l|cccccccc')"
   ]
  },
  {
   "cell_type": "code",
   "execution_count": 48,
   "metadata": {},
   "outputs": [
    {
     "data": {
      "text/html": [
       "<style  type=\"text/css\" >\n",
       "    #T_fa41aaca_deca_11e9_b04d_645d86470c16row0_col1 {\n",
       "            background-color:  yellow;\n",
       "        }    #T_fa41aaca_deca_11e9_b04d_645d86470c16row0_col2 {\n",
       "            background-color:  yellow;\n",
       "        }    #T_fa41aaca_deca_11e9_b04d_645d86470c16row0_col4 {\n",
       "            background-color:  yellow;\n",
       "        }    #T_fa41aaca_deca_11e9_b04d_645d86470c16row0_col5 {\n",
       "            background-color:  yellow;\n",
       "        }    #T_fa41aaca_deca_11e9_b04d_645d86470c16row1_col2 {\n",
       "            background-color:  yellow;\n",
       "        }    #T_fa41aaca_deca_11e9_b04d_645d86470c16row1_col4 {\n",
       "            background-color:  yellow;\n",
       "        }    #T_fa41aaca_deca_11e9_b04d_645d86470c16row1_col5 {\n",
       "            background-color:  yellow;\n",
       "        }    #T_fa41aaca_deca_11e9_b04d_645d86470c16row2_col0 {\n",
       "            background-color:  yellow;\n",
       "        }    #T_fa41aaca_deca_11e9_b04d_645d86470c16row2_col3 {\n",
       "            background-color:  yellow;\n",
       "        }    #T_fa41aaca_deca_11e9_b04d_645d86470c16row3_col0 {\n",
       "            background-color:  yellow;\n",
       "        }    #T_fa41aaca_deca_11e9_b04d_645d86470c16row3_col3 {\n",
       "            background-color:  yellow;\n",
       "        }    #T_fa41aaca_deca_11e9_b04d_645d86470c16row5_col6 {\n",
       "            background-color:  yellow;\n",
       "        }    #T_fa41aaca_deca_11e9_b04d_645d86470c16row5_col7 {\n",
       "            background-color:  yellow;\n",
       "        }</style><table id=\"T_fa41aaca_deca_11e9_b04d_645d86470c16\" ><thead>    <tr>        <th class=\"blank level0\" ></th>        <th class=\"col_heading level0 col0\" >H</th>        <th class=\"col_heading level0 col1\" >C</th>        <th class=\"col_heading level0 col2\" >V</th>        <th class=\"col_heading level0 col3\" >ARI</th>        <th class=\"col_heading level0 col4\" >AMI</th>        <th class=\"col_heading level0 col5\" >FMI</th>        <th class=\"col_heading level0 col6\" >Q</th>        <th class=\"col_heading level0 col7\" >std</th>    </tr></thead><tbody>\n",
       "                <tr>\n",
       "                        <th id=\"T_fa41aaca_deca_11e9_b04d_645d86470c16level0_row0\" class=\"row_heading level0 row0\" >0E+00</th>\n",
       "                        <td id=\"T_fa41aaca_deca_11e9_b04d_645d86470c16row0_col0\" class=\"data row0 col0\" >0.15</td>\n",
       "                        <td id=\"T_fa41aaca_deca_11e9_b04d_645d86470c16row0_col1\" class=\"data row0 col1\" >0.42</td>\n",
       "                        <td id=\"T_fa41aaca_deca_11e9_b04d_645d86470c16row0_col2\" class=\"data row0 col2\" >0.22</td>\n",
       "                        <td id=\"T_fa41aaca_deca_11e9_b04d_645d86470c16row0_col3\" class=\"data row0 col3\" >0.02</td>\n",
       "                        <td id=\"T_fa41aaca_deca_11e9_b04d_645d86470c16row0_col4\" class=\"data row0 col4\" >0.22</td>\n",
       "                        <td id=\"T_fa41aaca_deca_11e9_b04d_645d86470c16row0_col5\" class=\"data row0 col5\" >0.33</td>\n",
       "                        <td id=\"T_fa41aaca_deca_11e9_b04d_645d86470c16row0_col6\" class=\"data row0 col6\" >0.16</td>\n",
       "                        <td id=\"T_fa41aaca_deca_11e9_b04d_645d86470c16row0_col7\" class=\"data row0 col7\" >0.24</td>\n",
       "            </tr>\n",
       "            <tr>\n",
       "                        <th id=\"T_fa41aaca_deca_11e9_b04d_645d86470c16level0_row1\" class=\"row_heading level0 row1\" >1E-04</th>\n",
       "                        <td id=\"T_fa41aaca_deca_11e9_b04d_645d86470c16row1_col0\" class=\"data row1 col0\" >0.15</td>\n",
       "                        <td id=\"T_fa41aaca_deca_11e9_b04d_645d86470c16row1_col1\" class=\"data row1 col1\" >0.41</td>\n",
       "                        <td id=\"T_fa41aaca_deca_11e9_b04d_645d86470c16row1_col2\" class=\"data row1 col2\" >0.22</td>\n",
       "                        <td id=\"T_fa41aaca_deca_11e9_b04d_645d86470c16row1_col3\" class=\"data row1 col3\" >0.02</td>\n",
       "                        <td id=\"T_fa41aaca_deca_11e9_b04d_645d86470c16row1_col4\" class=\"data row1 col4\" >0.22</td>\n",
       "                        <td id=\"T_fa41aaca_deca_11e9_b04d_645d86470c16row1_col5\" class=\"data row1 col5\" >0.33</td>\n",
       "                        <td id=\"T_fa41aaca_deca_11e9_b04d_645d86470c16row1_col6\" class=\"data row1 col6\" >0.16</td>\n",
       "                        <td id=\"T_fa41aaca_deca_11e9_b04d_645d86470c16row1_col7\" class=\"data row1 col7\" >0.24</td>\n",
       "            </tr>\n",
       "            <tr>\n",
       "                        <th id=\"T_fa41aaca_deca_11e9_b04d_645d86470c16level0_row2\" class=\"row_heading level0 row2\" >1E-03</th>\n",
       "                        <td id=\"T_fa41aaca_deca_11e9_b04d_645d86470c16row2_col0\" class=\"data row2 col0\" >0.17</td>\n",
       "                        <td id=\"T_fa41aaca_deca_11e9_b04d_645d86470c16row2_col1\" class=\"data row2 col1\" >0.3</td>\n",
       "                        <td id=\"T_fa41aaca_deca_11e9_b04d_645d86470c16row2_col2\" class=\"data row2 col2\" >0.21</td>\n",
       "                        <td id=\"T_fa41aaca_deca_11e9_b04d_645d86470c16row2_col3\" class=\"data row2 col3\" >0.07</td>\n",
       "                        <td id=\"T_fa41aaca_deca_11e9_b04d_645d86470c16row2_col4\" class=\"data row2 col4\" >0.21</td>\n",
       "                        <td id=\"T_fa41aaca_deca_11e9_b04d_645d86470c16row2_col5\" class=\"data row2 col5\" >0.3</td>\n",
       "                        <td id=\"T_fa41aaca_deca_11e9_b04d_645d86470c16row2_col6\" class=\"data row2 col6\" >0.25</td>\n",
       "                        <td id=\"T_fa41aaca_deca_11e9_b04d_645d86470c16row2_col7\" class=\"data row2 col7\" >0.47</td>\n",
       "            </tr>\n",
       "            <tr>\n",
       "                        <th id=\"T_fa41aaca_deca_11e9_b04d_645d86470c16level0_row3\" class=\"row_heading level0 row3\" >1E-02</th>\n",
       "                        <td id=\"T_fa41aaca_deca_11e9_b04d_645d86470c16row3_col0\" class=\"data row3 col0\" >0.17</td>\n",
       "                        <td id=\"T_fa41aaca_deca_11e9_b04d_645d86470c16row3_col1\" class=\"data row3 col1\" >0.3</td>\n",
       "                        <td id=\"T_fa41aaca_deca_11e9_b04d_645d86470c16row3_col2\" class=\"data row3 col2\" >0.21</td>\n",
       "                        <td id=\"T_fa41aaca_deca_11e9_b04d_645d86470c16row3_col3\" class=\"data row3 col3\" >0.07</td>\n",
       "                        <td id=\"T_fa41aaca_deca_11e9_b04d_645d86470c16row3_col4\" class=\"data row3 col4\" >0.21</td>\n",
       "                        <td id=\"T_fa41aaca_deca_11e9_b04d_645d86470c16row3_col5\" class=\"data row3 col5\" >0.3</td>\n",
       "                        <td id=\"T_fa41aaca_deca_11e9_b04d_645d86470c16row3_col6\" class=\"data row3 col6\" >0.25</td>\n",
       "                        <td id=\"T_fa41aaca_deca_11e9_b04d_645d86470c16row3_col7\" class=\"data row3 col7\" >0.46</td>\n",
       "            </tr>\n",
       "            <tr>\n",
       "                        <th id=\"T_fa41aaca_deca_11e9_b04d_645d86470c16level0_row4\" class=\"row_heading level0 row4\" >1E-01</th>\n",
       "                        <td id=\"T_fa41aaca_deca_11e9_b04d_645d86470c16row4_col0\" class=\"data row4 col0\" >0.16</td>\n",
       "                        <td id=\"T_fa41aaca_deca_11e9_b04d_645d86470c16row4_col1\" class=\"data row4 col1\" >0.3</td>\n",
       "                        <td id=\"T_fa41aaca_deca_11e9_b04d_645d86470c16row4_col2\" class=\"data row4 col2\" >0.21</td>\n",
       "                        <td id=\"T_fa41aaca_deca_11e9_b04d_645d86470c16row4_col3\" class=\"data row4 col3\" >0.03</td>\n",
       "                        <td id=\"T_fa41aaca_deca_11e9_b04d_645d86470c16row4_col4\" class=\"data row4 col4\" >0.2</td>\n",
       "                        <td id=\"T_fa41aaca_deca_11e9_b04d_645d86470c16row4_col5\" class=\"data row4 col5\" >0.28</td>\n",
       "                        <td id=\"T_fa41aaca_deca_11e9_b04d_645d86470c16row4_col6\" class=\"data row4 col6\" >0.23</td>\n",
       "                        <td id=\"T_fa41aaca_deca_11e9_b04d_645d86470c16row4_col7\" class=\"data row4 col7\" >0.41</td>\n",
       "            </tr>\n",
       "            <tr>\n",
       "                        <th id=\"T_fa41aaca_deca_11e9_b04d_645d86470c16level0_row5\" class=\"row_heading level0 row5\" >1E+00</th>\n",
       "                        <td id=\"T_fa41aaca_deca_11e9_b04d_645d86470c16row5_col0\" class=\"data row5 col0\" >0.16</td>\n",
       "                        <td id=\"T_fa41aaca_deca_11e9_b04d_645d86470c16row5_col1\" class=\"data row5 col1\" >0.25</td>\n",
       "                        <td id=\"T_fa41aaca_deca_11e9_b04d_645d86470c16row5_col2\" class=\"data row5 col2\" >0.2</td>\n",
       "                        <td id=\"T_fa41aaca_deca_11e9_b04d_645d86470c16row5_col3\" class=\"data row5 col3\" >0.05</td>\n",
       "                        <td id=\"T_fa41aaca_deca_11e9_b04d_645d86470c16row5_col4\" class=\"data row5 col4\" >0.19</td>\n",
       "                        <td id=\"T_fa41aaca_deca_11e9_b04d_645d86470c16row5_col5\" class=\"data row5 col5\" >0.27</td>\n",
       "                        <td id=\"T_fa41aaca_deca_11e9_b04d_645d86470c16row5_col6\" class=\"data row5 col6\" >0.29</td>\n",
       "                        <td id=\"T_fa41aaca_deca_11e9_b04d_645d86470c16row5_col7\" class=\"data row5 col7\" >0.52</td>\n",
       "            </tr>\n",
       "            <tr>\n",
       "                        <th id=\"T_fa41aaca_deca_11e9_b04d_645d86470c16level0_row6\" class=\"row_heading level0 row6\" >1E+01</th>\n",
       "                        <td id=\"T_fa41aaca_deca_11e9_b04d_645d86470c16row6_col0\" class=\"data row6 col0\" >0.13</td>\n",
       "                        <td id=\"T_fa41aaca_deca_11e9_b04d_645d86470c16row6_col1\" class=\"data row6 col1\" >0.22</td>\n",
       "                        <td id=\"T_fa41aaca_deca_11e9_b04d_645d86470c16row6_col2\" class=\"data row6 col2\" >0.16</td>\n",
       "                        <td id=\"T_fa41aaca_deca_11e9_b04d_645d86470c16row6_col3\" class=\"data row6 col3\" >0.01</td>\n",
       "                        <td id=\"T_fa41aaca_deca_11e9_b04d_645d86470c16row6_col4\" class=\"data row6 col4\" >0.16</td>\n",
       "                        <td id=\"T_fa41aaca_deca_11e9_b04d_645d86470c16row6_col5\" class=\"data row6 col5\" >0.26</td>\n",
       "                        <td id=\"T_fa41aaca_deca_11e9_b04d_645d86470c16row6_col6\" class=\"data row6 col6\" >0.23</td>\n",
       "                        <td id=\"T_fa41aaca_deca_11e9_b04d_645d86470c16row6_col7\" class=\"data row6 col7\" >0.44</td>\n",
       "            </tr>\n",
       "    </tbody></table>"
      ],
      "text/plain": [
       "<pandas.io.formats.style.Styler at 0x7f453949d9e8>"
      ]
     },
     "execution_count": 48,
     "metadata": {},
     "output_type": "execute_result"
    }
   ],
   "source": [
    "wk_df = display_results(wk_results[wikipedia_all_k[1]])\n",
    "highlight_df(wk_df)"
   ]
  },
  {
   "cell_type": "code",
   "execution_count": 49,
   "metadata": {},
   "outputs": [],
   "source": [
    "wk_df.to_latex('results/wikipedia_half_k_true.tab', column_format='l|cccccccc')"
   ]
  },
  {
   "cell_type": "code",
   "execution_count": 50,
   "metadata": {},
   "outputs": [
    {
     "data": {
      "text/html": [
       "<style  type=\"text/css\" >\n",
       "    #T_fa46d342_deca_11e9_b04d_645d86470c16row1_col1 {\n",
       "            background-color:  yellow;\n",
       "        }    #T_fa46d342_deca_11e9_b04d_645d86470c16row1_col5 {\n",
       "            background-color:  yellow;\n",
       "        }    #T_fa46d342_deca_11e9_b04d_645d86470c16row2_col1 {\n",
       "            background-color:  yellow;\n",
       "        }    #T_fa46d342_deca_11e9_b04d_645d86470c16row2_col5 {\n",
       "            background-color:  yellow;\n",
       "        }    #T_fa46d342_deca_11e9_b04d_645d86470c16row4_col0 {\n",
       "            background-color:  yellow;\n",
       "        }    #T_fa46d342_deca_11e9_b04d_645d86470c16row4_col2 {\n",
       "            background-color:  yellow;\n",
       "        }    #T_fa46d342_deca_11e9_b04d_645d86470c16row4_col3 {\n",
       "            background-color:  yellow;\n",
       "        }    #T_fa46d342_deca_11e9_b04d_645d86470c16row4_col4 {\n",
       "            background-color:  yellow;\n",
       "        }    #T_fa46d342_deca_11e9_b04d_645d86470c16row4_col5 {\n",
       "            background-color:  yellow;\n",
       "        }    #T_fa46d342_deca_11e9_b04d_645d86470c16row5_col6 {\n",
       "            background-color:  yellow;\n",
       "        }    #T_fa46d342_deca_11e9_b04d_645d86470c16row5_col7 {\n",
       "            background-color:  yellow;\n",
       "        }</style><table id=\"T_fa46d342_deca_11e9_b04d_645d86470c16\" ><thead>    <tr>        <th class=\"blank level0\" ></th>        <th class=\"col_heading level0 col0\" >H</th>        <th class=\"col_heading level0 col1\" >C</th>        <th class=\"col_heading level0 col2\" >V</th>        <th class=\"col_heading level0 col3\" >ARI</th>        <th class=\"col_heading level0 col4\" >AMI</th>        <th class=\"col_heading level0 col5\" >FMI</th>        <th class=\"col_heading level0 col6\" >Q</th>        <th class=\"col_heading level0 col7\" >std</th>    </tr></thead><tbody>\n",
       "                <tr>\n",
       "                        <th id=\"T_fa46d342_deca_11e9_b04d_645d86470c16level0_row0\" class=\"row_heading level0 row0\" >0E+00</th>\n",
       "                        <td id=\"T_fa46d342_deca_11e9_b04d_645d86470c16row0_col0\" class=\"data row0 col0\" >0.22</td>\n",
       "                        <td id=\"T_fa46d342_deca_11e9_b04d_645d86470c16row0_col1\" class=\"data row0 col1\" >0.29</td>\n",
       "                        <td id=\"T_fa46d342_deca_11e9_b04d_645d86470c16row0_col2\" class=\"data row0 col2\" >0.25</td>\n",
       "                        <td id=\"T_fa46d342_deca_11e9_b04d_645d86470c16row0_col3\" class=\"data row0 col3\" >0.05</td>\n",
       "                        <td id=\"T_fa46d342_deca_11e9_b04d_645d86470c16row0_col4\" class=\"data row0 col4\" >0.25</td>\n",
       "                        <td id=\"T_fa46d342_deca_11e9_b04d_645d86470c16row0_col5\" class=\"data row0 col5\" >0.25</td>\n",
       "                        <td id=\"T_fa46d342_deca_11e9_b04d_645d86470c16row0_col6\" class=\"data row0 col6\" >0.25</td>\n",
       "                        <td id=\"T_fa46d342_deca_11e9_b04d_645d86470c16row0_col7\" class=\"data row0 col7\" >0.49</td>\n",
       "            </tr>\n",
       "            <tr>\n",
       "                        <th id=\"T_fa46d342_deca_11e9_b04d_645d86470c16level0_row1\" class=\"row_heading level0 row1\" >1E-04</th>\n",
       "                        <td id=\"T_fa46d342_deca_11e9_b04d_645d86470c16row1_col0\" class=\"data row1 col0\" >0.23</td>\n",
       "                        <td id=\"T_fa46d342_deca_11e9_b04d_645d86470c16row1_col1\" class=\"data row1 col1\" >0.3</td>\n",
       "                        <td id=\"T_fa46d342_deca_11e9_b04d_645d86470c16row1_col2\" class=\"data row1 col2\" >0.26</td>\n",
       "                        <td id=\"T_fa46d342_deca_11e9_b04d_645d86470c16row1_col3\" class=\"data row1 col3\" >0.05</td>\n",
       "                        <td id=\"T_fa46d342_deca_11e9_b04d_645d86470c16row1_col4\" class=\"data row1 col4\" >0.25</td>\n",
       "                        <td id=\"T_fa46d342_deca_11e9_b04d_645d86470c16row1_col5\" class=\"data row1 col5\" >0.26</td>\n",
       "                        <td id=\"T_fa46d342_deca_11e9_b04d_645d86470c16row1_col6\" class=\"data row1 col6\" >0.25</td>\n",
       "                        <td id=\"T_fa46d342_deca_11e9_b04d_645d86470c16row1_col7\" class=\"data row1 col7\" >0.5</td>\n",
       "            </tr>\n",
       "            <tr>\n",
       "                        <th id=\"T_fa46d342_deca_11e9_b04d_645d86470c16level0_row2\" class=\"row_heading level0 row2\" >1E-03</th>\n",
       "                        <td id=\"T_fa46d342_deca_11e9_b04d_645d86470c16row2_col0\" class=\"data row2 col0\" >0.23</td>\n",
       "                        <td id=\"T_fa46d342_deca_11e9_b04d_645d86470c16row2_col1\" class=\"data row2 col1\" >0.3</td>\n",
       "                        <td id=\"T_fa46d342_deca_11e9_b04d_645d86470c16row2_col2\" class=\"data row2 col2\" >0.26</td>\n",
       "                        <td id=\"T_fa46d342_deca_11e9_b04d_645d86470c16row2_col3\" class=\"data row2 col3\" >0.05</td>\n",
       "                        <td id=\"T_fa46d342_deca_11e9_b04d_645d86470c16row2_col4\" class=\"data row2 col4\" >0.25</td>\n",
       "                        <td id=\"T_fa46d342_deca_11e9_b04d_645d86470c16row2_col5\" class=\"data row2 col5\" >0.26</td>\n",
       "                        <td id=\"T_fa46d342_deca_11e9_b04d_645d86470c16row2_col6\" class=\"data row2 col6\" >0.25</td>\n",
       "                        <td id=\"T_fa46d342_deca_11e9_b04d_645d86470c16row2_col7\" class=\"data row2 col7\" >0.5</td>\n",
       "            </tr>\n",
       "            <tr>\n",
       "                        <th id=\"T_fa46d342_deca_11e9_b04d_645d86470c16level0_row3\" class=\"row_heading level0 row3\" >1E-02</th>\n",
       "                        <td id=\"T_fa46d342_deca_11e9_b04d_645d86470c16row3_col0\" class=\"data row3 col0\" >0.23</td>\n",
       "                        <td id=\"T_fa46d342_deca_11e9_b04d_645d86470c16row3_col1\" class=\"data row3 col1\" >0.29</td>\n",
       "                        <td id=\"T_fa46d342_deca_11e9_b04d_645d86470c16row3_col2\" class=\"data row3 col2\" >0.26</td>\n",
       "                        <td id=\"T_fa46d342_deca_11e9_b04d_645d86470c16row3_col3\" class=\"data row3 col3\" >0.05</td>\n",
       "                        <td id=\"T_fa46d342_deca_11e9_b04d_645d86470c16row3_col4\" class=\"data row3 col4\" >0.25</td>\n",
       "                        <td id=\"T_fa46d342_deca_11e9_b04d_645d86470c16row3_col5\" class=\"data row3 col5\" >0.25</td>\n",
       "                        <td id=\"T_fa46d342_deca_11e9_b04d_645d86470c16row3_col6\" class=\"data row3 col6\" >0.26</td>\n",
       "                        <td id=\"T_fa46d342_deca_11e9_b04d_645d86470c16row3_col7\" class=\"data row3 col7\" >0.51</td>\n",
       "            </tr>\n",
       "            <tr>\n",
       "                        <th id=\"T_fa46d342_deca_11e9_b04d_645d86470c16level0_row4\" class=\"row_heading level0 row4\" >1E-01</th>\n",
       "                        <td id=\"T_fa46d342_deca_11e9_b04d_645d86470c16row4_col0\" class=\"data row4 col0\" >0.26</td>\n",
       "                        <td id=\"T_fa46d342_deca_11e9_b04d_645d86470c16row4_col1\" class=\"data row4 col1\" >0.29</td>\n",
       "                        <td id=\"T_fa46d342_deca_11e9_b04d_645d86470c16row4_col2\" class=\"data row4 col2\" >0.28</td>\n",
       "                        <td id=\"T_fa46d342_deca_11e9_b04d_645d86470c16row4_col3\" class=\"data row4 col3\" >0.1</td>\n",
       "                        <td id=\"T_fa46d342_deca_11e9_b04d_645d86470c16row4_col4\" class=\"data row4 col4\" >0.27</td>\n",
       "                        <td id=\"T_fa46d342_deca_11e9_b04d_645d86470c16row4_col5\" class=\"data row4 col5\" >0.26</td>\n",
       "                        <td id=\"T_fa46d342_deca_11e9_b04d_645d86470c16row4_col6\" class=\"data row4 col6\" >0.29</td>\n",
       "                        <td id=\"T_fa46d342_deca_11e9_b04d_645d86470c16row4_col7\" class=\"data row4 col7\" >0.61</td>\n",
       "            </tr>\n",
       "            <tr>\n",
       "                        <th id=\"T_fa46d342_deca_11e9_b04d_645d86470c16level0_row5\" class=\"row_heading level0 row5\" >1E+00</th>\n",
       "                        <td id=\"T_fa46d342_deca_11e9_b04d_645d86470c16row5_col0\" class=\"data row5 col0\" >0.23</td>\n",
       "                        <td id=\"T_fa46d342_deca_11e9_b04d_645d86470c16row5_col1\" class=\"data row5 col1\" >0.23</td>\n",
       "                        <td id=\"T_fa46d342_deca_11e9_b04d_645d86470c16row5_col2\" class=\"data row5 col2\" >0.23</td>\n",
       "                        <td id=\"T_fa46d342_deca_11e9_b04d_645d86470c16row5_col3\" class=\"data row5 col3\" >0.04</td>\n",
       "                        <td id=\"T_fa46d342_deca_11e9_b04d_645d86470c16row5_col4\" class=\"data row5 col4\" >0.23</td>\n",
       "                        <td id=\"T_fa46d342_deca_11e9_b04d_645d86470c16row5_col5\" class=\"data row5 col5\" >0.2</td>\n",
       "                        <td id=\"T_fa46d342_deca_11e9_b04d_645d86470c16row5_col6\" class=\"data row5 col6\" >0.3</td>\n",
       "                        <td id=\"T_fa46d342_deca_11e9_b04d_645d86470c16row5_col7\" class=\"data row5 col7\" >0.66</td>\n",
       "            </tr>\n",
       "            <tr>\n",
       "                        <th id=\"T_fa46d342_deca_11e9_b04d_645d86470c16level0_row6\" class=\"row_heading level0 row6\" >1E+01</th>\n",
       "                        <td id=\"T_fa46d342_deca_11e9_b04d_645d86470c16row6_col0\" class=\"data row6 col0\" >0.19</td>\n",
       "                        <td id=\"T_fa46d342_deca_11e9_b04d_645d86470c16row6_col1\" class=\"data row6 col1\" >0.22</td>\n",
       "                        <td id=\"T_fa46d342_deca_11e9_b04d_645d86470c16row6_col2\" class=\"data row6 col2\" >0.2</td>\n",
       "                        <td id=\"T_fa46d342_deca_11e9_b04d_645d86470c16row6_col3\" class=\"data row6 col3\" >-0</td>\n",
       "                        <td id=\"T_fa46d342_deca_11e9_b04d_645d86470c16row6_col4\" class=\"data row6 col4\" >0.19</td>\n",
       "                        <td id=\"T_fa46d342_deca_11e9_b04d_645d86470c16row6_col5\" class=\"data row6 col5\" >0.2</td>\n",
       "                        <td id=\"T_fa46d342_deca_11e9_b04d_645d86470c16row6_col6\" class=\"data row6 col6\" >0.23</td>\n",
       "                        <td id=\"T_fa46d342_deca_11e9_b04d_645d86470c16row6_col7\" class=\"data row6 col7\" >0.53</td>\n",
       "            </tr>\n",
       "    </tbody></table>"
      ],
      "text/plain": [
       "<pandas.io.formats.style.Styler at 0x7f453948a128>"
      ]
     },
     "execution_count": 50,
     "metadata": {},
     "output_type": "execute_result"
    }
   ],
   "source": [
    "wk_df = display_results(wk_results[wikipedia_all_k[2]])\n",
    "highlight_df(wk_df)"
   ]
  },
  {
   "cell_type": "code",
   "execution_count": 51,
   "metadata": {},
   "outputs": [],
   "source": [
    "wk_df.to_latex('results/wikipedia_k_true.tab', column_format='l|cccccccc')"
   ]
  },
  {
   "cell_type": "markdown",
   "metadata": {},
   "source": [
    "### Undirected VS Bipartite Regularization"
   ]
  },
  {
   "cell_type": "code",
   "execution_count": 52,
   "metadata": {},
   "outputs": [],
   "source": [
    "u_vs_b = undir_vs_bipartite(newsgroup, newsgroup_truth, newsgroup_all_k, α=1.)"
   ]
  },
  {
   "cell_type": "code",
   "execution_count": 53,
   "metadata": {},
   "outputs": [
    {
     "data": {
      "text/html": [
       "<style  type=\"text/css\" >\n",
       "    #T_16ff0cac_decb_11e9_b04d_645d86470c16row0_col0 {\n",
       "            background-color:  yellow;\n",
       "        }    #T_16ff0cac_decb_11e9_b04d_645d86470c16row0_col1 {\n",
       "            background-color:  yellow;\n",
       "        }    #T_16ff0cac_decb_11e9_b04d_645d86470c16row0_col2 {\n",
       "            background-color:  yellow;\n",
       "        }    #T_16ff0cac_decb_11e9_b04d_645d86470c16row0_col3 {\n",
       "            background-color:  yellow;\n",
       "        }    #T_16ff0cac_decb_11e9_b04d_645d86470c16row0_col4 {\n",
       "            background-color:  yellow;\n",
       "        }    #T_16ff0cac_decb_11e9_b04d_645d86470c16row0_col5 {\n",
       "            background-color:  yellow;\n",
       "        }    #T_16ff0cac_decb_11e9_b04d_645d86470c16row0_col6 {\n",
       "            background-color:  yellow;\n",
       "        }    #T_16ff0cac_decb_11e9_b04d_645d86470c16row0_col7 {\n",
       "            background-color:  yellow;\n",
       "        }    #T_16ff0cac_decb_11e9_b04d_645d86470c16row1_col0 {\n",
       "            background-color:  yellow;\n",
       "        }    #T_16ff0cac_decb_11e9_b04d_645d86470c16row1_col1 {\n",
       "            background-color:  yellow;\n",
       "        }    #T_16ff0cac_decb_11e9_b04d_645d86470c16row1_col2 {\n",
       "            background-color:  yellow;\n",
       "        }    #T_16ff0cac_decb_11e9_b04d_645d86470c16row1_col3 {\n",
       "            background-color:  yellow;\n",
       "        }    #T_16ff0cac_decb_11e9_b04d_645d86470c16row1_col4 {\n",
       "            background-color:  yellow;\n",
       "        }    #T_16ff0cac_decb_11e9_b04d_645d86470c16row1_col6 {\n",
       "            background-color:  yellow;\n",
       "        }</style><table id=\"T_16ff0cac_decb_11e9_b04d_645d86470c16\" ><thead>    <tr>        <th class=\"blank level0\" ></th>        <th class=\"col_heading level0 col0\" >H</th>        <th class=\"col_heading level0 col1\" >C</th>        <th class=\"col_heading level0 col2\" >V</th>        <th class=\"col_heading level0 col3\" >ARI</th>        <th class=\"col_heading level0 col4\" >AMI</th>        <th class=\"col_heading level0 col5\" >FMI</th>        <th class=\"col_heading level0 col6\" >Q</th>        <th class=\"col_heading level0 col7\" >std</th>    </tr></thead><tbody>\n",
       "                <tr>\n",
       "                        <th id=\"T_16ff0cac_decb_11e9_b04d_645d86470c16level0_row0\" class=\"row_heading level0 row0\" >A</th>\n",
       "                        <td id=\"T_16ff0cac_decb_11e9_b04d_645d86470c16row0_col0\" class=\"data row0 col0\" >0.15</td>\n",
       "                        <td id=\"T_16ff0cac_decb_11e9_b04d_645d86470c16row0_col1\" class=\"data row0 col1\" >0.72</td>\n",
       "                        <td id=\"T_16ff0cac_decb_11e9_b04d_645d86470c16row0_col2\" class=\"data row0 col2\" >0.25</td>\n",
       "                        <td id=\"T_16ff0cac_decb_11e9_b04d_645d86470c16row0_col3\" class=\"data row0 col3\" >0.06</td>\n",
       "                        <td id=\"T_16ff0cac_decb_11e9_b04d_645d86470c16row0_col4\" class=\"data row0 col4\" >0.25</td>\n",
       "                        <td id=\"T_16ff0cac_decb_11e9_b04d_645d86470c16row0_col5\" class=\"data row0 col5\" >0.28</td>\n",
       "                        <td id=\"T_16ff0cac_decb_11e9_b04d_645d86470c16row0_col6\" class=\"data row0 col6\" >0.16</td>\n",
       "                        <td id=\"T_16ff0cac_decb_11e9_b04d_645d86470c16row0_col7\" class=\"data row0 col7\" >0.63</td>\n",
       "            </tr>\n",
       "            <tr>\n",
       "                        <th id=\"T_16ff0cac_decb_11e9_b04d_645d86470c16level0_row1\" class=\"row_heading level0 row1\" >B</th>\n",
       "                        <td id=\"T_16ff0cac_decb_11e9_b04d_645d86470c16row1_col0\" class=\"data row1 col0\" >0.15</td>\n",
       "                        <td id=\"T_16ff0cac_decb_11e9_b04d_645d86470c16row1_col1\" class=\"data row1 col1\" >0.72</td>\n",
       "                        <td id=\"T_16ff0cac_decb_11e9_b04d_645d86470c16row1_col2\" class=\"data row1 col2\" >0.25</td>\n",
       "                        <td id=\"T_16ff0cac_decb_11e9_b04d_645d86470c16row1_col3\" class=\"data row1 col3\" >0.06</td>\n",
       "                        <td id=\"T_16ff0cac_decb_11e9_b04d_645d86470c16row1_col4\" class=\"data row1 col4\" >0.25</td>\n",
       "                        <td id=\"T_16ff0cac_decb_11e9_b04d_645d86470c16row1_col5\" class=\"data row1 col5\" >0.27</td>\n",
       "                        <td id=\"T_16ff0cac_decb_11e9_b04d_645d86470c16row1_col6\" class=\"data row1 col6\" >0.16</td>\n",
       "                        <td id=\"T_16ff0cac_decb_11e9_b04d_645d86470c16row1_col7\" class=\"data row1 col7\" >0.62</td>\n",
       "            </tr>\n",
       "    </tbody></table>"
      ],
      "text/plain": [
       "<pandas.io.formats.style.Styler at 0x7f45393e5b00>"
      ]
     },
     "execution_count": 53,
     "metadata": {},
     "output_type": "execute_result"
    }
   ],
   "source": [
    "vs_df = display_results(u_vs_b[newsgroup_all_k[0]])\n",
    "highlight_df(vs_df)"
   ]
  },
  {
   "cell_type": "code",
   "execution_count": 54,
   "metadata": {},
   "outputs": [],
   "source": [
    "vs_df.to_latex('results/uvb_k_2.tab', column_format='l|cccccccc')"
   ]
  },
  {
   "cell_type": "code",
   "execution_count": 55,
   "metadata": {},
   "outputs": [
    {
     "data": {
      "text/html": [
       "<style  type=\"text/css\" >\n",
       "    #T_17036252_decb_11e9_b04d_645d86470c16row0_col1 {\n",
       "            background-color:  yellow;\n",
       "        }    #T_17036252_decb_11e9_b04d_645d86470c16row0_col6 {\n",
       "            background-color:  yellow;\n",
       "        }    #T_17036252_decb_11e9_b04d_645d86470c16row1_col0 {\n",
       "            background-color:  yellow;\n",
       "        }    #T_17036252_decb_11e9_b04d_645d86470c16row1_col1 {\n",
       "            background-color:  yellow;\n",
       "        }    #T_17036252_decb_11e9_b04d_645d86470c16row1_col2 {\n",
       "            background-color:  yellow;\n",
       "        }    #T_17036252_decb_11e9_b04d_645d86470c16row1_col3 {\n",
       "            background-color:  yellow;\n",
       "        }    #T_17036252_decb_11e9_b04d_645d86470c16row1_col4 {\n",
       "            background-color:  yellow;\n",
       "        }    #T_17036252_decb_11e9_b04d_645d86470c16row1_col5 {\n",
       "            background-color:  yellow;\n",
       "        }    #T_17036252_decb_11e9_b04d_645d86470c16row1_col6 {\n",
       "            background-color:  yellow;\n",
       "        }    #T_17036252_decb_11e9_b04d_645d86470c16row1_col7 {\n",
       "            background-color:  yellow;\n",
       "        }</style><table id=\"T_17036252_decb_11e9_b04d_645d86470c16\" ><thead>    <tr>        <th class=\"blank level0\" ></th>        <th class=\"col_heading level0 col0\" >H</th>        <th class=\"col_heading level0 col1\" >C</th>        <th class=\"col_heading level0 col2\" >V</th>        <th class=\"col_heading level0 col3\" >ARI</th>        <th class=\"col_heading level0 col4\" >AMI</th>        <th class=\"col_heading level0 col5\" >FMI</th>        <th class=\"col_heading level0 col6\" >Q</th>        <th class=\"col_heading level0 col7\" >std</th>    </tr></thead><tbody>\n",
       "                <tr>\n",
       "                        <th id=\"T_17036252_decb_11e9_b04d_645d86470c16level0_row0\" class=\"row_heading level0 row0\" >A</th>\n",
       "                        <td id=\"T_17036252_decb_11e9_b04d_645d86470c16row0_col0\" class=\"data row0 col0\" >0.38</td>\n",
       "                        <td id=\"T_17036252_decb_11e9_b04d_645d86470c16row0_col1\" class=\"data row0 col1\" >0.72</td>\n",
       "                        <td id=\"T_17036252_decb_11e9_b04d_645d86470c16row0_col2\" class=\"data row0 col2\" >0.5</td>\n",
       "                        <td id=\"T_17036252_decb_11e9_b04d_645d86470c16row0_col3\" class=\"data row0 col3\" >0.18</td>\n",
       "                        <td id=\"T_17036252_decb_11e9_b04d_645d86470c16row0_col4\" class=\"data row0 col4\" >0.5</td>\n",
       "                        <td id=\"T_17036252_decb_11e9_b04d_645d86470c16row0_col5\" class=\"data row0 col5\" >0.34</td>\n",
       "                        <td id=\"T_17036252_decb_11e9_b04d_645d86470c16row0_col6\" class=\"data row0 col6\" >0.21</td>\n",
       "                        <td id=\"T_17036252_decb_11e9_b04d_645d86470c16row0_col7\" class=\"data row0 col7\" >0.57</td>\n",
       "            </tr>\n",
       "            <tr>\n",
       "                        <th id=\"T_17036252_decb_11e9_b04d_645d86470c16level0_row1\" class=\"row_heading level0 row1\" >B</th>\n",
       "                        <td id=\"T_17036252_decb_11e9_b04d_645d86470c16row1_col0\" class=\"data row1 col0\" >0.41</td>\n",
       "                        <td id=\"T_17036252_decb_11e9_b04d_645d86470c16row1_col1\" class=\"data row1 col1\" >0.72</td>\n",
       "                        <td id=\"T_17036252_decb_11e9_b04d_645d86470c16row1_col2\" class=\"data row1 col2\" >0.52</td>\n",
       "                        <td id=\"T_17036252_decb_11e9_b04d_645d86470c16row1_col3\" class=\"data row1 col3\" >0.19</td>\n",
       "                        <td id=\"T_17036252_decb_11e9_b04d_645d86470c16row1_col4\" class=\"data row1 col4\" >0.52</td>\n",
       "                        <td id=\"T_17036252_decb_11e9_b04d_645d86470c16row1_col5\" class=\"data row1 col5\" >0.35</td>\n",
       "                        <td id=\"T_17036252_decb_11e9_b04d_645d86470c16row1_col6\" class=\"data row1 col6\" >0.21</td>\n",
       "                        <td id=\"T_17036252_decb_11e9_b04d_645d86470c16row1_col7\" class=\"data row1 col7\" >0.61</td>\n",
       "            </tr>\n",
       "    </tbody></table>"
      ],
      "text/plain": [
       "<pandas.io.formats.style.Styler at 0x7f45393e5668>"
      ]
     },
     "execution_count": 55,
     "metadata": {},
     "output_type": "execute_result"
    }
   ],
   "source": [
    "vs_df = display_results(u_vs_b[newsgroup_all_k[1]])\n",
    "highlight_df(vs_df)"
   ]
  },
  {
   "cell_type": "code",
   "execution_count": 56,
   "metadata": {},
   "outputs": [],
   "source": [
    "vs_df.to_latex('results/uvb_half_k_true.tab', column_format='l|cccccccc')"
   ]
  },
  {
   "cell_type": "code",
   "execution_count": 57,
   "metadata": {},
   "outputs": [
    {
     "data": {
      "text/html": [
       "<style  type=\"text/css\" >\n",
       "    #T_17084c0e_decb_11e9_b04d_645d86470c16row0_col0 {\n",
       "            background-color:  yellow;\n",
       "        }    #T_17084c0e_decb_11e9_b04d_645d86470c16row0_col3 {\n",
       "            background-color:  yellow;\n",
       "        }    #T_17084c0e_decb_11e9_b04d_645d86470c16row0_col5 {\n",
       "            background-color:  yellow;\n",
       "        }    #T_17084c0e_decb_11e9_b04d_645d86470c16row0_col6 {\n",
       "            background-color:  yellow;\n",
       "        }    #T_17084c0e_decb_11e9_b04d_645d86470c16row0_col7 {\n",
       "            background-color:  yellow;\n",
       "        }    #T_17084c0e_decb_11e9_b04d_645d86470c16row1_col0 {\n",
       "            background-color:  yellow;\n",
       "        }    #T_17084c0e_decb_11e9_b04d_645d86470c16row1_col1 {\n",
       "            background-color:  yellow;\n",
       "        }    #T_17084c0e_decb_11e9_b04d_645d86470c16row1_col2 {\n",
       "            background-color:  yellow;\n",
       "        }    #T_17084c0e_decb_11e9_b04d_645d86470c16row1_col4 {\n",
       "            background-color:  yellow;\n",
       "        }</style><table id=\"T_17084c0e_decb_11e9_b04d_645d86470c16\" ><thead>    <tr>        <th class=\"blank level0\" ></th>        <th class=\"col_heading level0 col0\" >H</th>        <th class=\"col_heading level0 col1\" >C</th>        <th class=\"col_heading level0 col2\" >V</th>        <th class=\"col_heading level0 col3\" >ARI</th>        <th class=\"col_heading level0 col4\" >AMI</th>        <th class=\"col_heading level0 col5\" >FMI</th>        <th class=\"col_heading level0 col6\" >Q</th>        <th class=\"col_heading level0 col7\" >std</th>    </tr></thead><tbody>\n",
       "                <tr>\n",
       "                        <th id=\"T_17084c0e_decb_11e9_b04d_645d86470c16level0_row0\" class=\"row_heading level0 row0\" >A</th>\n",
       "                        <td id=\"T_17084c0e_decb_11e9_b04d_645d86470c16row0_col0\" class=\"data row0 col0\" >0.49</td>\n",
       "                        <td id=\"T_17084c0e_decb_11e9_b04d_645d86470c16row0_col1\" class=\"data row0 col1\" >0.67</td>\n",
       "                        <td id=\"T_17084c0e_decb_11e9_b04d_645d86470c16row0_col2\" class=\"data row0 col2\" >0.56</td>\n",
       "                        <td id=\"T_17084c0e_decb_11e9_b04d_645d86470c16row0_col3\" class=\"data row0 col3\" >0.25</td>\n",
       "                        <td id=\"T_17084c0e_decb_11e9_b04d_645d86470c16row0_col4\" class=\"data row0 col4\" >0.56</td>\n",
       "                        <td id=\"T_17084c0e_decb_11e9_b04d_645d86470c16row0_col5\" class=\"data row0 col5\" >0.36</td>\n",
       "                        <td id=\"T_17084c0e_decb_11e9_b04d_645d86470c16row0_col6\" class=\"data row0 col6\" >0.21</td>\n",
       "                        <td id=\"T_17084c0e_decb_11e9_b04d_645d86470c16row0_col7\" class=\"data row0 col7\" >0.66</td>\n",
       "            </tr>\n",
       "            <tr>\n",
       "                        <th id=\"T_17084c0e_decb_11e9_b04d_645d86470c16level0_row1\" class=\"row_heading level0 row1\" >B</th>\n",
       "                        <td id=\"T_17084c0e_decb_11e9_b04d_645d86470c16row1_col0\" class=\"data row1 col0\" >0.49</td>\n",
       "                        <td id=\"T_17084c0e_decb_11e9_b04d_645d86470c16row1_col1\" class=\"data row1 col1\" >0.68</td>\n",
       "                        <td id=\"T_17084c0e_decb_11e9_b04d_645d86470c16row1_col2\" class=\"data row1 col2\" >0.57</td>\n",
       "                        <td id=\"T_17084c0e_decb_11e9_b04d_645d86470c16row1_col3\" class=\"data row1 col3\" >0.22</td>\n",
       "                        <td id=\"T_17084c0e_decb_11e9_b04d_645d86470c16row1_col4\" class=\"data row1 col4\" >0.57</td>\n",
       "                        <td id=\"T_17084c0e_decb_11e9_b04d_645d86470c16row1_col5\" class=\"data row1 col5\" >0.34</td>\n",
       "                        <td id=\"T_17084c0e_decb_11e9_b04d_645d86470c16row1_col6\" class=\"data row1 col6\" >0.2</td>\n",
       "                        <td id=\"T_17084c0e_decb_11e9_b04d_645d86470c16row1_col7\" class=\"data row1 col7\" >0.62</td>\n",
       "            </tr>\n",
       "    </tbody></table>"
      ],
      "text/plain": [
       "<pandas.io.formats.style.Styler at 0x7f45393e57f0>"
      ]
     },
     "execution_count": 57,
     "metadata": {},
     "output_type": "execute_result"
    }
   ],
   "source": [
    "vs_df = display_results(u_vs_b[newsgroup_all_k[2]])\n",
    "highlight_df(vs_df)"
   ]
  },
  {
   "cell_type": "code",
   "execution_count": 58,
   "metadata": {},
   "outputs": [],
   "source": [
    "vs_df.to_latex('results/uvb_k_true.tab', column_format='l|cccccccc')"
   ]
  },
  {
   "cell_type": "markdown",
   "metadata": {},
   "source": [
    "### Experimenting with noise"
   ]
  },
  {
   "cell_type": "markdown",
   "metadata": {},
   "source": [
    "Baseline without regularization."
   ]
  },
  {
   "cell_type": "code",
   "execution_count": 63,
   "metadata": {},
   "outputs": [],
   "source": [
    "wk_noise_bsl = test_noise(spectral, wikipedia, wikipedia_truth, wikipedia_K_true, α=0.)"
   ]
  },
  {
   "cell_type": "code",
   "execution_count": 70,
   "metadata": {},
   "outputs": [
    {
     "data": {
      "text/html": [
       "<style  type=\"text/css\" >\n",
       "    #T_c317f634_decb_11e9_b04d_645d86470c16row0_col0 {\n",
       "            background-color:  yellow;\n",
       "        }    #T_c317f634_decb_11e9_b04d_645d86470c16row0_col2 {\n",
       "            background-color:  yellow;\n",
       "        }    #T_c317f634_decb_11e9_b04d_645d86470c16row0_col3 {\n",
       "            background-color:  yellow;\n",
       "        }    #T_c317f634_decb_11e9_b04d_645d86470c16row0_col4 {\n",
       "            background-color:  yellow;\n",
       "        }    #T_c317f634_decb_11e9_b04d_645d86470c16row0_col6 {\n",
       "            background-color:  yellow;\n",
       "        }    #T_c317f634_decb_11e9_b04d_645d86470c16row0_col7 {\n",
       "            background-color:  yellow;\n",
       "        }    #T_c317f634_decb_11e9_b04d_645d86470c16row1_col1 {\n",
       "            background-color:  yellow;\n",
       "        }    #T_c317f634_decb_11e9_b04d_645d86470c16row1_col5 {\n",
       "            background-color:  yellow;\n",
       "        }    #T_c317f634_decb_11e9_b04d_645d86470c16row2_col1 {\n",
       "            background-color:  yellow;\n",
       "        }    #T_c317f634_decb_11e9_b04d_645d86470c16row2_col5 {\n",
       "            background-color:  yellow;\n",
       "        }    #T_c317f634_decb_11e9_b04d_645d86470c16row3_col1 {\n",
       "            background-color:  yellow;\n",
       "        }    #T_c317f634_decb_11e9_b04d_645d86470c16row3_col5 {\n",
       "            background-color:  yellow;\n",
       "        }</style><table id=\"T_c317f634_decb_11e9_b04d_645d86470c16\" ><thead>    <tr>        <th class=\"blank level0\" ></th>        <th class=\"col_heading level0 col0\" >H</th>        <th class=\"col_heading level0 col1\" >C</th>        <th class=\"col_heading level0 col2\" >V</th>        <th class=\"col_heading level0 col3\" >ARI</th>        <th class=\"col_heading level0 col4\" >AMI</th>        <th class=\"col_heading level0 col5\" >FMI</th>        <th class=\"col_heading level0 col6\" >Q</th>        <th class=\"col_heading level0 col7\" >std</th>    </tr></thead><tbody>\n",
       "                <tr>\n",
       "                        <th id=\"T_c317f634_decb_11e9_b04d_645d86470c16level0_row0\" class=\"row_heading level0 row0\" >0.0</th>\n",
       "                        <td id=\"T_c317f634_decb_11e9_b04d_645d86470c16row0_col0\" class=\"data row0 col0\" >0.23</td>\n",
       "                        <td id=\"T_c317f634_decb_11e9_b04d_645d86470c16row0_col1\" class=\"data row0 col1\" >0.3</td>\n",
       "                        <td id=\"T_c317f634_decb_11e9_b04d_645d86470c16row0_col2\" class=\"data row0 col2\" >0.26</td>\n",
       "                        <td id=\"T_c317f634_decb_11e9_b04d_645d86470c16row0_col3\" class=\"data row0 col3\" >0.05</td>\n",
       "                        <td id=\"T_c317f634_decb_11e9_b04d_645d86470c16row0_col4\" class=\"data row0 col4\" >0.25</td>\n",
       "                        <td id=\"T_c317f634_decb_11e9_b04d_645d86470c16row0_col5\" class=\"data row0 col5\" >0.26</td>\n",
       "                        <td id=\"T_c317f634_decb_11e9_b04d_645d86470c16row0_col6\" class=\"data row0 col6\" >0.25</td>\n",
       "                        <td id=\"T_c317f634_decb_11e9_b04d_645d86470c16row0_col7\" class=\"data row0 col7\" >0.49</td>\n",
       "            </tr>\n",
       "            <tr>\n",
       "                        <th id=\"T_c317f634_decb_11e9_b04d_645d86470c16level0_row1\" class=\"row_heading level0 row1\" >0.01</th>\n",
       "                        <td id=\"T_c317f634_decb_11e9_b04d_645d86470c16row1_col0\" class=\"data row1 col0\" >0</td>\n",
       "                        <td id=\"T_c317f634_decb_11e9_b04d_645d86470c16row1_col1\" class=\"data row1 col1\" >0.49</td>\n",
       "                        <td id=\"T_c317f634_decb_11e9_b04d_645d86470c16row1_col2\" class=\"data row1 col2\" >0</td>\n",
       "                        <td id=\"T_c317f634_decb_11e9_b04d_645d86470c16row1_col3\" class=\"data row1 col3\" >0</td>\n",
       "                        <td id=\"T_c317f634_decb_11e9_b04d_645d86470c16row1_col4\" class=\"data row1 col4\" >0</td>\n",
       "                        <td id=\"T_c317f634_decb_11e9_b04d_645d86470c16row1_col5\" class=\"data row1 col5\" >0.39</td>\n",
       "                        <td id=\"T_c317f634_decb_11e9_b04d_645d86470c16row1_col6\" class=\"data row1 col6\" >0</td>\n",
       "                        <td id=\"T_c317f634_decb_11e9_b04d_645d86470c16row1_col7\" class=\"data row1 col7\" >0</td>\n",
       "            </tr>\n",
       "            <tr>\n",
       "                        <th id=\"T_c317f634_decb_11e9_b04d_645d86470c16level0_row2\" class=\"row_heading level0 row2\" >0.05</th>\n",
       "                        <td id=\"T_c317f634_decb_11e9_b04d_645d86470c16row2_col0\" class=\"data row2 col0\" >0</td>\n",
       "                        <td id=\"T_c317f634_decb_11e9_b04d_645d86470c16row2_col1\" class=\"data row2 col1\" >0.49</td>\n",
       "                        <td id=\"T_c317f634_decb_11e9_b04d_645d86470c16row2_col2\" class=\"data row2 col2\" >0</td>\n",
       "                        <td id=\"T_c317f634_decb_11e9_b04d_645d86470c16row2_col3\" class=\"data row2 col3\" >0</td>\n",
       "                        <td id=\"T_c317f634_decb_11e9_b04d_645d86470c16row2_col4\" class=\"data row2 col4\" >0</td>\n",
       "                        <td id=\"T_c317f634_decb_11e9_b04d_645d86470c16row2_col5\" class=\"data row2 col5\" >0.39</td>\n",
       "                        <td id=\"T_c317f634_decb_11e9_b04d_645d86470c16row2_col6\" class=\"data row2 col6\" >0</td>\n",
       "                        <td id=\"T_c317f634_decb_11e9_b04d_645d86470c16row2_col7\" class=\"data row2 col7\" >0</td>\n",
       "            </tr>\n",
       "            <tr>\n",
       "                        <th id=\"T_c317f634_decb_11e9_b04d_645d86470c16level0_row3\" class=\"row_heading level0 row3\" >0.1</th>\n",
       "                        <td id=\"T_c317f634_decb_11e9_b04d_645d86470c16row3_col0\" class=\"data row3 col0\" >0</td>\n",
       "                        <td id=\"T_c317f634_decb_11e9_b04d_645d86470c16row3_col1\" class=\"data row3 col1\" >0.49</td>\n",
       "                        <td id=\"T_c317f634_decb_11e9_b04d_645d86470c16row3_col2\" class=\"data row3 col2\" >0</td>\n",
       "                        <td id=\"T_c317f634_decb_11e9_b04d_645d86470c16row3_col3\" class=\"data row3 col3\" >0</td>\n",
       "                        <td id=\"T_c317f634_decb_11e9_b04d_645d86470c16row3_col4\" class=\"data row3 col4\" >0</td>\n",
       "                        <td id=\"T_c317f634_decb_11e9_b04d_645d86470c16row3_col5\" class=\"data row3 col5\" >0.39</td>\n",
       "                        <td id=\"T_c317f634_decb_11e9_b04d_645d86470c16row3_col6\" class=\"data row3 col6\" >0</td>\n",
       "                        <td id=\"T_c317f634_decb_11e9_b04d_645d86470c16row3_col7\" class=\"data row3 col7\" >0</td>\n",
       "            </tr>\n",
       "    </tbody></table>"
      ],
      "text/plain": [
       "<pandas.io.formats.style.Styler at 0x7f4539384c88>"
      ]
     },
     "execution_count": 70,
     "metadata": {},
     "output_type": "execute_result"
    }
   ],
   "source": [
    "wk_df = display_results(wk_noise_bsl)\n",
    "highlight_df(wk_df)"
   ]
  },
  {
   "cell_type": "code",
   "execution_count": 71,
   "metadata": {},
   "outputs": [],
   "source": [
    "wk_df.to_latex('results/noise_bsl.tab', column_format='l|cccccccc')"
   ]
  },
  {
   "cell_type": "markdown",
   "metadata": {},
   "source": [
    "Regularized embedding with $\\alpha=1$."
   ]
  },
  {
   "cell_type": "code",
   "execution_count": 66,
   "metadata": {},
   "outputs": [],
   "source": [
    "wk_noise_reg = test_noise(spectral, wikipedia, wikipedia_truth, wikipedia_K_true)"
   ]
  },
  {
   "cell_type": "code",
   "execution_count": 67,
   "metadata": {},
   "outputs": [
    {
     "data": {
      "text/html": [
       "<style  type=\"text/css\" >\n",
       "    #T_b0d83b00_decb_11e9_b04d_645d86470c16row0_col1 {\n",
       "            background-color:  yellow;\n",
       "        }    #T_b0d83b00_decb_11e9_b04d_645d86470c16row0_col4 {\n",
       "            background-color:  yellow;\n",
       "        }    #T_b0d83b00_decb_11e9_b04d_645d86470c16row0_col5 {\n",
       "            background-color:  yellow;\n",
       "        }    #T_b0d83b00_decb_11e9_b04d_645d86470c16row0_col6 {\n",
       "            background-color:  yellow;\n",
       "        }    #T_b0d83b00_decb_11e9_b04d_645d86470c16row1_col0 {\n",
       "            background-color:  yellow;\n",
       "        }    #T_b0d83b00_decb_11e9_b04d_645d86470c16row1_col1 {\n",
       "            background-color:  yellow;\n",
       "        }    #T_b0d83b00_decb_11e9_b04d_645d86470c16row1_col2 {\n",
       "            background-color:  yellow;\n",
       "        }    #T_b0d83b00_decb_11e9_b04d_645d86470c16row1_col4 {\n",
       "            background-color:  yellow;\n",
       "        }    #T_b0d83b00_decb_11e9_b04d_645d86470c16row1_col5 {\n",
       "            background-color:  yellow;\n",
       "        }    #T_b0d83b00_decb_11e9_b04d_645d86470c16row1_col6 {\n",
       "            background-color:  yellow;\n",
       "        }    #T_b0d83b00_decb_11e9_b04d_645d86470c16row2_col3 {\n",
       "            background-color:  yellow;\n",
       "        }    #T_b0d83b00_decb_11e9_b04d_645d86470c16row2_col5 {\n",
       "            background-color:  yellow;\n",
       "        }    #T_b0d83b00_decb_11e9_b04d_645d86470c16row2_col6 {\n",
       "            background-color:  yellow;\n",
       "        }    #T_b0d83b00_decb_11e9_b04d_645d86470c16row2_col7 {\n",
       "            background-color:  yellow;\n",
       "        }    #T_b0d83b00_decb_11e9_b04d_645d86470c16row3_col0 {\n",
       "            background-color:  yellow;\n",
       "        }    #T_b0d83b00_decb_11e9_b04d_645d86470c16row3_col3 {\n",
       "            background-color:  yellow;\n",
       "        }    #T_b0d83b00_decb_11e9_b04d_645d86470c16row3_col4 {\n",
       "            background-color:  yellow;\n",
       "        }    #T_b0d83b00_decb_11e9_b04d_645d86470c16row3_col5 {\n",
       "            background-color:  yellow;\n",
       "        }    #T_b0d83b00_decb_11e9_b04d_645d86470c16row3_col6 {\n",
       "            background-color:  yellow;\n",
       "        }    #T_b0d83b00_decb_11e9_b04d_645d86470c16row3_col7 {\n",
       "            background-color:  yellow;\n",
       "        }</style><table id=\"T_b0d83b00_decb_11e9_b04d_645d86470c16\" ><thead>    <tr>        <th class=\"blank level0\" ></th>        <th class=\"col_heading level0 col0\" >H</th>        <th class=\"col_heading level0 col1\" >C</th>        <th class=\"col_heading level0 col2\" >V</th>        <th class=\"col_heading level0 col3\" >ARI</th>        <th class=\"col_heading level0 col4\" >AMI</th>        <th class=\"col_heading level0 col5\" >FMI</th>        <th class=\"col_heading level0 col6\" >Q</th>        <th class=\"col_heading level0 col7\" >std</th>    </tr></thead><tbody>\n",
       "                <tr>\n",
       "                        <th id=\"T_b0d83b00_decb_11e9_b04d_645d86470c16level0_row0\" class=\"row_heading level0 row0\" >0.0</th>\n",
       "                        <td id=\"T_b0d83b00_decb_11e9_b04d_645d86470c16row0_col0\" class=\"data row0 col0\" >0.23</td>\n",
       "                        <td id=\"T_b0d83b00_decb_11e9_b04d_645d86470c16row0_col1\" class=\"data row0 col1\" >0.24</td>\n",
       "                        <td id=\"T_b0d83b00_decb_11e9_b04d_645d86470c16row0_col2\" class=\"data row0 col2\" >0.23</td>\n",
       "                        <td id=\"T_b0d83b00_decb_11e9_b04d_645d86470c16row0_col3\" class=\"data row0 col3\" >0.04</td>\n",
       "                        <td id=\"T_b0d83b00_decb_11e9_b04d_645d86470c16row0_col4\" class=\"data row0 col4\" >0.23</td>\n",
       "                        <td id=\"T_b0d83b00_decb_11e9_b04d_645d86470c16row0_col5\" class=\"data row0 col5\" >0.2</td>\n",
       "                        <td id=\"T_b0d83b00_decb_11e9_b04d_645d86470c16row0_col6\" class=\"data row0 col6\" >0.3</td>\n",
       "                        <td id=\"T_b0d83b00_decb_11e9_b04d_645d86470c16row0_col7\" class=\"data row0 col7\" >0.65</td>\n",
       "            </tr>\n",
       "            <tr>\n",
       "                        <th id=\"T_b0d83b00_decb_11e9_b04d_645d86470c16level0_row1\" class=\"row_heading level0 row1\" >0.01</th>\n",
       "                        <td id=\"T_b0d83b00_decb_11e9_b04d_645d86470c16row1_col0\" class=\"data row1 col0\" >0.24</td>\n",
       "                        <td id=\"T_b0d83b00_decb_11e9_b04d_645d86470c16row1_col1\" class=\"data row1 col1\" >0.24</td>\n",
       "                        <td id=\"T_b0d83b00_decb_11e9_b04d_645d86470c16row1_col2\" class=\"data row1 col2\" >0.24</td>\n",
       "                        <td id=\"T_b0d83b00_decb_11e9_b04d_645d86470c16row1_col3\" class=\"data row1 col3\" >0.04</td>\n",
       "                        <td id=\"T_b0d83b00_decb_11e9_b04d_645d86470c16row1_col4\" class=\"data row1 col4\" >0.23</td>\n",
       "                        <td id=\"T_b0d83b00_decb_11e9_b04d_645d86470c16row1_col5\" class=\"data row1 col5\" >0.2</td>\n",
       "                        <td id=\"T_b0d83b00_decb_11e9_b04d_645d86470c16row1_col6\" class=\"data row1 col6\" >0.3</td>\n",
       "                        <td id=\"T_b0d83b00_decb_11e9_b04d_645d86470c16row1_col7\" class=\"data row1 col7\" >0.66</td>\n",
       "            </tr>\n",
       "            <tr>\n",
       "                        <th id=\"T_b0d83b00_decb_11e9_b04d_645d86470c16level0_row2\" class=\"row_heading level0 row2\" >0.05</th>\n",
       "                        <td id=\"T_b0d83b00_decb_11e9_b04d_645d86470c16row2_col0\" class=\"data row2 col0\" >0.23</td>\n",
       "                        <td id=\"T_b0d83b00_decb_11e9_b04d_645d86470c16row2_col1\" class=\"data row2 col1\" >0.23</td>\n",
       "                        <td id=\"T_b0d83b00_decb_11e9_b04d_645d86470c16row2_col2\" class=\"data row2 col2\" >0.23</td>\n",
       "                        <td id=\"T_b0d83b00_decb_11e9_b04d_645d86470c16row2_col3\" class=\"data row2 col3\" >0.05</td>\n",
       "                        <td id=\"T_b0d83b00_decb_11e9_b04d_645d86470c16row2_col4\" class=\"data row2 col4\" >0.22</td>\n",
       "                        <td id=\"T_b0d83b00_decb_11e9_b04d_645d86470c16row2_col5\" class=\"data row2 col5\" >0.2</td>\n",
       "                        <td id=\"T_b0d83b00_decb_11e9_b04d_645d86470c16row2_col6\" class=\"data row2 col6\" >0.3</td>\n",
       "                        <td id=\"T_b0d83b00_decb_11e9_b04d_645d86470c16row2_col7\" class=\"data row2 col7\" >0.67</td>\n",
       "            </tr>\n",
       "            <tr>\n",
       "                        <th id=\"T_b0d83b00_decb_11e9_b04d_645d86470c16level0_row3\" class=\"row_heading level0 row3\" >0.1</th>\n",
       "                        <td id=\"T_b0d83b00_decb_11e9_b04d_645d86470c16row3_col0\" class=\"data row3 col0\" >0.24</td>\n",
       "                        <td id=\"T_b0d83b00_decb_11e9_b04d_645d86470c16row3_col1\" class=\"data row3 col1\" >0.23</td>\n",
       "                        <td id=\"T_b0d83b00_decb_11e9_b04d_645d86470c16row3_col2\" class=\"data row3 col2\" >0.23</td>\n",
       "                        <td id=\"T_b0d83b00_decb_11e9_b04d_645d86470c16row3_col3\" class=\"data row3 col3\" >0.05</td>\n",
       "                        <td id=\"T_b0d83b00_decb_11e9_b04d_645d86470c16row3_col4\" class=\"data row3 col4\" >0.23</td>\n",
       "                        <td id=\"T_b0d83b00_decb_11e9_b04d_645d86470c16row3_col5\" class=\"data row3 col5\" >0.2</td>\n",
       "                        <td id=\"T_b0d83b00_decb_11e9_b04d_645d86470c16row3_col6\" class=\"data row3 col6\" >0.3</td>\n",
       "                        <td id=\"T_b0d83b00_decb_11e9_b04d_645d86470c16row3_col7\" class=\"data row3 col7\" >0.67</td>\n",
       "            </tr>\n",
       "    </tbody></table>"
      ],
      "text/plain": [
       "<pandas.io.formats.style.Styler at 0x7f45393e5dd8>"
      ]
     },
     "execution_count": 67,
     "metadata": {},
     "output_type": "execute_result"
    }
   ],
   "source": [
    "wk_df = display_results(wk_noise_reg)\n",
    "highlight_df(wk_df)"
   ]
  },
  {
   "cell_type": "code",
   "execution_count": 69,
   "metadata": {},
   "outputs": [],
   "source": [
    "wk_df.to_latex('results/noise_reg.tab', column_format='l|cccccccc')"
   ]
  }
 ],
 "metadata": {
  "kernelspec": {
   "display_name": "Python 3",
   "language": "python",
   "name": "python3"
  },
  "language_info": {
   "codemirror_mode": {
    "name": "ipython",
    "version": 3
   },
   "file_extension": ".py",
   "mimetype": "text/x-python",
   "name": "python",
   "nbconvert_exporter": "python",
   "pygments_lexer": "ipython3",
   "version": "3.7.3"
  }
 },
 "nbformat": 4,
 "nbformat_minor": 2
}
